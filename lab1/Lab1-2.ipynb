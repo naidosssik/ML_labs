{
 "cells": [
  {
   "cell_type": "markdown",
   "id": "ec6e7d18-6a6e-4a51-a7cd-0a1152604973",
   "metadata": {},
   "source": [
    "## Лабораторная работа №1 | Вариант 2"
   ]
  },
  {
   "cell_type": "markdown",
   "id": "277877ce-f982-4711-a6a6-2a4a90871409",
   "metadata": {},
   "source": [
    "Выполнил: Касумова Наида, группа М8О-303Б-22"
   ]
  },
  {
   "cell_type": "markdown",
   "id": "031f025d-84dc-470f-b839-456a76d9636b",
   "metadata": {},
   "source": [
    "### 1. Numpy"
   ]
  },
  {
   "cell_type": "code",
   "execution_count": 53,
   "id": "8a2c6f8d-e85b-4982-ba6d-77ffdb7d53e8",
   "metadata": {},
   "outputs": [],
   "source": [
    "import numpy as np"
   ]
  },
  {
   "cell_type": "markdown",
   "id": "6ff3559d-5f3e-4540-9a31-bfb9f42a23da",
   "metadata": {},
   "source": [
    "1. Создайте матрицу размером 8х8 и заполните ее шахматным рисунком"
   ]
  },
  {
   "cell_type": "code",
   "execution_count": 54,
   "id": "752bc586-1e3f-4085-85c3-4068b781314f",
   "metadata": {},
   "outputs": [
    {
     "name": "stdout",
     "output_type": "stream",
     "text": [
      "[[0 1 0 1 0 1 0 1]\n",
      " [1 0 1 0 1 0 1 0]\n",
      " [0 1 0 1 0 1 0 1]\n",
      " [1 0 1 0 1 0 1 0]\n",
      " [0 1 0 1 0 1 0 1]\n",
      " [1 0 1 0 1 0 1 0]\n",
      " [0 1 0 1 0 1 0 1]\n",
      " [1 0 1 0 1 0 1 0]]\n"
     ]
    }
   ],
   "source": [
    "matrixChess = np.zeros((8, 8), dtype=int)\n",
    "\n",
    "matrixChess[1::2, ::2] = 1\n",
    "matrixChess[::2, 1::2] = 1\n",
    "\n",
    "print(matrixChess)"
   ]
  },
  {
   "cell_type": "markdown",
   "id": "0243a0f6-1905-4e2d-9572-9ba49dc003a8",
   "metadata": {},
   "source": [
    "2. Каков результат выполнения следующих выражений?\n",
    "\n",
    "```python\n",
    "np.array(0) / np.array(0)\n",
    "np.array(0) // np.array(0)\n",
    "np.array([np.nan]).astype(int).astype(float)\n",
    "```"
   ]
  },
  {
   "cell_type": "code",
   "execution_count": 55,
   "id": "ec6ae581-5adf-459c-bdc7-8b015d9529f6",
   "metadata": {},
   "outputs": [],
   "source": [
    "# Во всех трех случая возникает RuntimeErrorWarning"
   ]
  },
  {
   "cell_type": "code",
   "execution_count": 56,
   "id": "0af136b4",
   "metadata": {},
   "outputs": [
    {
     "name": "stderr",
     "output_type": "stream",
     "text": [
      "/var/folders/77/n41ltbh911dfbp1fqsms5r_80000gq/T/ipykernel_60661/2531629743.py:1: RuntimeWarning:\n",
      "\n",
      "invalid value encountered in divide\n",
      "\n"
     ]
    },
    {
     "data": {
      "text/plain": [
       "np.float64(nan)"
      ]
     },
     "execution_count": 56,
     "metadata": {},
     "output_type": "execute_result"
    }
   ],
   "source": [
    "np.array(0) / np.array(0)\n",
    "# Обнаружено недопустимое значение при делении"
   ]
  },
  {
   "cell_type": "code",
   "execution_count": 57,
   "id": "08c693c2",
   "metadata": {},
   "outputs": [
    {
     "name": "stderr",
     "output_type": "stream",
     "text": [
      "/var/folders/77/n41ltbh911dfbp1fqsms5r_80000gq/T/ipykernel_60661/3073155191.py:1: RuntimeWarning:\n",
      "\n",
      "divide by zero encountered in floor_divide\n",
      "\n"
     ]
    },
    {
     "data": {
      "text/plain": [
       "np.int64(0)"
      ]
     },
     "execution_count": 57,
     "metadata": {},
     "output_type": "execute_result"
    }
   ],
   "source": [
    "np.array(0) // np.array(0)\n",
    "# Также обнаружено недопустимое деление, но при делении без остатка"
   ]
  },
  {
   "cell_type": "code",
   "execution_count": 58,
   "id": "a680f7e4",
   "metadata": {},
   "outputs": [
    {
     "name": "stderr",
     "output_type": "stream",
     "text": [
      "/var/folders/77/n41ltbh911dfbp1fqsms5r_80000gq/T/ipykernel_60661/46106280.py:1: RuntimeWarning:\n",
      "\n",
      "invalid value encountered in cast\n",
      "\n"
     ]
    },
    {
     "data": {
      "text/plain": [
       "array([0.])"
      ]
     },
     "execution_count": 58,
     "metadata": {},
     "output_type": "execute_result"
    }
   ],
   "source": [
    "np.array([np.nan]).astype(int).astype(float)\n",
    "# Получено недопустимое значение при приведении типов"
   ]
  },
  {
   "cell_type": "markdown",
   "id": "8c7d3811-a555-4c02-ada8-e4a70b9dee46",
   "metadata": {},
   "source": [
    "3. Создайте матрицу-шахматную доску 8х8 используя функцию `tile`"
   ]
  },
  {
   "cell_type": "code",
   "execution_count": 59,
   "id": "12d0ed34-908c-4840-8b81-457e64dd7b0b",
   "metadata": {},
   "outputs": [
    {
     "name": "stdout",
     "output_type": "stream",
     "text": [
      "[[0 1 0 1 0 1 0 1]\n",
      " [1 0 1 0 1 0 1 0]\n",
      " [0 1 0 1 0 1 0 1]\n",
      " [1 0 1 0 1 0 1 0]\n",
      " [0 1 0 1 0 1 0 1]\n",
      " [1 0 1 0 1 0 1 0]\n",
      " [0 1 0 1 0 1 0 1]\n",
      " [1 0 1 0 1 0 1 0]]\n"
     ]
    }
   ],
   "source": [
    "matrixChessTile = np.tile([[0, 1], [1, 0]], (4, 4))\n",
    "\n",
    "print(matrixChessTile)"
   ]
  },
  {
   "cell_type": "markdown",
   "id": "b7ca56e6-a194-4c42-b8a2-307fcf40f648",
   "metadata": {},
   "source": [
    "4. Как округлить до целых массив чисел с плавающей точкой?"
   ]
  },
  {
   "cell_type": "code",
   "execution_count": 60,
   "id": "1b1d64cd-0e28-400f-8d49-a1274947e150",
   "metadata": {},
   "outputs": [
    {
     "name": "stdout",
     "output_type": "stream",
     "text": [
      "[[9.1537106  3.1624981  8.25288373]]\n",
      "[[9. 3. 8.]]\n"
     ]
    }
   ],
   "source": [
    "arrRandom = np.random.rand(1, 3) * 10\n",
    "\n",
    "arrRounded = np.round(arrRandom)\n",
    "\n",
    "print(arrRandom)\n",
    "print(arrRounded)"
   ]
  },
  {
   "cell_type": "markdown",
   "id": "b3b2cd1e-e996-45e0-b9ed-e12ce653a9c3",
   "metadata": {},
   "source": [
    "5. Как найти общие значения между двумя массивами?"
   ]
  },
  {
   "cell_type": "code",
   "execution_count": 61,
   "id": "c40ef785-d750-42ba-ac6e-b777866202a6",
   "metadata": {},
   "outputs": [
    {
     "name": "stdout",
     "output_type": "stream",
     "text": [
      "[3 4 5]\n"
     ]
    }
   ],
   "source": [
    "arr1 = np.array([1, 2, 3, 4, 5])\n",
    "arr2 = np.array([3, 4, 5, 6, 7])\n",
    "\n",
    "commonValues = np.intersect1d(arr1, arr2)\n",
    "\n",
    "print(commonValues)"
   ]
  },
  {
   "cell_type": "markdown",
   "id": "8108b3a8-5ba8-472d-ad6b-095ade8678ef",
   "metadata": {},
   "source": [
    "6. Как вычислить ((A+B)*(-A/2)) на месте (без копирования)?"
   ]
  },
  {
   "cell_type": "code",
   "execution_count": 62,
   "id": "89b58c0a-bd5d-435a-be45-719fdfce662a",
   "metadata": {},
   "outputs": [
    {
     "name": "stdout",
     "output_type": "stream",
     "text": [
      "[[5.69568585 5.0535117  5.99844595]] [[7.5831596  6.65112102 5.12848885]]\n",
      "[[-6.63942273 -5.85231636 -5.5634674 ]]\n"
     ]
    }
   ],
   "source": [
    "A = np.random.rand(1, 3) * 10\n",
    "B = np.random.rand(1, 3) * 10\n",
    "\n",
    "print(A, B)\n",
    "\n",
    "np.add(A, B, out=A)      # A = A + B\n",
    "np.negative(A, out=A)    # A = -A\n",
    "np.divide(A, 2, out=A)   # A = A / 2\n",
    "\n",
    "print(A)"
   ]
  },
  {
   "cell_type": "markdown",
   "id": "98511652-db85-4506-a5b8-f94b05d35ce9",
   "metadata": {},
   "source": [
    "7. Рассмотрим случайный вектор с формой 100х2, представляющей координаты, и найдем расстояния от точки к точке"
   ]
  },
  {
   "cell_type": "code",
   "execution_count": 63,
   "id": "ca72cdb0-ed24-460d-81a9-220b850d62c3",
   "metadata": {},
   "outputs": [
    {
     "name": "stdout",
     "output_type": "stream",
     "text": [
      "[[0.         0.37291621 0.2199329  ... 0.24009671 0.03320888 0.43056838]\n",
      " [0.37291621 0.         0.28084279 ... 0.13632044 0.3426028  0.10536172]\n",
      " [0.2199329  0.28084279 0.         ... 0.1684524  0.21180692 0.28353175]\n",
      " ...\n",
      " [0.24009671 0.13632044 0.1684524  ... 0.         0.21163918 0.19420301]\n",
      " [0.03320888 0.3426028  0.21180692 ... 0.21163918 0.         0.4040559 ]\n",
      " [0.43056838 0.10536172 0.28353175 ... 0.19420301 0.4040559  0.        ]]\n"
     ]
    }
   ],
   "source": [
    "coordinates = np.random.random((100, 2))\n",
    "\n",
    "distances = np.sqrt(((coordinates[:, np.newaxis] - coordinates[np.newaxis, :]) ** 2).sum(axis=2))\n",
    "\n",
    "print(distances)"
   ]
  },
  {
   "cell_type": "markdown",
   "id": "1412a70a-2a1e-406e-a227-afc9a47ed659",
   "metadata": {},
   "source": [
    "8. Как конвертировать массив float(32 bit) к массиву целых чисел (integer 32 bit) in place?"
   ]
  },
  {
   "cell_type": "code",
   "execution_count": 64,
   "id": "22bb8bbf-52dd-4d3c-86c0-c4e9637b909b",
   "metadata": {},
   "outputs": [
    {
     "name": "stdout",
     "output_type": "stream",
     "text": [
      "[1.5 2.7 3.2]\n",
      "[1 2 3]\n"
     ]
    }
   ],
   "source": [
    "arrFloat = np.array([1.5, 2.7, 3.2], dtype=np.float32)\n",
    "print(arrFloat)\n",
    "\n",
    "arrFloat = arrFloat.astype(np.int32, copy=False)\n",
    "\n",
    "print(arrFloat)"
   ]
  },
  {
   "cell_type": "markdown",
   "id": "f7dc66bf-f7c8-4d78-834b-451651f6839a",
   "metadata": {},
   "source": [
    "9. Создайте структурированный массив, представляющий позицию (x, y) и цвет (r, g, b)."
   ]
  },
  {
   "cell_type": "code",
   "execution_count": 65,
   "id": "0ecf5586-d30e-4256-ab93-7ff9bab0b34b",
   "metadata": {},
   "outputs": [
    {
     "name": "stdout",
     "output_type": "stream",
     "text": [
      "[((0., 0.), (0., 0., 0.)) ((0., 0.), (0., 0., 0.))]\n",
      "[((10., 100.), (255., 255., 255.)) (( 0.,   0.), (  0.,   0.,   0.))]\n"
     ]
    }
   ],
   "source": [
    "typeScalar = np.dtype('float32')\n",
    "\n",
    "arrType = np.dtype([('position', \n",
    "                            [('x', typeScalar),\n",
    "                             ('y', typeScalar)]),\n",
    "                        ('color', \n",
    "                            [('r', typeScalar),\n",
    "                             ('g', typeScalar),\n",
    "                             ('b', typeScalar)])\n",
    "                        ])\n",
    "arr = np.zeros(2,  arrType)    \n",
    "print(arr)\n",
    "\n",
    "arr[0] = ((10., 100.), (255., 255., 255.))\n",
    "print(arr)"
   ]
  },
  {
   "cell_type": "markdown",
   "id": "a66194f1-0099-4808-8ebf-5cf10eee5071",
   "metadata": {},
   "source": [
    "10. Какой эквивалент enumerate для numpy массивов?"
   ]
  },
  {
   "cell_type": "code",
   "execution_count": 66,
   "id": "07ed452c-3f7c-40a7-a5b5-716602a5eed9",
   "metadata": {},
   "outputs": [
    {
     "data": {
      "text/plain": [
       "<numpy.ndenumerate at 0x286227f50>"
      ]
     },
     "execution_count": 66,
     "metadata": {},
     "output_type": "execute_result"
    }
   ],
   "source": [
    "np.ndenumerate(arr)"
   ]
  },
  {
   "cell_type": "markdown",
   "id": "5bd0f757-bb01-4afb-b4f0-6821b5c5b2b7",
   "metadata": {},
   "source": [
    "### 2. Pandas"
   ]
  },
  {
   "cell_type": "markdown",
   "id": "bdffd013-e573-4318-8062-65ae1c5e07e8",
   "metadata": {},
   "source": [
    "Найдите ответы на вопросы или выполните действия с предложенным датасетом \n",
    "\n",
    "Данные о преступлениях, совершенных женщинами в Индии, с демографическими подробностями.\n",
    "\n",
    "Файл: `CrimesOnWomenData.csv`\n",
    "\n",
    "```\n",
    "State - название штата/региона\n",
    "Year - год записи\n",
    "Rape - случаи изнасилования\n",
    "K&A - случаи похищения \n",
    "DD - смерти из-за приданого\n",
    "AoW - нападение на женщин\n",
    "AoM - нападение на женскую скромность(modestity)\n",
    "DV - бытовое насилие\n",
    "WT - торговля женщинами\n",
    "```"
   ]
  },
  {
   "cell_type": "code",
   "execution_count": 67,
   "id": "0778ec2b-a7b2-4738-b771-bb1781986f62",
   "metadata": {},
   "outputs": [],
   "source": [
    "import pandas as pd"
   ]
  },
  {
   "cell_type": "code",
   "execution_count": 68,
   "id": "bfc45614-d44b-49bd-a55c-c410a95a808f",
   "metadata": {},
   "outputs": [
    {
     "data": {
      "text/html": [
       "<div>\n",
       "<style scoped>\n",
       "    .dataframe tbody tr th:only-of-type {\n",
       "        vertical-align: middle;\n",
       "    }\n",
       "\n",
       "    .dataframe tbody tr th {\n",
       "        vertical-align: top;\n",
       "    }\n",
       "\n",
       "    .dataframe thead th {\n",
       "        text-align: right;\n",
       "    }\n",
       "</style>\n",
       "<table border=\"1\" class=\"dataframe\">\n",
       "  <thead>\n",
       "    <tr style=\"text-align: right;\">\n",
       "      <th></th>\n",
       "      <th>Unnamed: 0</th>\n",
       "      <th>State</th>\n",
       "      <th>Year</th>\n",
       "      <th>Rape</th>\n",
       "      <th>K&amp;A</th>\n",
       "      <th>DD</th>\n",
       "      <th>AoW</th>\n",
       "      <th>AoM</th>\n",
       "      <th>DV</th>\n",
       "      <th>WT</th>\n",
       "    </tr>\n",
       "  </thead>\n",
       "  <tbody>\n",
       "    <tr>\n",
       "      <th>0</th>\n",
       "      <td>0</td>\n",
       "      <td>ANDHRA PRADESH</td>\n",
       "      <td>2001</td>\n",
       "      <td>871</td>\n",
       "      <td>765</td>\n",
       "      <td>420</td>\n",
       "      <td>3544</td>\n",
       "      <td>2271</td>\n",
       "      <td>5791</td>\n",
       "      <td>7</td>\n",
       "    </tr>\n",
       "    <tr>\n",
       "      <th>1</th>\n",
       "      <td>1</td>\n",
       "      <td>ARUNACHAL PRADESH</td>\n",
       "      <td>2001</td>\n",
       "      <td>33</td>\n",
       "      <td>55</td>\n",
       "      <td>0</td>\n",
       "      <td>78</td>\n",
       "      <td>3</td>\n",
       "      <td>11</td>\n",
       "      <td>0</td>\n",
       "    </tr>\n",
       "    <tr>\n",
       "      <th>2</th>\n",
       "      <td>2</td>\n",
       "      <td>ASSAM</td>\n",
       "      <td>2001</td>\n",
       "      <td>817</td>\n",
       "      <td>1070</td>\n",
       "      <td>59</td>\n",
       "      <td>850</td>\n",
       "      <td>4</td>\n",
       "      <td>1248</td>\n",
       "      <td>0</td>\n",
       "    </tr>\n",
       "    <tr>\n",
       "      <th>3</th>\n",
       "      <td>3</td>\n",
       "      <td>BIHAR</td>\n",
       "      <td>2001</td>\n",
       "      <td>888</td>\n",
       "      <td>518</td>\n",
       "      <td>859</td>\n",
       "      <td>562</td>\n",
       "      <td>21</td>\n",
       "      <td>1558</td>\n",
       "      <td>83</td>\n",
       "    </tr>\n",
       "    <tr>\n",
       "      <th>4</th>\n",
       "      <td>4</td>\n",
       "      <td>CHHATTISGARH</td>\n",
       "      <td>2001</td>\n",
       "      <td>959</td>\n",
       "      <td>171</td>\n",
       "      <td>70</td>\n",
       "      <td>1763</td>\n",
       "      <td>161</td>\n",
       "      <td>840</td>\n",
       "      <td>0</td>\n",
       "    </tr>\n",
       "    <tr>\n",
       "      <th>5</th>\n",
       "      <td>5</td>\n",
       "      <td>GOA</td>\n",
       "      <td>2001</td>\n",
       "      <td>12</td>\n",
       "      <td>6</td>\n",
       "      <td>2</td>\n",
       "      <td>17</td>\n",
       "      <td>7</td>\n",
       "      <td>11</td>\n",
       "      <td>0</td>\n",
       "    </tr>\n",
       "    <tr>\n",
       "      <th>6</th>\n",
       "      <td>6</td>\n",
       "      <td>GUJARAT</td>\n",
       "      <td>2001</td>\n",
       "      <td>286</td>\n",
       "      <td>857</td>\n",
       "      <td>67</td>\n",
       "      <td>756</td>\n",
       "      <td>111</td>\n",
       "      <td>3667</td>\n",
       "      <td>0</td>\n",
       "    </tr>\n",
       "    <tr>\n",
       "      <th>7</th>\n",
       "      <td>7</td>\n",
       "      <td>HARYANA</td>\n",
       "      <td>2001</td>\n",
       "      <td>398</td>\n",
       "      <td>297</td>\n",
       "      <td>285</td>\n",
       "      <td>478</td>\n",
       "      <td>401</td>\n",
       "      <td>1513</td>\n",
       "      <td>0</td>\n",
       "    </tr>\n",
       "    <tr>\n",
       "      <th>8</th>\n",
       "      <td>8</td>\n",
       "      <td>HIMACHAL PRADESH</td>\n",
       "      <td>2001</td>\n",
       "      <td>124</td>\n",
       "      <td>105</td>\n",
       "      <td>10</td>\n",
       "      <td>310</td>\n",
       "      <td>14</td>\n",
       "      <td>317</td>\n",
       "      <td>0</td>\n",
       "    </tr>\n",
       "    <tr>\n",
       "      <th>9</th>\n",
       "      <td>9</td>\n",
       "      <td>JAMMU &amp; KASHMIR</td>\n",
       "      <td>2001</td>\n",
       "      <td>169</td>\n",
       "      <td>504</td>\n",
       "      <td>13</td>\n",
       "      <td>622</td>\n",
       "      <td>288</td>\n",
       "      <td>50</td>\n",
       "      <td>0</td>\n",
       "    </tr>\n",
       "  </tbody>\n",
       "</table>\n",
       "</div>"
      ],
      "text/plain": [
       "   Unnamed: 0              State  Year  Rape   K&A   DD   AoW   AoM    DV  WT\n",
       "0           0     ANDHRA PRADESH  2001   871   765  420  3544  2271  5791   7\n",
       "1           1  ARUNACHAL PRADESH  2001    33    55    0    78     3    11   0\n",
       "2           2              ASSAM  2001   817  1070   59   850     4  1248   0\n",
       "3           3              BIHAR  2001   888   518  859   562    21  1558  83\n",
       "4           4       CHHATTISGARH  2001   959   171   70  1763   161   840   0\n",
       "5           5                GOA  2001    12     6    2    17     7    11   0\n",
       "6           6            GUJARAT  2001   286   857   67   756   111  3667   0\n",
       "7           7            HARYANA  2001   398   297  285   478   401  1513   0\n",
       "8           8   HIMACHAL PRADESH  2001   124   105   10   310    14   317   0\n",
       "9           9    JAMMU & KASHMIR  2001   169   504   13   622   288    50   0"
      ]
     },
     "execution_count": 68,
     "metadata": {},
     "output_type": "execute_result"
    }
   ],
   "source": [
    "data = \"CrimesOnWomenData.csv\"\n",
    "df = pd.read_csv(data)\n",
    "df.head(n = 10)"
   ]
  },
  {
   "cell_type": "markdown",
   "id": "1026e8c6-513a-41e3-b2f4-68aae18b8435",
   "metadata": {},
   "source": [
    "1. За какие года представлен набор данных?"
   ]
  },
  {
   "cell_type": "code",
   "execution_count": 69,
   "id": "e74655aa-b97c-42e5-b972-e0753ddc2331",
   "metadata": {},
   "outputs": [
    {
     "name": "stdout",
     "output_type": "stream",
     "text": [
      "c 2001 по 2021\n"
     ]
    }
   ],
   "source": [
    "year = df['Year']\n",
    "\n",
    "print('c', np.min(year), 'по', np.max(year))"
   ]
  },
  {
   "cell_type": "markdown",
   "id": "eee028a5-9311-4a4f-b4ac-1fb75acfb4b3",
   "metadata": {},
   "source": [
    "2. Выявите район с самым высоким количеством убийств женщин"
   ]
  },
  {
   "cell_type": "code",
   "execution_count": 70,
   "id": "ac0fb641-96d2-4e7c-88d5-636ce3b699d2",
   "metadata": {},
   "outputs": [
    {
     "name": "stdout",
     "output_type": "stream",
     "text": [
      "             State    DD\n",
      "582  Uttar Pradesh  2524\n"
     ]
    }
   ],
   "source": [
    "maxKillWomen = np.max(df['DD'])\n",
    "\n",
    "print(df[df['DD'] == maxKillWomen][['State', 'DD']])"
   ]
  },
  {
   "cell_type": "markdown",
   "id": "cd7979ba-2fa8-4fd3-986d-26cee122da1f",
   "metadata": {},
   "source": [
    "3. Какое среднее число изнасилований женщин в индии наблюдалось в указанные года?"
   ]
  },
  {
   "cell_type": "code",
   "execution_count": 71,
   "id": "3915f77b-116c-482b-8644-2f5f11931af9",
   "metadata": {},
   "outputs": [
    {
     "name": "stdout",
     "output_type": "stream",
     "text": [
      "727.8559782608696\n"
     ]
    }
   ],
   "source": [
    "avgRapeWomen = np.average(df['Rape'])\n",
    "\n",
    "print(avgRapeWomen)"
   ]
  },
  {
   "cell_type": "markdown",
   "id": "1b69ba67-61a8-4765-9795-cfab1a09e929",
   "metadata": {},
   "source": [
    "4. Выявите район с минимальным числом похищений за период 2001-2003 года"
   ]
  },
  {
   "cell_type": "code",
   "execution_count": 72,
   "id": "1228d2e9-fc56-4240-95c6-c98a8b84c016",
   "metadata": {},
   "outputs": [
    {
     "name": "stdout",
     "output_type": "stream",
     "text": [
      "LAKSHADWEEP\n"
     ]
    }
   ],
   "source": [
    "KA = df[df['Year'].between(2001, 2003)]\n",
    "filteredKA = KA.groupby('State').sum()\n",
    "minKA = filteredKA['K&A'].idxmin()\n",
    "\n",
    "print(minKA)"
   ]
  },
  {
   "cell_type": "markdown",
   "id": "5acec4fd-f740-49a8-a5d8-562d358239c9",
   "metadata": {},
   "source": [
    "5. Перечислите районы в которых наблюдались наиболее частые случае домашнего насилия за период с 2005 по 2012 года"
   ]
  },
  {
   "cell_type": "code",
   "execution_count": 73,
   "id": "cac8daef-f4e8-4c8b-b7f4-d41a6adf35ed",
   "metadata": {},
   "outputs": [
    {
     "name": "stdout",
     "output_type": "stream",
     "text": [
      "                Unnamed: 0   Year   Rape    K&A     DD    AoW    AoM     DV  \\\n",
      "State                                                                         \n",
      "WEST BENGAL           1488  12045  12433  10686   2806  12493    581  71821   \n",
      "ANDHRA PRADESH        1326  12045   6861   8341   3265  27046  19868  62878   \n",
      "RAJASTHAN             1452  12045   7761  11446   2531  14906    153  50834   \n",
      "MAHARASHTRA           1410  12045   9136   5787   2288  20489   6312  43271   \n",
      "UTTAR PRADESH         1476  12045   9372  23155  12124  14983  14386  42215   \n",
      "\n",
      "                WT  \n",
      "State               \n",
      "WEST BENGAL     85  \n",
      "ANDHRA PRADESH   3  \n",
      "RAJASTHAN        3  \n",
      "MAHARASHTRA      1  \n",
      "UTTAR PRADESH    0  \n"
     ]
    }
   ],
   "source": [
    "DV = df[df['Year'].between(2005, 2012)].groupby('State').sum()\n",
    "sortDV = DV.sort_values(by='DV', ascending=False)\n",
    "\n",
    "print(sortDV.head())"
   ]
  },
  {
   "cell_type": "markdown",
   "id": "8d6171a9-0f75-4f3e-ac54-95d03d1f70b6",
   "metadata": {},
   "source": [
    "6. Выведите названия районов в порядке не возрастания случаев торговли женщинами за 2020 год"
   ]
  },
  {
   "cell_type": "code",
   "execution_count": 74,
   "id": "c64d0892-2fb8-4304-966c-5cbb32b03c0a",
   "metadata": {},
   "outputs": [
    {
     "name": "stdout",
     "output_type": "stream",
     "text": [
      "686            Sikkim\n",
      "674         Jharkhand\n",
      "677    Madhya Pradesh\n",
      "684            Punjab\n",
      "691       Uttarakhand\n",
      "Name: State, dtype: object\n"
     ]
    }
   ],
   "source": [
    "WT = df[df['Year'] == 2020].sort_values(by='WT', ascending=False)\n",
    "sortWT = WT['State'].head()\n",
    "\n",
    "print(sortWT)"
   ]
  },
  {
   "cell_type": "markdown",
   "id": "a24c2f59-eeaf-47fd-8224-1023d1a8edeb",
   "metadata": {},
   "source": [
    "Перейдем к следующему набору данных.\n",
    "\n",
    "Файл: `CustomerPurchasingBehaviors.csv`\n",
    "\n",
    "Этот набор данных содержит информацию о профилях клиентов и их покупательском поведении. Данные содержат столбцы, содержащие идентификатор пользователя, возраст, годовой доход, сумму покупки, показатель лояльности (в разбивке по классам), регион и частоту покупок. Он предназначен для анализа тенденций сегментации клиентов и лояльности и может быть использован для различных задач машинного обучения и анализа данных, связанных с поведением клиентов и исследованиями рынка.\n",
    "\n",
    "```\n",
    "user_id - ID клиента\n",
    "age - Возраст\n",
    "annual_income - Годовой доход клиента (в долларах США).\n",
    "purchase_amount - Общая сумма покупок, совершенных клиентом (в долларах США).\n",
    "loyalty_score - Показатель лояльности клиента (значение от 0 до 100).\n",
    "region - Регион, в котором проживает клиент (Север, Юг, Восток, Запад).\n",
    "purchase_frequency - Частота покупок клиентов (количество раз в год).\n",
    "```"
   ]
  },
  {
   "cell_type": "code",
   "execution_count": 75,
   "id": "7407fc92-f656-44b4-bc3a-b86d0a8664ea",
   "metadata": {},
   "outputs": [
    {
     "data": {
      "text/html": [
       "<div>\n",
       "<style scoped>\n",
       "    .dataframe tbody tr th:only-of-type {\n",
       "        vertical-align: middle;\n",
       "    }\n",
       "\n",
       "    .dataframe tbody tr th {\n",
       "        vertical-align: top;\n",
       "    }\n",
       "\n",
       "    .dataframe thead th {\n",
       "        text-align: right;\n",
       "    }\n",
       "</style>\n",
       "<table border=\"1\" class=\"dataframe\">\n",
       "  <thead>\n",
       "    <tr style=\"text-align: right;\">\n",
       "      <th></th>\n",
       "      <th>user_id</th>\n",
       "      <th>age</th>\n",
       "      <th>annual_income</th>\n",
       "      <th>purchase_amount</th>\n",
       "      <th>loyalty_score</th>\n",
       "      <th>region</th>\n",
       "      <th>purchase_frequency</th>\n",
       "    </tr>\n",
       "  </thead>\n",
       "  <tbody>\n",
       "    <tr>\n",
       "      <th>0</th>\n",
       "      <td>1</td>\n",
       "      <td>25</td>\n",
       "      <td>45000</td>\n",
       "      <td>200</td>\n",
       "      <td>4.5</td>\n",
       "      <td>North</td>\n",
       "      <td>12</td>\n",
       "    </tr>\n",
       "    <tr>\n",
       "      <th>1</th>\n",
       "      <td>2</td>\n",
       "      <td>34</td>\n",
       "      <td>55000</td>\n",
       "      <td>350</td>\n",
       "      <td>7.0</td>\n",
       "      <td>South</td>\n",
       "      <td>18</td>\n",
       "    </tr>\n",
       "    <tr>\n",
       "      <th>2</th>\n",
       "      <td>3</td>\n",
       "      <td>45</td>\n",
       "      <td>65000</td>\n",
       "      <td>500</td>\n",
       "      <td>8.0</td>\n",
       "      <td>West</td>\n",
       "      <td>22</td>\n",
       "    </tr>\n",
       "    <tr>\n",
       "      <th>3</th>\n",
       "      <td>4</td>\n",
       "      <td>22</td>\n",
       "      <td>30000</td>\n",
       "      <td>150</td>\n",
       "      <td>3.0</td>\n",
       "      <td>East</td>\n",
       "      <td>10</td>\n",
       "    </tr>\n",
       "    <tr>\n",
       "      <th>4</th>\n",
       "      <td>5</td>\n",
       "      <td>29</td>\n",
       "      <td>47000</td>\n",
       "      <td>220</td>\n",
       "      <td>4.8</td>\n",
       "      <td>North</td>\n",
       "      <td>13</td>\n",
       "    </tr>\n",
       "  </tbody>\n",
       "</table>\n",
       "</div>"
      ],
      "text/plain": [
       "   user_id  age  annual_income  purchase_amount  loyalty_score region  \\\n",
       "0        1   25          45000              200            4.5  North   \n",
       "1        2   34          55000              350            7.0  South   \n",
       "2        3   45          65000              500            8.0   West   \n",
       "3        4   22          30000              150            3.0   East   \n",
       "4        5   29          47000              220            4.8  North   \n",
       "\n",
       "   purchase_frequency  \n",
       "0                  12  \n",
       "1                  18  \n",
       "2                  22  \n",
       "3                  10  \n",
       "4                  13  "
      ]
     },
     "execution_count": 75,
     "metadata": {},
     "output_type": "execute_result"
    }
   ],
   "source": [
    "df = pd.read_csv('CustomerPurchasingBehaviors.csv')\n",
    "df.head()"
   ]
  },
  {
   "cell_type": "markdown",
   "id": "1d447d6e-cfde-411c-9078-cd8f41f02d8b",
   "metadata": {},
   "source": [
    "8. Какой средний годовой доход у клиентов с уровнем лояльности больше 50 живущих на севере"
   ]
  },
  {
   "cell_type": "code",
   "execution_count": 76,
   "id": "1668591d",
   "metadata": {},
   "outputs": [
    {
     "name": "stdout",
     "output_type": "stream",
     "text": [
      "60146.34146341463\n"
     ]
    }
   ],
   "source": [
    "filtInc = df[(df['loyalty_score'] > 5) & (df['region'] == 'North')]\n",
    "avgInc = filtInc['annual_income'].mean()\n",
    "\n",
    "print(avgInc)"
   ]
  },
  {
   "cell_type": "markdown",
   "id": "c41d5d99-65f7-4d17-82ae-971ec959f327",
   "metadata": {},
   "source": [
    "9. Выведите 25 и 75 перцентили уровня лоальности клиентов живущих на западе с частотой покупок более 20 раз в год"
   ]
  },
  {
   "cell_type": "code",
   "execution_count": 77,
   "id": "275bcc04-659b-4521-a9e5-200a5f4ef674",
   "metadata": {},
   "outputs": [
    {
     "name": "stdout",
     "output_type": "stream",
     "text": [
      "0.25    8.5\n",
      "0.75    9.2\n",
      "Name: loyalty_score, dtype: float64\n"
     ]
    }
   ],
   "source": [
    "filtLoyal = df[(df['purchase_frequency'] > 20) & (df['region'] == 'West')]\n",
    "percent = filtLoyal['loyalty_score'].quantile([0.25, 0.75])\n",
    "\n",
    "print(percent)"
   ]
  },
  {
   "cell_type": "markdown",
   "id": "a1f7a5c0-259c-4837-a5d1-2dfc05e7c13e",
   "metadata": {},
   "source": [
    "10. Отличается ли медианный возраст клиентов с уровнем лояльности более 70 и менее 10 для жителей Востока и Севера."
   ]
  },
  {
   "cell_type": "code",
   "execution_count": 78,
   "id": "a2da4d57-edb4-4179-8bee-3deda6cd00e6",
   "metadata": {},
   "outputs": [
    {
     "name": "stdout",
     "output_type": "stream",
     "text": [
      "     user_id  age  annual_income  purchase_amount  loyalty_score region  \\\n",
      "0          1   25          45000              200            4.5  North   \n",
      "3          4   22          30000              150            3.0   East   \n",
      "4          5   29          47000              220            4.8  North   \n",
      "7          8   27          43000              230            4.2   East   \n",
      "8          9   50          70000              600            9.0  North   \n",
      "..       ...  ...            ...              ...            ...    ...   \n",
      "225      226   28          46000              250            4.2  North   \n",
      "228      229   36          54000              400            6.5  North   \n",
      "231      232   26          44000              240            4.3  North   \n",
      "234      235   38          59000              430            6.9  North   \n",
      "237      238   31          51000              340            5.6  North   \n",
      "\n",
      "     purchase_frequency  \n",
      "0                    12  \n",
      "3                    10  \n",
      "4                    13  \n",
      "7                    14  \n",
      "8                    25  \n",
      "..                  ...  \n",
      "225                  14  \n",
      "228                  19  \n",
      "231                  14  \n",
      "234                  20  \n",
      "237                  17  \n",
      "\n",
      "[84 rows x 7 columns]\n"
     ]
    }
   ],
   "source": [
    "filtMedian = df[((df['loyalty_score'] > 7) & (df['loyalty_score'] < 1)) & (df['region'].isin(['East', 'North']))]\n",
    "medianAge = filtMedian['age'].median()\n",
    "filtLowLoyalty = df[(df['loyalty_score'] < 10) & (df['region'].isin(['East', 'North']))]\n",
    "\n",
    "print(filtLowLoyalty)"
   ]
  },
  {
   "cell_type": "markdown",
   "id": "deb4ca3a-3d8a-4205-bee9-d26fd28638b2",
   "metadata": {},
   "source": [
    "### 3. Визуализация"
   ]
  },
  {
   "cell_type": "markdown",
   "id": "f8941ce1-cbf2-465a-b013-1b84aeb999ef",
   "metadata": {},
   "source": [
    "Используя библиотеки matplotlib/sns/plotly/pandas и набор данных представленный ранее визуализируйте"
   ]
  },
  {
   "cell_type": "code",
   "execution_count": 79,
   "id": "7b9673c2",
   "metadata": {},
   "outputs": [],
   "source": [
    "import plotly.graph_objects as go\n",
    "import plotly.express as px"
   ]
  },
  {
   "cell_type": "markdown",
   "id": "5e98ce6f-8d02-4120-ad85-241494c038d6",
   "metadata": {},
   "source": [
    "1. Постройте диаграмму которая отражает средний уровень лояльности во всех регионах"
   ]
  },
  {
   "cell_type": "code",
   "execution_count": 80,
   "id": "664666b2-17b7-49dd-a3bd-c4be9361755d",
   "metadata": {},
   "outputs": [
    {
     "data": {
      "application/vnd.plotly.v1+json": {
       "config": {
        "plotlyServerURL": "https://plot.ly"
       },
       "data": [
        {
         "alignmentgroup": "True",
         "hovertemplate": "Region=%{x}<br>Average Loyalty Score=%{y}<extra></extra>",
         "legendgroup": "",
         "marker": {
          "color": "#636efa",
          "pattern": {
           "shape": ""
          }
         },
         "name": "",
         "offsetgroup": "",
         "orientation": "v",
         "showlegend": false,
         "textposition": "auto",
         "type": "bar",
         "x": [
          "East",
          "North",
          "South",
          "West"
         ],
         "xaxis": "x",
         "y": [
          5.3999999999999995,
          5.865384615384615,
          6.7259740259740255,
          7.911688311688312
         ],
         "yaxis": "y"
        }
       ],
       "layout": {
        "barmode": "relative",
        "legend": {
         "tracegroupgap": 0
        },
        "template": {
         "data": {
          "bar": [
           {
            "error_x": {
             "color": "#2a3f5f"
            },
            "error_y": {
             "color": "#2a3f5f"
            },
            "marker": {
             "line": {
              "color": "#E5ECF6",
              "width": 0.5
             },
             "pattern": {
              "fillmode": "overlay",
              "size": 10,
              "solidity": 0.2
             }
            },
            "type": "bar"
           }
          ],
          "barpolar": [
           {
            "marker": {
             "line": {
              "color": "#E5ECF6",
              "width": 0.5
             },
             "pattern": {
              "fillmode": "overlay",
              "size": 10,
              "solidity": 0.2
             }
            },
            "type": "barpolar"
           }
          ],
          "carpet": [
           {
            "aaxis": {
             "endlinecolor": "#2a3f5f",
             "gridcolor": "white",
             "linecolor": "white",
             "minorgridcolor": "white",
             "startlinecolor": "#2a3f5f"
            },
            "baxis": {
             "endlinecolor": "#2a3f5f",
             "gridcolor": "white",
             "linecolor": "white",
             "minorgridcolor": "white",
             "startlinecolor": "#2a3f5f"
            },
            "type": "carpet"
           }
          ],
          "choropleth": [
           {
            "colorbar": {
             "outlinewidth": 0,
             "ticks": ""
            },
            "type": "choropleth"
           }
          ],
          "contour": [
           {
            "colorbar": {
             "outlinewidth": 0,
             "ticks": ""
            },
            "colorscale": [
             [
              0,
              "#0d0887"
             ],
             [
              0.1111111111111111,
              "#46039f"
             ],
             [
              0.2222222222222222,
              "#7201a8"
             ],
             [
              0.3333333333333333,
              "#9c179e"
             ],
             [
              0.4444444444444444,
              "#bd3786"
             ],
             [
              0.5555555555555556,
              "#d8576b"
             ],
             [
              0.6666666666666666,
              "#ed7953"
             ],
             [
              0.7777777777777778,
              "#fb9f3a"
             ],
             [
              0.8888888888888888,
              "#fdca26"
             ],
             [
              1,
              "#f0f921"
             ]
            ],
            "type": "contour"
           }
          ],
          "contourcarpet": [
           {
            "colorbar": {
             "outlinewidth": 0,
             "ticks": ""
            },
            "type": "contourcarpet"
           }
          ],
          "heatmap": [
           {
            "colorbar": {
             "outlinewidth": 0,
             "ticks": ""
            },
            "colorscale": [
             [
              0,
              "#0d0887"
             ],
             [
              0.1111111111111111,
              "#46039f"
             ],
             [
              0.2222222222222222,
              "#7201a8"
             ],
             [
              0.3333333333333333,
              "#9c179e"
             ],
             [
              0.4444444444444444,
              "#bd3786"
             ],
             [
              0.5555555555555556,
              "#d8576b"
             ],
             [
              0.6666666666666666,
              "#ed7953"
             ],
             [
              0.7777777777777778,
              "#fb9f3a"
             ],
             [
              0.8888888888888888,
              "#fdca26"
             ],
             [
              1,
              "#f0f921"
             ]
            ],
            "type": "heatmap"
           }
          ],
          "heatmapgl": [
           {
            "colorbar": {
             "outlinewidth": 0,
             "ticks": ""
            },
            "colorscale": [
             [
              0,
              "#0d0887"
             ],
             [
              0.1111111111111111,
              "#46039f"
             ],
             [
              0.2222222222222222,
              "#7201a8"
             ],
             [
              0.3333333333333333,
              "#9c179e"
             ],
             [
              0.4444444444444444,
              "#bd3786"
             ],
             [
              0.5555555555555556,
              "#d8576b"
             ],
             [
              0.6666666666666666,
              "#ed7953"
             ],
             [
              0.7777777777777778,
              "#fb9f3a"
             ],
             [
              0.8888888888888888,
              "#fdca26"
             ],
             [
              1,
              "#f0f921"
             ]
            ],
            "type": "heatmapgl"
           }
          ],
          "histogram": [
           {
            "marker": {
             "pattern": {
              "fillmode": "overlay",
              "size": 10,
              "solidity": 0.2
             }
            },
            "type": "histogram"
           }
          ],
          "histogram2d": [
           {
            "colorbar": {
             "outlinewidth": 0,
             "ticks": ""
            },
            "colorscale": [
             [
              0,
              "#0d0887"
             ],
             [
              0.1111111111111111,
              "#46039f"
             ],
             [
              0.2222222222222222,
              "#7201a8"
             ],
             [
              0.3333333333333333,
              "#9c179e"
             ],
             [
              0.4444444444444444,
              "#bd3786"
             ],
             [
              0.5555555555555556,
              "#d8576b"
             ],
             [
              0.6666666666666666,
              "#ed7953"
             ],
             [
              0.7777777777777778,
              "#fb9f3a"
             ],
             [
              0.8888888888888888,
              "#fdca26"
             ],
             [
              1,
              "#f0f921"
             ]
            ],
            "type": "histogram2d"
           }
          ],
          "histogram2dcontour": [
           {
            "colorbar": {
             "outlinewidth": 0,
             "ticks": ""
            },
            "colorscale": [
             [
              0,
              "#0d0887"
             ],
             [
              0.1111111111111111,
              "#46039f"
             ],
             [
              0.2222222222222222,
              "#7201a8"
             ],
             [
              0.3333333333333333,
              "#9c179e"
             ],
             [
              0.4444444444444444,
              "#bd3786"
             ],
             [
              0.5555555555555556,
              "#d8576b"
             ],
             [
              0.6666666666666666,
              "#ed7953"
             ],
             [
              0.7777777777777778,
              "#fb9f3a"
             ],
             [
              0.8888888888888888,
              "#fdca26"
             ],
             [
              1,
              "#f0f921"
             ]
            ],
            "type": "histogram2dcontour"
           }
          ],
          "mesh3d": [
           {
            "colorbar": {
             "outlinewidth": 0,
             "ticks": ""
            },
            "type": "mesh3d"
           }
          ],
          "parcoords": [
           {
            "line": {
             "colorbar": {
              "outlinewidth": 0,
              "ticks": ""
             }
            },
            "type": "parcoords"
           }
          ],
          "pie": [
           {
            "automargin": true,
            "type": "pie"
           }
          ],
          "scatter": [
           {
            "fillpattern": {
             "fillmode": "overlay",
             "size": 10,
             "solidity": 0.2
            },
            "type": "scatter"
           }
          ],
          "scatter3d": [
           {
            "line": {
             "colorbar": {
              "outlinewidth": 0,
              "ticks": ""
             }
            },
            "marker": {
             "colorbar": {
              "outlinewidth": 0,
              "ticks": ""
             }
            },
            "type": "scatter3d"
           }
          ],
          "scattercarpet": [
           {
            "marker": {
             "colorbar": {
              "outlinewidth": 0,
              "ticks": ""
             }
            },
            "type": "scattercarpet"
           }
          ],
          "scattergeo": [
           {
            "marker": {
             "colorbar": {
              "outlinewidth": 0,
              "ticks": ""
             }
            },
            "type": "scattergeo"
           }
          ],
          "scattergl": [
           {
            "marker": {
             "colorbar": {
              "outlinewidth": 0,
              "ticks": ""
             }
            },
            "type": "scattergl"
           }
          ],
          "scattermapbox": [
           {
            "marker": {
             "colorbar": {
              "outlinewidth": 0,
              "ticks": ""
             }
            },
            "type": "scattermapbox"
           }
          ],
          "scatterpolar": [
           {
            "marker": {
             "colorbar": {
              "outlinewidth": 0,
              "ticks": ""
             }
            },
            "type": "scatterpolar"
           }
          ],
          "scatterpolargl": [
           {
            "marker": {
             "colorbar": {
              "outlinewidth": 0,
              "ticks": ""
             }
            },
            "type": "scatterpolargl"
           }
          ],
          "scatterternary": [
           {
            "marker": {
             "colorbar": {
              "outlinewidth": 0,
              "ticks": ""
             }
            },
            "type": "scatterternary"
           }
          ],
          "surface": [
           {
            "colorbar": {
             "outlinewidth": 0,
             "ticks": ""
            },
            "colorscale": [
             [
              0,
              "#0d0887"
             ],
             [
              0.1111111111111111,
              "#46039f"
             ],
             [
              0.2222222222222222,
              "#7201a8"
             ],
             [
              0.3333333333333333,
              "#9c179e"
             ],
             [
              0.4444444444444444,
              "#bd3786"
             ],
             [
              0.5555555555555556,
              "#d8576b"
             ],
             [
              0.6666666666666666,
              "#ed7953"
             ],
             [
              0.7777777777777778,
              "#fb9f3a"
             ],
             [
              0.8888888888888888,
              "#fdca26"
             ],
             [
              1,
              "#f0f921"
             ]
            ],
            "type": "surface"
           }
          ],
          "table": [
           {
            "cells": {
             "fill": {
              "color": "#EBF0F8"
             },
             "line": {
              "color": "white"
             }
            },
            "header": {
             "fill": {
              "color": "#C8D4E3"
             },
             "line": {
              "color": "white"
             }
            },
            "type": "table"
           }
          ]
         },
         "layout": {
          "annotationdefaults": {
           "arrowcolor": "#2a3f5f",
           "arrowhead": 0,
           "arrowwidth": 1
          },
          "autotypenumbers": "strict",
          "coloraxis": {
           "colorbar": {
            "outlinewidth": 0,
            "ticks": ""
           }
          },
          "colorscale": {
           "diverging": [
            [
             0,
             "#8e0152"
            ],
            [
             0.1,
             "#c51b7d"
            ],
            [
             0.2,
             "#de77ae"
            ],
            [
             0.3,
             "#f1b6da"
            ],
            [
             0.4,
             "#fde0ef"
            ],
            [
             0.5,
             "#f7f7f7"
            ],
            [
             0.6,
             "#e6f5d0"
            ],
            [
             0.7,
             "#b8e186"
            ],
            [
             0.8,
             "#7fbc41"
            ],
            [
             0.9,
             "#4d9221"
            ],
            [
             1,
             "#276419"
            ]
           ],
           "sequential": [
            [
             0,
             "#0d0887"
            ],
            [
             0.1111111111111111,
             "#46039f"
            ],
            [
             0.2222222222222222,
             "#7201a8"
            ],
            [
             0.3333333333333333,
             "#9c179e"
            ],
            [
             0.4444444444444444,
             "#bd3786"
            ],
            [
             0.5555555555555556,
             "#d8576b"
            ],
            [
             0.6666666666666666,
             "#ed7953"
            ],
            [
             0.7777777777777778,
             "#fb9f3a"
            ],
            [
             0.8888888888888888,
             "#fdca26"
            ],
            [
             1,
             "#f0f921"
            ]
           ],
           "sequentialminus": [
            [
             0,
             "#0d0887"
            ],
            [
             0.1111111111111111,
             "#46039f"
            ],
            [
             0.2222222222222222,
             "#7201a8"
            ],
            [
             0.3333333333333333,
             "#9c179e"
            ],
            [
             0.4444444444444444,
             "#bd3786"
            ],
            [
             0.5555555555555556,
             "#d8576b"
            ],
            [
             0.6666666666666666,
             "#ed7953"
            ],
            [
             0.7777777777777778,
             "#fb9f3a"
            ],
            [
             0.8888888888888888,
             "#fdca26"
            ],
            [
             1,
             "#f0f921"
            ]
           ]
          },
          "colorway": [
           "#636efa",
           "#EF553B",
           "#00cc96",
           "#ab63fa",
           "#FFA15A",
           "#19d3f3",
           "#FF6692",
           "#B6E880",
           "#FF97FF",
           "#FECB52"
          ],
          "font": {
           "color": "#2a3f5f"
          },
          "geo": {
           "bgcolor": "white",
           "lakecolor": "white",
           "landcolor": "#E5ECF6",
           "showlakes": true,
           "showland": true,
           "subunitcolor": "white"
          },
          "hoverlabel": {
           "align": "left"
          },
          "hovermode": "closest",
          "mapbox": {
           "style": "light"
          },
          "paper_bgcolor": "white",
          "plot_bgcolor": "#E5ECF6",
          "polar": {
           "angularaxis": {
            "gridcolor": "white",
            "linecolor": "white",
            "ticks": ""
           },
           "bgcolor": "#E5ECF6",
           "radialaxis": {
            "gridcolor": "white",
            "linecolor": "white",
            "ticks": ""
           }
          },
          "scene": {
           "xaxis": {
            "backgroundcolor": "#E5ECF6",
            "gridcolor": "white",
            "gridwidth": 2,
            "linecolor": "white",
            "showbackground": true,
            "ticks": "",
            "zerolinecolor": "white"
           },
           "yaxis": {
            "backgroundcolor": "#E5ECF6",
            "gridcolor": "white",
            "gridwidth": 2,
            "linecolor": "white",
            "showbackground": true,
            "ticks": "",
            "zerolinecolor": "white"
           },
           "zaxis": {
            "backgroundcolor": "#E5ECF6",
            "gridcolor": "white",
            "gridwidth": 2,
            "linecolor": "white",
            "showbackground": true,
            "ticks": "",
            "zerolinecolor": "white"
           }
          },
          "shapedefaults": {
           "line": {
            "color": "#2a3f5f"
           }
          },
          "ternary": {
           "aaxis": {
            "gridcolor": "white",
            "linecolor": "white",
            "ticks": ""
           },
           "baxis": {
            "gridcolor": "white",
            "linecolor": "white",
            "ticks": ""
           },
           "bgcolor": "#E5ECF6",
           "caxis": {
            "gridcolor": "white",
            "linecolor": "white",
            "ticks": ""
           }
          },
          "title": {
           "x": 0.05
          },
          "xaxis": {
           "automargin": true,
           "gridcolor": "white",
           "linecolor": "white",
           "ticks": "",
           "title": {
            "standoff": 15
           },
           "zerolinecolor": "white",
           "zerolinewidth": 2
          },
          "yaxis": {
           "automargin": true,
           "gridcolor": "white",
           "linecolor": "white",
           "ticks": "",
           "title": {
            "standoff": 15
           },
           "zerolinecolor": "white",
           "zerolinewidth": 2
          }
         }
        },
        "title": {
         "text": "Average Loyalty Score by Region"
        },
        "xaxis": {
         "anchor": "y",
         "domain": [
          0,
          1
         ],
         "title": {
          "text": "Region"
         }
        },
        "yaxis": {
         "anchor": "x",
         "domain": [
          0,
          1
         ],
         "title": {
          "text": "Average Loyalty Score"
         }
        }
       }
      }
     },
     "metadata": {},
     "output_type": "display_data"
    }
   ],
   "source": [
    "avg_loyalty_by_region = df.groupby('region')['loyalty_score'].mean().reset_index()\n",
    "\n",
    "fig = px.bar(avg_loyalty_by_region, x='region', y='loyalty_score', \n",
    "             title='Average Loyalty Score by Region', \n",
    "             labels={'loyalty_score': 'Average Loyalty Score', 'region': 'Region'})\n",
    "\n",
    "fig.show()"
   ]
  },
  {
   "cell_type": "markdown",
   "id": "4c7500bb-36ca-4ea7-bc3c-4f15afbd4c41",
   "metadata": {},
   "source": [
    "2. Постройте гистограмму распределения зарплат клиентов на Севере."
   ]
  },
  {
   "cell_type": "code",
   "execution_count": 81,
   "id": "7325e7f8-5f00-4a82-8184-7064505f7ccd",
   "metadata": {},
   "outputs": [
    {
     "data": {
      "application/vnd.plotly.v1+json": {
       "config": {
        "plotlyServerURL": "https://plot.ly"
       },
       "data": [
        {
         "alignmentgroup": "True",
         "bingroup": "x",
         "hovertemplate": "annual_income=%{x}<br>count=%{y}<extra></extra>",
         "legendgroup": "",
         "marker": {
          "color": "#636efa",
          "pattern": {
           "shape": ""
          }
         },
         "name": "",
         "offsetgroup": "",
         "orientation": "v",
         "showlegend": false,
         "type": "histogram",
         "x": [
          45000,
          55000,
          65000,
          30000,
          47000,
          61000,
          54000,
          43000,
          70000,
          50000,
          46000,
          62000,
          53000,
          58000,
          69000,
          31000,
          57000,
          49000,
          66000,
          44000,
          72000,
          32000,
          63000,
          56000,
          59000,
          67000,
          52000,
          48000,
          71000,
          60000,
          55000,
          64000,
          50000,
          43000,
          75000,
          45000,
          68000,
          49000,
          73000,
          46000,
          57000,
          58000,
          66000,
          53000,
          72000,
          47000,
          61000,
          70000,
          54000,
          32000,
          69000,
          44000,
          65000,
          60000,
          59000,
          74000,
          52000,
          51000,
          62000,
          75000,
          46000,
          53000,
          71000,
          43000,
          63000,
          61000,
          70000,
          32000,
          68000,
          49000,
          57000,
          58000,
          66000,
          53000,
          72000,
          46000,
          61000,
          70000,
          54000,
          32000,
          69000,
          44000,
          65000,
          60000,
          59000,
          74000,
          52000,
          51000,
          62000,
          75000,
          46000,
          53000,
          71000,
          43000,
          63000,
          61000,
          70000,
          32000,
          68000,
          49000,
          57000,
          58000,
          66000,
          53000,
          72000,
          46000,
          61000,
          70000,
          54000,
          32000,
          69000,
          44000,
          65000,
          60000,
          59000,
          74000,
          52000,
          51000,
          62000,
          75000,
          46000,
          53000,
          71000,
          43000,
          63000,
          61000,
          70000,
          32000,
          68000,
          49000,
          57000,
          58000,
          66000,
          53000,
          72000,
          46000,
          61000,
          70000,
          54000,
          32000,
          69000,
          44000,
          65000,
          60000,
          59000,
          74000,
          52000,
          51000,
          62000,
          75000,
          46000,
          53000,
          71000,
          43000,
          63000,
          61000,
          70000,
          32000,
          68000,
          49000,
          57000,
          58000,
          66000,
          53000,
          72000,
          46000,
          61000,
          70000,
          54000,
          32000,
          69000,
          44000,
          65000,
          60000,
          59000,
          74000,
          52000,
          51000,
          62000,
          75000,
          46000,
          53000,
          71000,
          43000,
          63000,
          61000,
          70000,
          32000,
          68000,
          49000,
          57000,
          58000,
          66000,
          53000,
          72000,
          46000,
          61000,
          70000,
          54000,
          32000,
          69000,
          44000,
          65000,
          60000,
          59000,
          74000,
          52000,
          51000,
          62000,
          75000,
          46000,
          53000,
          71000,
          43000,
          63000,
          61000,
          70000,
          32000,
          68000,
          49000,
          57000,
          58000,
          66000,
          53000,
          72000,
          46000,
          61000,
          70000,
          54000,
          32000,
          69000,
          44000,
          65000,
          60000,
          59000,
          74000,
          52000,
          51000
         ],
         "xaxis": "x",
         "yaxis": "y"
        }
       ],
       "layout": {
        "barmode": "relative",
        "legend": {
         "tracegroupgap": 0
        },
        "margin": {
         "t": 60
        },
        "template": {
         "data": {
          "bar": [
           {
            "error_x": {
             "color": "#2a3f5f"
            },
            "error_y": {
             "color": "#2a3f5f"
            },
            "marker": {
             "line": {
              "color": "#E5ECF6",
              "width": 0.5
             },
             "pattern": {
              "fillmode": "overlay",
              "size": 10,
              "solidity": 0.2
             }
            },
            "type": "bar"
           }
          ],
          "barpolar": [
           {
            "marker": {
             "line": {
              "color": "#E5ECF6",
              "width": 0.5
             },
             "pattern": {
              "fillmode": "overlay",
              "size": 10,
              "solidity": 0.2
             }
            },
            "type": "barpolar"
           }
          ],
          "carpet": [
           {
            "aaxis": {
             "endlinecolor": "#2a3f5f",
             "gridcolor": "white",
             "linecolor": "white",
             "minorgridcolor": "white",
             "startlinecolor": "#2a3f5f"
            },
            "baxis": {
             "endlinecolor": "#2a3f5f",
             "gridcolor": "white",
             "linecolor": "white",
             "minorgridcolor": "white",
             "startlinecolor": "#2a3f5f"
            },
            "type": "carpet"
           }
          ],
          "choropleth": [
           {
            "colorbar": {
             "outlinewidth": 0,
             "ticks": ""
            },
            "type": "choropleth"
           }
          ],
          "contour": [
           {
            "colorbar": {
             "outlinewidth": 0,
             "ticks": ""
            },
            "colorscale": [
             [
              0,
              "#0d0887"
             ],
             [
              0.1111111111111111,
              "#46039f"
             ],
             [
              0.2222222222222222,
              "#7201a8"
             ],
             [
              0.3333333333333333,
              "#9c179e"
             ],
             [
              0.4444444444444444,
              "#bd3786"
             ],
             [
              0.5555555555555556,
              "#d8576b"
             ],
             [
              0.6666666666666666,
              "#ed7953"
             ],
             [
              0.7777777777777778,
              "#fb9f3a"
             ],
             [
              0.8888888888888888,
              "#fdca26"
             ],
             [
              1,
              "#f0f921"
             ]
            ],
            "type": "contour"
           }
          ],
          "contourcarpet": [
           {
            "colorbar": {
             "outlinewidth": 0,
             "ticks": ""
            },
            "type": "contourcarpet"
           }
          ],
          "heatmap": [
           {
            "colorbar": {
             "outlinewidth": 0,
             "ticks": ""
            },
            "colorscale": [
             [
              0,
              "#0d0887"
             ],
             [
              0.1111111111111111,
              "#46039f"
             ],
             [
              0.2222222222222222,
              "#7201a8"
             ],
             [
              0.3333333333333333,
              "#9c179e"
             ],
             [
              0.4444444444444444,
              "#bd3786"
             ],
             [
              0.5555555555555556,
              "#d8576b"
             ],
             [
              0.6666666666666666,
              "#ed7953"
             ],
             [
              0.7777777777777778,
              "#fb9f3a"
             ],
             [
              0.8888888888888888,
              "#fdca26"
             ],
             [
              1,
              "#f0f921"
             ]
            ],
            "type": "heatmap"
           }
          ],
          "heatmapgl": [
           {
            "colorbar": {
             "outlinewidth": 0,
             "ticks": ""
            },
            "colorscale": [
             [
              0,
              "#0d0887"
             ],
             [
              0.1111111111111111,
              "#46039f"
             ],
             [
              0.2222222222222222,
              "#7201a8"
             ],
             [
              0.3333333333333333,
              "#9c179e"
             ],
             [
              0.4444444444444444,
              "#bd3786"
             ],
             [
              0.5555555555555556,
              "#d8576b"
             ],
             [
              0.6666666666666666,
              "#ed7953"
             ],
             [
              0.7777777777777778,
              "#fb9f3a"
             ],
             [
              0.8888888888888888,
              "#fdca26"
             ],
             [
              1,
              "#f0f921"
             ]
            ],
            "type": "heatmapgl"
           }
          ],
          "histogram": [
           {
            "marker": {
             "pattern": {
              "fillmode": "overlay",
              "size": 10,
              "solidity": 0.2
             }
            },
            "type": "histogram"
           }
          ],
          "histogram2d": [
           {
            "colorbar": {
             "outlinewidth": 0,
             "ticks": ""
            },
            "colorscale": [
             [
              0,
              "#0d0887"
             ],
             [
              0.1111111111111111,
              "#46039f"
             ],
             [
              0.2222222222222222,
              "#7201a8"
             ],
             [
              0.3333333333333333,
              "#9c179e"
             ],
             [
              0.4444444444444444,
              "#bd3786"
             ],
             [
              0.5555555555555556,
              "#d8576b"
             ],
             [
              0.6666666666666666,
              "#ed7953"
             ],
             [
              0.7777777777777778,
              "#fb9f3a"
             ],
             [
              0.8888888888888888,
              "#fdca26"
             ],
             [
              1,
              "#f0f921"
             ]
            ],
            "type": "histogram2d"
           }
          ],
          "histogram2dcontour": [
           {
            "colorbar": {
             "outlinewidth": 0,
             "ticks": ""
            },
            "colorscale": [
             [
              0,
              "#0d0887"
             ],
             [
              0.1111111111111111,
              "#46039f"
             ],
             [
              0.2222222222222222,
              "#7201a8"
             ],
             [
              0.3333333333333333,
              "#9c179e"
             ],
             [
              0.4444444444444444,
              "#bd3786"
             ],
             [
              0.5555555555555556,
              "#d8576b"
             ],
             [
              0.6666666666666666,
              "#ed7953"
             ],
             [
              0.7777777777777778,
              "#fb9f3a"
             ],
             [
              0.8888888888888888,
              "#fdca26"
             ],
             [
              1,
              "#f0f921"
             ]
            ],
            "type": "histogram2dcontour"
           }
          ],
          "mesh3d": [
           {
            "colorbar": {
             "outlinewidth": 0,
             "ticks": ""
            },
            "type": "mesh3d"
           }
          ],
          "parcoords": [
           {
            "line": {
             "colorbar": {
              "outlinewidth": 0,
              "ticks": ""
             }
            },
            "type": "parcoords"
           }
          ],
          "pie": [
           {
            "automargin": true,
            "type": "pie"
           }
          ],
          "scatter": [
           {
            "fillpattern": {
             "fillmode": "overlay",
             "size": 10,
             "solidity": 0.2
            },
            "type": "scatter"
           }
          ],
          "scatter3d": [
           {
            "line": {
             "colorbar": {
              "outlinewidth": 0,
              "ticks": ""
             }
            },
            "marker": {
             "colorbar": {
              "outlinewidth": 0,
              "ticks": ""
             }
            },
            "type": "scatter3d"
           }
          ],
          "scattercarpet": [
           {
            "marker": {
             "colorbar": {
              "outlinewidth": 0,
              "ticks": ""
             }
            },
            "type": "scattercarpet"
           }
          ],
          "scattergeo": [
           {
            "marker": {
             "colorbar": {
              "outlinewidth": 0,
              "ticks": ""
             }
            },
            "type": "scattergeo"
           }
          ],
          "scattergl": [
           {
            "marker": {
             "colorbar": {
              "outlinewidth": 0,
              "ticks": ""
             }
            },
            "type": "scattergl"
           }
          ],
          "scattermapbox": [
           {
            "marker": {
             "colorbar": {
              "outlinewidth": 0,
              "ticks": ""
             }
            },
            "type": "scattermapbox"
           }
          ],
          "scatterpolar": [
           {
            "marker": {
             "colorbar": {
              "outlinewidth": 0,
              "ticks": ""
             }
            },
            "type": "scatterpolar"
           }
          ],
          "scatterpolargl": [
           {
            "marker": {
             "colorbar": {
              "outlinewidth": 0,
              "ticks": ""
             }
            },
            "type": "scatterpolargl"
           }
          ],
          "scatterternary": [
           {
            "marker": {
             "colorbar": {
              "outlinewidth": 0,
              "ticks": ""
             }
            },
            "type": "scatterternary"
           }
          ],
          "surface": [
           {
            "colorbar": {
             "outlinewidth": 0,
             "ticks": ""
            },
            "colorscale": [
             [
              0,
              "#0d0887"
             ],
             [
              0.1111111111111111,
              "#46039f"
             ],
             [
              0.2222222222222222,
              "#7201a8"
             ],
             [
              0.3333333333333333,
              "#9c179e"
             ],
             [
              0.4444444444444444,
              "#bd3786"
             ],
             [
              0.5555555555555556,
              "#d8576b"
             ],
             [
              0.6666666666666666,
              "#ed7953"
             ],
             [
              0.7777777777777778,
              "#fb9f3a"
             ],
             [
              0.8888888888888888,
              "#fdca26"
             ],
             [
              1,
              "#f0f921"
             ]
            ],
            "type": "surface"
           }
          ],
          "table": [
           {
            "cells": {
             "fill": {
              "color": "#EBF0F8"
             },
             "line": {
              "color": "white"
             }
            },
            "header": {
             "fill": {
              "color": "#C8D4E3"
             },
             "line": {
              "color": "white"
             }
            },
            "type": "table"
           }
          ]
         },
         "layout": {
          "annotationdefaults": {
           "arrowcolor": "#2a3f5f",
           "arrowhead": 0,
           "arrowwidth": 1
          },
          "autotypenumbers": "strict",
          "coloraxis": {
           "colorbar": {
            "outlinewidth": 0,
            "ticks": ""
           }
          },
          "colorscale": {
           "diverging": [
            [
             0,
             "#8e0152"
            ],
            [
             0.1,
             "#c51b7d"
            ],
            [
             0.2,
             "#de77ae"
            ],
            [
             0.3,
             "#f1b6da"
            ],
            [
             0.4,
             "#fde0ef"
            ],
            [
             0.5,
             "#f7f7f7"
            ],
            [
             0.6,
             "#e6f5d0"
            ],
            [
             0.7,
             "#b8e186"
            ],
            [
             0.8,
             "#7fbc41"
            ],
            [
             0.9,
             "#4d9221"
            ],
            [
             1,
             "#276419"
            ]
           ],
           "sequential": [
            [
             0,
             "#0d0887"
            ],
            [
             0.1111111111111111,
             "#46039f"
            ],
            [
             0.2222222222222222,
             "#7201a8"
            ],
            [
             0.3333333333333333,
             "#9c179e"
            ],
            [
             0.4444444444444444,
             "#bd3786"
            ],
            [
             0.5555555555555556,
             "#d8576b"
            ],
            [
             0.6666666666666666,
             "#ed7953"
            ],
            [
             0.7777777777777778,
             "#fb9f3a"
            ],
            [
             0.8888888888888888,
             "#fdca26"
            ],
            [
             1,
             "#f0f921"
            ]
           ],
           "sequentialminus": [
            [
             0,
             "#0d0887"
            ],
            [
             0.1111111111111111,
             "#46039f"
            ],
            [
             0.2222222222222222,
             "#7201a8"
            ],
            [
             0.3333333333333333,
             "#9c179e"
            ],
            [
             0.4444444444444444,
             "#bd3786"
            ],
            [
             0.5555555555555556,
             "#d8576b"
            ],
            [
             0.6666666666666666,
             "#ed7953"
            ],
            [
             0.7777777777777778,
             "#fb9f3a"
            ],
            [
             0.8888888888888888,
             "#fdca26"
            ],
            [
             1,
             "#f0f921"
            ]
           ]
          },
          "colorway": [
           "#636efa",
           "#EF553B",
           "#00cc96",
           "#ab63fa",
           "#FFA15A",
           "#19d3f3",
           "#FF6692",
           "#B6E880",
           "#FF97FF",
           "#FECB52"
          ],
          "font": {
           "color": "#2a3f5f"
          },
          "geo": {
           "bgcolor": "white",
           "lakecolor": "white",
           "landcolor": "#E5ECF6",
           "showlakes": true,
           "showland": true,
           "subunitcolor": "white"
          },
          "hoverlabel": {
           "align": "left"
          },
          "hovermode": "closest",
          "mapbox": {
           "style": "light"
          },
          "paper_bgcolor": "white",
          "plot_bgcolor": "#E5ECF6",
          "polar": {
           "angularaxis": {
            "gridcolor": "white",
            "linecolor": "white",
            "ticks": ""
           },
           "bgcolor": "#E5ECF6",
           "radialaxis": {
            "gridcolor": "white",
            "linecolor": "white",
            "ticks": ""
           }
          },
          "scene": {
           "xaxis": {
            "backgroundcolor": "#E5ECF6",
            "gridcolor": "white",
            "gridwidth": 2,
            "linecolor": "white",
            "showbackground": true,
            "ticks": "",
            "zerolinecolor": "white"
           },
           "yaxis": {
            "backgroundcolor": "#E5ECF6",
            "gridcolor": "white",
            "gridwidth": 2,
            "linecolor": "white",
            "showbackground": true,
            "ticks": "",
            "zerolinecolor": "white"
           },
           "zaxis": {
            "backgroundcolor": "#E5ECF6",
            "gridcolor": "white",
            "gridwidth": 2,
            "linecolor": "white",
            "showbackground": true,
            "ticks": "",
            "zerolinecolor": "white"
           }
          },
          "shapedefaults": {
           "line": {
            "color": "#2a3f5f"
           }
          },
          "ternary": {
           "aaxis": {
            "gridcolor": "white",
            "linecolor": "white",
            "ticks": ""
           },
           "baxis": {
            "gridcolor": "white",
            "linecolor": "white",
            "ticks": ""
           },
           "bgcolor": "#E5ECF6",
           "caxis": {
            "gridcolor": "white",
            "linecolor": "white",
            "ticks": ""
           }
          },
          "title": {
           "x": 0.05
          },
          "xaxis": {
           "automargin": true,
           "gridcolor": "white",
           "linecolor": "white",
           "ticks": "",
           "title": {
            "standoff": 15
           },
           "zerolinecolor": "white",
           "zerolinewidth": 2
          },
          "yaxis": {
           "automargin": true,
           "gridcolor": "white",
           "linecolor": "white",
           "ticks": "",
           "title": {
            "standoff": 15
           },
           "zerolinecolor": "white",
           "zerolinewidth": 2
          }
         }
        },
        "xaxis": {
         "anchor": "y",
         "domain": [
          0,
          1
         ],
         "title": {
          "text": "annual_income"
         }
        },
        "yaxis": {
         "anchor": "x",
         "domain": [
          0,
          1
         ],
         "title": {
          "text": "count"
         }
        }
       }
      }
     },
     "metadata": {},
     "output_type": "display_data"
    }
   ],
   "source": [
    "df[df['region'] == 'North']\n",
    "fig = px.histogram(df, x = 'annual_income')\n",
    "fig.show()"
   ]
  },
  {
   "cell_type": "markdown",
   "id": "efdd0669-36e0-4708-ac6b-ad0d92881113",
   "metadata": {},
   "source": [
    "3. Сравните уровни зарплат людей на севере и юге."
   ]
  },
  {
   "cell_type": "code",
   "execution_count": 82,
   "id": "7504a170-04a1-4b86-924d-8d46be16fd3c",
   "metadata": {},
   "outputs": [
    {
     "data": {
      "application/vnd.plotly.v1+json": {
       "config": {
        "plotlyServerURL": "https://plot.ly"
       },
       "data": [
        {
         "name": "From North",
         "opacity": 0.7,
         "type": "histogram",
         "x": [
          45000,
          47000,
          70000,
          62000,
          31000,
          66000,
          63000,
          52000,
          55000,
          43000,
          68000,
          46000,
          66000,
          47000,
          54000,
          44000,
          59000,
          51000,
          46000,
          43000,
          70000,
          49000,
          66000,
          46000,
          54000,
          44000,
          59000,
          51000,
          46000,
          43000,
          70000,
          49000,
          66000,
          46000,
          54000,
          44000,
          59000,
          51000,
          46000,
          43000,
          70000,
          49000,
          66000,
          46000,
          54000,
          44000,
          59000,
          51000,
          46000,
          43000,
          70000,
          49000,
          66000,
          46000,
          54000,
          44000,
          59000,
          51000,
          46000,
          43000,
          70000,
          49000,
          66000,
          46000,
          54000,
          44000,
          59000,
          51000,
          46000,
          43000,
          70000,
          49000,
          66000,
          46000,
          54000,
          44000,
          59000,
          51000
         ]
        },
        {
         "name": "From South",
         "opacity": 0.7,
         "type": "histogram",
         "x": [
          55000,
          61000,
          50000,
          53000,
          57000,
          72000,
          56000,
          48000,
          64000,
          75000,
          49000,
          57000,
          53000,
          61000,
          32000,
          65000,
          74000,
          62000,
          53000,
          63000,
          32000,
          57000,
          53000,
          61000,
          32000,
          65000,
          74000,
          62000,
          53000,
          63000,
          32000,
          57000,
          53000,
          61000,
          32000,
          65000,
          74000,
          62000,
          53000,
          63000,
          32000,
          57000,
          53000,
          61000,
          32000,
          65000,
          74000,
          62000,
          53000,
          63000,
          32000,
          57000,
          53000,
          61000,
          32000,
          65000,
          74000,
          62000,
          53000,
          63000,
          32000,
          57000,
          53000,
          61000,
          32000,
          65000,
          74000,
          62000,
          53000,
          63000,
          32000,
          57000,
          53000,
          61000,
          32000,
          65000,
          74000
         ]
        }
       ],
       "layout": {
        "barmode": "overlay",
        "template": {
         "data": {
          "bar": [
           {
            "error_x": {
             "color": "#2a3f5f"
            },
            "error_y": {
             "color": "#2a3f5f"
            },
            "marker": {
             "line": {
              "color": "#E5ECF6",
              "width": 0.5
             },
             "pattern": {
              "fillmode": "overlay",
              "size": 10,
              "solidity": 0.2
             }
            },
            "type": "bar"
           }
          ],
          "barpolar": [
           {
            "marker": {
             "line": {
              "color": "#E5ECF6",
              "width": 0.5
             },
             "pattern": {
              "fillmode": "overlay",
              "size": 10,
              "solidity": 0.2
             }
            },
            "type": "barpolar"
           }
          ],
          "carpet": [
           {
            "aaxis": {
             "endlinecolor": "#2a3f5f",
             "gridcolor": "white",
             "linecolor": "white",
             "minorgridcolor": "white",
             "startlinecolor": "#2a3f5f"
            },
            "baxis": {
             "endlinecolor": "#2a3f5f",
             "gridcolor": "white",
             "linecolor": "white",
             "minorgridcolor": "white",
             "startlinecolor": "#2a3f5f"
            },
            "type": "carpet"
           }
          ],
          "choropleth": [
           {
            "colorbar": {
             "outlinewidth": 0,
             "ticks": ""
            },
            "type": "choropleth"
           }
          ],
          "contour": [
           {
            "colorbar": {
             "outlinewidth": 0,
             "ticks": ""
            },
            "colorscale": [
             [
              0,
              "#0d0887"
             ],
             [
              0.1111111111111111,
              "#46039f"
             ],
             [
              0.2222222222222222,
              "#7201a8"
             ],
             [
              0.3333333333333333,
              "#9c179e"
             ],
             [
              0.4444444444444444,
              "#bd3786"
             ],
             [
              0.5555555555555556,
              "#d8576b"
             ],
             [
              0.6666666666666666,
              "#ed7953"
             ],
             [
              0.7777777777777778,
              "#fb9f3a"
             ],
             [
              0.8888888888888888,
              "#fdca26"
             ],
             [
              1,
              "#f0f921"
             ]
            ],
            "type": "contour"
           }
          ],
          "contourcarpet": [
           {
            "colorbar": {
             "outlinewidth": 0,
             "ticks": ""
            },
            "type": "contourcarpet"
           }
          ],
          "heatmap": [
           {
            "colorbar": {
             "outlinewidth": 0,
             "ticks": ""
            },
            "colorscale": [
             [
              0,
              "#0d0887"
             ],
             [
              0.1111111111111111,
              "#46039f"
             ],
             [
              0.2222222222222222,
              "#7201a8"
             ],
             [
              0.3333333333333333,
              "#9c179e"
             ],
             [
              0.4444444444444444,
              "#bd3786"
             ],
             [
              0.5555555555555556,
              "#d8576b"
             ],
             [
              0.6666666666666666,
              "#ed7953"
             ],
             [
              0.7777777777777778,
              "#fb9f3a"
             ],
             [
              0.8888888888888888,
              "#fdca26"
             ],
             [
              1,
              "#f0f921"
             ]
            ],
            "type": "heatmap"
           }
          ],
          "heatmapgl": [
           {
            "colorbar": {
             "outlinewidth": 0,
             "ticks": ""
            },
            "colorscale": [
             [
              0,
              "#0d0887"
             ],
             [
              0.1111111111111111,
              "#46039f"
             ],
             [
              0.2222222222222222,
              "#7201a8"
             ],
             [
              0.3333333333333333,
              "#9c179e"
             ],
             [
              0.4444444444444444,
              "#bd3786"
             ],
             [
              0.5555555555555556,
              "#d8576b"
             ],
             [
              0.6666666666666666,
              "#ed7953"
             ],
             [
              0.7777777777777778,
              "#fb9f3a"
             ],
             [
              0.8888888888888888,
              "#fdca26"
             ],
             [
              1,
              "#f0f921"
             ]
            ],
            "type": "heatmapgl"
           }
          ],
          "histogram": [
           {
            "marker": {
             "pattern": {
              "fillmode": "overlay",
              "size": 10,
              "solidity": 0.2
             }
            },
            "type": "histogram"
           }
          ],
          "histogram2d": [
           {
            "colorbar": {
             "outlinewidth": 0,
             "ticks": ""
            },
            "colorscale": [
             [
              0,
              "#0d0887"
             ],
             [
              0.1111111111111111,
              "#46039f"
             ],
             [
              0.2222222222222222,
              "#7201a8"
             ],
             [
              0.3333333333333333,
              "#9c179e"
             ],
             [
              0.4444444444444444,
              "#bd3786"
             ],
             [
              0.5555555555555556,
              "#d8576b"
             ],
             [
              0.6666666666666666,
              "#ed7953"
             ],
             [
              0.7777777777777778,
              "#fb9f3a"
             ],
             [
              0.8888888888888888,
              "#fdca26"
             ],
             [
              1,
              "#f0f921"
             ]
            ],
            "type": "histogram2d"
           }
          ],
          "histogram2dcontour": [
           {
            "colorbar": {
             "outlinewidth": 0,
             "ticks": ""
            },
            "colorscale": [
             [
              0,
              "#0d0887"
             ],
             [
              0.1111111111111111,
              "#46039f"
             ],
             [
              0.2222222222222222,
              "#7201a8"
             ],
             [
              0.3333333333333333,
              "#9c179e"
             ],
             [
              0.4444444444444444,
              "#bd3786"
             ],
             [
              0.5555555555555556,
              "#d8576b"
             ],
             [
              0.6666666666666666,
              "#ed7953"
             ],
             [
              0.7777777777777778,
              "#fb9f3a"
             ],
             [
              0.8888888888888888,
              "#fdca26"
             ],
             [
              1,
              "#f0f921"
             ]
            ],
            "type": "histogram2dcontour"
           }
          ],
          "mesh3d": [
           {
            "colorbar": {
             "outlinewidth": 0,
             "ticks": ""
            },
            "type": "mesh3d"
           }
          ],
          "parcoords": [
           {
            "line": {
             "colorbar": {
              "outlinewidth": 0,
              "ticks": ""
             }
            },
            "type": "parcoords"
           }
          ],
          "pie": [
           {
            "automargin": true,
            "type": "pie"
           }
          ],
          "scatter": [
           {
            "fillpattern": {
             "fillmode": "overlay",
             "size": 10,
             "solidity": 0.2
            },
            "type": "scatter"
           }
          ],
          "scatter3d": [
           {
            "line": {
             "colorbar": {
              "outlinewidth": 0,
              "ticks": ""
             }
            },
            "marker": {
             "colorbar": {
              "outlinewidth": 0,
              "ticks": ""
             }
            },
            "type": "scatter3d"
           }
          ],
          "scattercarpet": [
           {
            "marker": {
             "colorbar": {
              "outlinewidth": 0,
              "ticks": ""
             }
            },
            "type": "scattercarpet"
           }
          ],
          "scattergeo": [
           {
            "marker": {
             "colorbar": {
              "outlinewidth": 0,
              "ticks": ""
             }
            },
            "type": "scattergeo"
           }
          ],
          "scattergl": [
           {
            "marker": {
             "colorbar": {
              "outlinewidth": 0,
              "ticks": ""
             }
            },
            "type": "scattergl"
           }
          ],
          "scattermapbox": [
           {
            "marker": {
             "colorbar": {
              "outlinewidth": 0,
              "ticks": ""
             }
            },
            "type": "scattermapbox"
           }
          ],
          "scatterpolar": [
           {
            "marker": {
             "colorbar": {
              "outlinewidth": 0,
              "ticks": ""
             }
            },
            "type": "scatterpolar"
           }
          ],
          "scatterpolargl": [
           {
            "marker": {
             "colorbar": {
              "outlinewidth": 0,
              "ticks": ""
             }
            },
            "type": "scatterpolargl"
           }
          ],
          "scatterternary": [
           {
            "marker": {
             "colorbar": {
              "outlinewidth": 0,
              "ticks": ""
             }
            },
            "type": "scatterternary"
           }
          ],
          "surface": [
           {
            "colorbar": {
             "outlinewidth": 0,
             "ticks": ""
            },
            "colorscale": [
             [
              0,
              "#0d0887"
             ],
             [
              0.1111111111111111,
              "#46039f"
             ],
             [
              0.2222222222222222,
              "#7201a8"
             ],
             [
              0.3333333333333333,
              "#9c179e"
             ],
             [
              0.4444444444444444,
              "#bd3786"
             ],
             [
              0.5555555555555556,
              "#d8576b"
             ],
             [
              0.6666666666666666,
              "#ed7953"
             ],
             [
              0.7777777777777778,
              "#fb9f3a"
             ],
             [
              0.8888888888888888,
              "#fdca26"
             ],
             [
              1,
              "#f0f921"
             ]
            ],
            "type": "surface"
           }
          ],
          "table": [
           {
            "cells": {
             "fill": {
              "color": "#EBF0F8"
             },
             "line": {
              "color": "white"
             }
            },
            "header": {
             "fill": {
              "color": "#C8D4E3"
             },
             "line": {
              "color": "white"
             }
            },
            "type": "table"
           }
          ]
         },
         "layout": {
          "annotationdefaults": {
           "arrowcolor": "#2a3f5f",
           "arrowhead": 0,
           "arrowwidth": 1
          },
          "autotypenumbers": "strict",
          "coloraxis": {
           "colorbar": {
            "outlinewidth": 0,
            "ticks": ""
           }
          },
          "colorscale": {
           "diverging": [
            [
             0,
             "#8e0152"
            ],
            [
             0.1,
             "#c51b7d"
            ],
            [
             0.2,
             "#de77ae"
            ],
            [
             0.3,
             "#f1b6da"
            ],
            [
             0.4,
             "#fde0ef"
            ],
            [
             0.5,
             "#f7f7f7"
            ],
            [
             0.6,
             "#e6f5d0"
            ],
            [
             0.7,
             "#b8e186"
            ],
            [
             0.8,
             "#7fbc41"
            ],
            [
             0.9,
             "#4d9221"
            ],
            [
             1,
             "#276419"
            ]
           ],
           "sequential": [
            [
             0,
             "#0d0887"
            ],
            [
             0.1111111111111111,
             "#46039f"
            ],
            [
             0.2222222222222222,
             "#7201a8"
            ],
            [
             0.3333333333333333,
             "#9c179e"
            ],
            [
             0.4444444444444444,
             "#bd3786"
            ],
            [
             0.5555555555555556,
             "#d8576b"
            ],
            [
             0.6666666666666666,
             "#ed7953"
            ],
            [
             0.7777777777777778,
             "#fb9f3a"
            ],
            [
             0.8888888888888888,
             "#fdca26"
            ],
            [
             1,
             "#f0f921"
            ]
           ],
           "sequentialminus": [
            [
             0,
             "#0d0887"
            ],
            [
             0.1111111111111111,
             "#46039f"
            ],
            [
             0.2222222222222222,
             "#7201a8"
            ],
            [
             0.3333333333333333,
             "#9c179e"
            ],
            [
             0.4444444444444444,
             "#bd3786"
            ],
            [
             0.5555555555555556,
             "#d8576b"
            ],
            [
             0.6666666666666666,
             "#ed7953"
            ],
            [
             0.7777777777777778,
             "#fb9f3a"
            ],
            [
             0.8888888888888888,
             "#fdca26"
            ],
            [
             1,
             "#f0f921"
            ]
           ]
          },
          "colorway": [
           "#636efa",
           "#EF553B",
           "#00cc96",
           "#ab63fa",
           "#FFA15A",
           "#19d3f3",
           "#FF6692",
           "#B6E880",
           "#FF97FF",
           "#FECB52"
          ],
          "font": {
           "color": "#2a3f5f"
          },
          "geo": {
           "bgcolor": "white",
           "lakecolor": "white",
           "landcolor": "#E5ECF6",
           "showlakes": true,
           "showland": true,
           "subunitcolor": "white"
          },
          "hoverlabel": {
           "align": "left"
          },
          "hovermode": "closest",
          "mapbox": {
           "style": "light"
          },
          "paper_bgcolor": "white",
          "plot_bgcolor": "#E5ECF6",
          "polar": {
           "angularaxis": {
            "gridcolor": "white",
            "linecolor": "white",
            "ticks": ""
           },
           "bgcolor": "#E5ECF6",
           "radialaxis": {
            "gridcolor": "white",
            "linecolor": "white",
            "ticks": ""
           }
          },
          "scene": {
           "xaxis": {
            "backgroundcolor": "#E5ECF6",
            "gridcolor": "white",
            "gridwidth": 2,
            "linecolor": "white",
            "showbackground": true,
            "ticks": "",
            "zerolinecolor": "white"
           },
           "yaxis": {
            "backgroundcolor": "#E5ECF6",
            "gridcolor": "white",
            "gridwidth": 2,
            "linecolor": "white",
            "showbackground": true,
            "ticks": "",
            "zerolinecolor": "white"
           },
           "zaxis": {
            "backgroundcolor": "#E5ECF6",
            "gridcolor": "white",
            "gridwidth": 2,
            "linecolor": "white",
            "showbackground": true,
            "ticks": "",
            "zerolinecolor": "white"
           }
          },
          "shapedefaults": {
           "line": {
            "color": "#2a3f5f"
           }
          },
          "ternary": {
           "aaxis": {
            "gridcolor": "white",
            "linecolor": "white",
            "ticks": ""
           },
           "baxis": {
            "gridcolor": "white",
            "linecolor": "white",
            "ticks": ""
           },
           "bgcolor": "#E5ECF6",
           "caxis": {
            "gridcolor": "white",
            "linecolor": "white",
            "ticks": ""
           }
          },
          "title": {
           "x": 0.05
          },
          "xaxis": {
           "automargin": true,
           "gridcolor": "white",
           "linecolor": "white",
           "ticks": "",
           "title": {
            "standoff": 15
           },
           "zerolinecolor": "white",
           "zerolinewidth": 2
          },
          "yaxis": {
           "automargin": true,
           "gridcolor": "white",
           "linecolor": "white",
           "ticks": "",
           "title": {
            "standoff": 15
           },
           "zerolinecolor": "white",
           "zerolinewidth": 2
          }
         }
        },
        "xaxis": {
         "title": {
          "text": "annual income"
         }
        },
        "yaxis": {
         "title": {
          "text": "count"
         }
        }
       }
      }
     },
     "metadata": {},
     "output_type": "display_data"
    }
   ],
   "source": [
    "fromNorth = df[df['region'] == 'North']['annual_income']\n",
    "fromSouth =  df[df['region'] == 'South']['annual_income']\n",
    "\n",
    "fig = go.Figure()\n",
    "\n",
    "fig.add_trace(go.Histogram(x=fromNorth, name='From North', opacity=0.7))\n",
    "fig.add_trace(go.Histogram(x=fromSouth, name='From South', opacity=0.7))\n",
    "\n",
    "fig.update_xaxes(title_text='annual income')\n",
    "fig.update_yaxes(title_text='count')\n",
    "fig.update_layout(barmode='overlay')\n",
    "\n",
    "fig.show()"
   ]
  },
  {
   "cell_type": "markdown",
   "id": "b5839a48-e992-45fc-81ee-59cb5aa79dda",
   "metadata": {},
   "source": [
    "4. Постройте box plot отображающий распределение уровня лояльности для людей до 20 лет, от 20 до 40, от 40 до 60 и старше 60 лет"
   ]
  },
  {
   "cell_type": "code",
   "execution_count": 83,
   "id": "1a942378-45ea-47a0-bac9-488960491613",
   "metadata": {},
   "outputs": [
    {
     "data": {
      "application/vnd.plotly.v1+json": {
       "config": {
        "plotlyServerURL": "https://plot.ly"
       },
       "data": [
        {
         "alignmentgroup": "True",
         "hovertemplate": "Возрастная группа=%{x}<br>Уровень лояльности=%{y}<extra></extra>",
         "legendgroup": "",
         "marker": {
          "color": "#636efa"
         },
         "name": "",
         "notched": false,
         "offsetgroup": "",
         "orientation": "v",
         "showlegend": false,
         "type": "box",
         "x": [
          "20-40 лет",
          "20-40 лет",
          "40-60 лет",
          "20-40 лет",
          "20-40 лет",
          "40-60 лет",
          "20-40 лет",
          "20-40 лет",
          "40-60 лет",
          "20-40 лет",
          "20-40 лет",
          "40-60 лет",
          "20-40 лет",
          "20-40 лет",
          "40-60 лет",
          "20-40 лет",
          "20-40 лет",
          "20-40 лет",
          "40-60 лет",
          "20-40 лет",
          "40-60 лет",
          "20-40 лет",
          "40-60 лет",
          "20-40 лет",
          "20-40 лет",
          "40-60 лет",
          "20-40 лет",
          "20-40 лет",
          "40-60 лет",
          "40-60 лет",
          "20-40 лет",
          "40-60 лет",
          "20-40 лет",
          "20-40 лет",
          "40-60 лет",
          "20-40 лет",
          "40-60 лет",
          "20-40 лет",
          "40-60 лет",
          "20-40 лет",
          "20-40 лет",
          "20-40 лет",
          "40-60 лет",
          "20-40 лет",
          "40-60 лет",
          "20-40 лет",
          "40-60 лет",
          "40-60 лет",
          "20-40 лет",
          "20-40 лет",
          "40-60 лет",
          "20-40 лет",
          "40-60 лет",
          "40-60 лет",
          "20-40 лет",
          "40-60 лет",
          "20-40 лет",
          "20-40 лет",
          "40-60 лет",
          "40-60 лет",
          "20-40 лет",
          "20-40 лет",
          "40-60 лет",
          "20-40 лет",
          "40-60 лет",
          "40-60 лет",
          "40-60 лет",
          "20-40 лет",
          "40-60 лет",
          "20-40 лет",
          "20-40 лет",
          "20-40 лет",
          "40-60 лет",
          "20-40 лет",
          "40-60 лет",
          "20-40 лет",
          "40-60 лет",
          "40-60 лет",
          "20-40 лет",
          "20-40 лет",
          "40-60 лет",
          "20-40 лет",
          "40-60 лет",
          "40-60 лет",
          "20-40 лет",
          "40-60 лет",
          "20-40 лет",
          "20-40 лет",
          "40-60 лет",
          "40-60 лет",
          "20-40 лет",
          "20-40 лет",
          "40-60 лет",
          "20-40 лет",
          "40-60 лет",
          "40-60 лет",
          "40-60 лет",
          "20-40 лет",
          "40-60 лет",
          "20-40 лет",
          "20-40 лет",
          "20-40 лет",
          "40-60 лет",
          "20-40 лет",
          "40-60 лет",
          "20-40 лет",
          "40-60 лет",
          "40-60 лет",
          "20-40 лет",
          "20-40 лет",
          "40-60 лет",
          "20-40 лет",
          "40-60 лет",
          "40-60 лет",
          "20-40 лет",
          "40-60 лет",
          "20-40 лет",
          "20-40 лет",
          "40-60 лет",
          "40-60 лет",
          "20-40 лет",
          "20-40 лет",
          "40-60 лет",
          "20-40 лет",
          "40-60 лет",
          "40-60 лет",
          "40-60 лет",
          "20-40 лет",
          "40-60 лет",
          "20-40 лет",
          "20-40 лет",
          "20-40 лет",
          "40-60 лет",
          "20-40 лет",
          "40-60 лет",
          "20-40 лет",
          "40-60 лет",
          "40-60 лет",
          "20-40 лет",
          "20-40 лет",
          "40-60 лет",
          "20-40 лет",
          "40-60 лет",
          "40-60 лет",
          "20-40 лет",
          "40-60 лет",
          "20-40 лет",
          "20-40 лет",
          "40-60 лет",
          "40-60 лет",
          "20-40 лет",
          "20-40 лет",
          "40-60 лет",
          "20-40 лет",
          "40-60 лет",
          "40-60 лет",
          "40-60 лет",
          "20-40 лет",
          "40-60 лет",
          "20-40 лет",
          "20-40 лет",
          "20-40 лет",
          "40-60 лет",
          "20-40 лет",
          "40-60 лет",
          "20-40 лет",
          "40-60 лет",
          "40-60 лет",
          "20-40 лет",
          "20-40 лет",
          "40-60 лет",
          "20-40 лет",
          "40-60 лет",
          "40-60 лет",
          "20-40 лет",
          "40-60 лет",
          "20-40 лет",
          "20-40 лет",
          "40-60 лет",
          "40-60 лет",
          "20-40 лет",
          "20-40 лет",
          "40-60 лет",
          "20-40 лет",
          "40-60 лет",
          "40-60 лет",
          "40-60 лет",
          "20-40 лет",
          "40-60 лет",
          "20-40 лет",
          "20-40 лет",
          "20-40 лет",
          "40-60 лет",
          "20-40 лет",
          "40-60 лет",
          "20-40 лет",
          "40-60 лет",
          "40-60 лет",
          "20-40 лет",
          "20-40 лет",
          "40-60 лет",
          "20-40 лет",
          "40-60 лет",
          "40-60 лет",
          "20-40 лет",
          "40-60 лет",
          "20-40 лет",
          "20-40 лет",
          "40-60 лет",
          "40-60 лет",
          "20-40 лет",
          "20-40 лет",
          "40-60 лет",
          "20-40 лет",
          "40-60 лет",
          "40-60 лет",
          "40-60 лет",
          "20-40 лет",
          "40-60 лет",
          "20-40 лет",
          "20-40 лет",
          "20-40 лет",
          "40-60 лет",
          "20-40 лет",
          "40-60 лет",
          "20-40 лет",
          "40-60 лет",
          "40-60 лет",
          "20-40 лет",
          "20-40 лет",
          "40-60 лет",
          "20-40 лет",
          "40-60 лет",
          "40-60 лет",
          "20-40 лет",
          "40-60 лет",
          "20-40 лет",
          "20-40 лет"
         ],
         "x0": " ",
         "xaxis": "x",
         "y": [
          4.5,
          7,
          8,
          3,
          4.8,
          7.8,
          6.5,
          4.2,
          9,
          5.5,
          4.4,
          8.2,
          6,
          6.8,
          8.9,
          3.2,
          7,
          5,
          8.1,
          4.3,
          9.2,
          3.3,
          7.5,
          6.2,
          6.9,
          8.3,
          5.8,
          4.6,
          9,
          7.2,
          6.5,
          7.8,
          5.5,
          4,
          9.5,
          4.5,
          8.5,
          5,
          9.3,
          4.2,
          7,
          6.8,
          8.1,
          6,
          9.2,
          4.4,
          7.8,
          9,
          6.5,
          3.3,
          8.9,
          4.3,
          8,
          7.2,
          6.9,
          9.4,
          5.8,
          5.6,
          8.2,
          9.5,
          4.3,
          6,
          9,
          4,
          7.8,
          7.7,
          9,
          3.3,
          8.5,
          5,
          7,
          6.8,
          8.1,
          6,
          9.2,
          4.2,
          7.8,
          9,
          6.5,
          3.3,
          8.9,
          4.3,
          8,
          7.2,
          6.9,
          9.4,
          5.8,
          5.6,
          8.2,
          9.5,
          4.3,
          6,
          9,
          4,
          7.8,
          7.7,
          9,
          3.3,
          8.5,
          5,
          7,
          6.8,
          8.1,
          6,
          9.2,
          4.2,
          7.8,
          9,
          6.5,
          3.3,
          8.9,
          4.3,
          8,
          7.2,
          6.9,
          9.4,
          5.8,
          5.6,
          8.2,
          9.5,
          4.3,
          6,
          9,
          4,
          7.8,
          7.7,
          9,
          3.3,
          8.5,
          5,
          7,
          6.8,
          8.1,
          6,
          9.2,
          4.2,
          7.8,
          9,
          6.5,
          3.3,
          8.9,
          4.3,
          8,
          7.2,
          6.9,
          9.4,
          5.8,
          5.6,
          8.2,
          9.5,
          4.3,
          6,
          9,
          4,
          7.8,
          7.7,
          9,
          3.3,
          8.5,
          5,
          7,
          6.8,
          8.1,
          6,
          9.2,
          4.2,
          7.8,
          9,
          6.5,
          3.3,
          8.9,
          4.3,
          8,
          7.2,
          6.9,
          9.4,
          5.8,
          5.6,
          8.2,
          9.5,
          4.3,
          6,
          9,
          4,
          7.8,
          7.7,
          9,
          3.3,
          8.5,
          5,
          7,
          6.8,
          8.1,
          6,
          9.2,
          4.2,
          7.8,
          9,
          6.5,
          3.3,
          8.9,
          4.3,
          8,
          7.2,
          6.9,
          9.4,
          5.8,
          5.6,
          8.2,
          9.5,
          4.3,
          6,
          9,
          4,
          7.8,
          7.7,
          9,
          3.3,
          8.5,
          5,
          7,
          6.8,
          8.1,
          6,
          9.2,
          4.2,
          7.8,
          9,
          6.5,
          3.3,
          8.9,
          4.3,
          8,
          7.2,
          6.9,
          9.4,
          5.8,
          5.6
         ],
         "y0": " ",
         "yaxis": "y"
        }
       ],
       "layout": {
        "boxmode": "group",
        "legend": {
         "tracegroupgap": 0
        },
        "template": {
         "data": {
          "bar": [
           {
            "error_x": {
             "color": "#2a3f5f"
            },
            "error_y": {
             "color": "#2a3f5f"
            },
            "marker": {
             "line": {
              "color": "#E5ECF6",
              "width": 0.5
             },
             "pattern": {
              "fillmode": "overlay",
              "size": 10,
              "solidity": 0.2
             }
            },
            "type": "bar"
           }
          ],
          "barpolar": [
           {
            "marker": {
             "line": {
              "color": "#E5ECF6",
              "width": 0.5
             },
             "pattern": {
              "fillmode": "overlay",
              "size": 10,
              "solidity": 0.2
             }
            },
            "type": "barpolar"
           }
          ],
          "carpet": [
           {
            "aaxis": {
             "endlinecolor": "#2a3f5f",
             "gridcolor": "white",
             "linecolor": "white",
             "minorgridcolor": "white",
             "startlinecolor": "#2a3f5f"
            },
            "baxis": {
             "endlinecolor": "#2a3f5f",
             "gridcolor": "white",
             "linecolor": "white",
             "minorgridcolor": "white",
             "startlinecolor": "#2a3f5f"
            },
            "type": "carpet"
           }
          ],
          "choropleth": [
           {
            "colorbar": {
             "outlinewidth": 0,
             "ticks": ""
            },
            "type": "choropleth"
           }
          ],
          "contour": [
           {
            "colorbar": {
             "outlinewidth": 0,
             "ticks": ""
            },
            "colorscale": [
             [
              0,
              "#0d0887"
             ],
             [
              0.1111111111111111,
              "#46039f"
             ],
             [
              0.2222222222222222,
              "#7201a8"
             ],
             [
              0.3333333333333333,
              "#9c179e"
             ],
             [
              0.4444444444444444,
              "#bd3786"
             ],
             [
              0.5555555555555556,
              "#d8576b"
             ],
             [
              0.6666666666666666,
              "#ed7953"
             ],
             [
              0.7777777777777778,
              "#fb9f3a"
             ],
             [
              0.8888888888888888,
              "#fdca26"
             ],
             [
              1,
              "#f0f921"
             ]
            ],
            "type": "contour"
           }
          ],
          "contourcarpet": [
           {
            "colorbar": {
             "outlinewidth": 0,
             "ticks": ""
            },
            "type": "contourcarpet"
           }
          ],
          "heatmap": [
           {
            "colorbar": {
             "outlinewidth": 0,
             "ticks": ""
            },
            "colorscale": [
             [
              0,
              "#0d0887"
             ],
             [
              0.1111111111111111,
              "#46039f"
             ],
             [
              0.2222222222222222,
              "#7201a8"
             ],
             [
              0.3333333333333333,
              "#9c179e"
             ],
             [
              0.4444444444444444,
              "#bd3786"
             ],
             [
              0.5555555555555556,
              "#d8576b"
             ],
             [
              0.6666666666666666,
              "#ed7953"
             ],
             [
              0.7777777777777778,
              "#fb9f3a"
             ],
             [
              0.8888888888888888,
              "#fdca26"
             ],
             [
              1,
              "#f0f921"
             ]
            ],
            "type": "heatmap"
           }
          ],
          "heatmapgl": [
           {
            "colorbar": {
             "outlinewidth": 0,
             "ticks": ""
            },
            "colorscale": [
             [
              0,
              "#0d0887"
             ],
             [
              0.1111111111111111,
              "#46039f"
             ],
             [
              0.2222222222222222,
              "#7201a8"
             ],
             [
              0.3333333333333333,
              "#9c179e"
             ],
             [
              0.4444444444444444,
              "#bd3786"
             ],
             [
              0.5555555555555556,
              "#d8576b"
             ],
             [
              0.6666666666666666,
              "#ed7953"
             ],
             [
              0.7777777777777778,
              "#fb9f3a"
             ],
             [
              0.8888888888888888,
              "#fdca26"
             ],
             [
              1,
              "#f0f921"
             ]
            ],
            "type": "heatmapgl"
           }
          ],
          "histogram": [
           {
            "marker": {
             "pattern": {
              "fillmode": "overlay",
              "size": 10,
              "solidity": 0.2
             }
            },
            "type": "histogram"
           }
          ],
          "histogram2d": [
           {
            "colorbar": {
             "outlinewidth": 0,
             "ticks": ""
            },
            "colorscale": [
             [
              0,
              "#0d0887"
             ],
             [
              0.1111111111111111,
              "#46039f"
             ],
             [
              0.2222222222222222,
              "#7201a8"
             ],
             [
              0.3333333333333333,
              "#9c179e"
             ],
             [
              0.4444444444444444,
              "#bd3786"
             ],
             [
              0.5555555555555556,
              "#d8576b"
             ],
             [
              0.6666666666666666,
              "#ed7953"
             ],
             [
              0.7777777777777778,
              "#fb9f3a"
             ],
             [
              0.8888888888888888,
              "#fdca26"
             ],
             [
              1,
              "#f0f921"
             ]
            ],
            "type": "histogram2d"
           }
          ],
          "histogram2dcontour": [
           {
            "colorbar": {
             "outlinewidth": 0,
             "ticks": ""
            },
            "colorscale": [
             [
              0,
              "#0d0887"
             ],
             [
              0.1111111111111111,
              "#46039f"
             ],
             [
              0.2222222222222222,
              "#7201a8"
             ],
             [
              0.3333333333333333,
              "#9c179e"
             ],
             [
              0.4444444444444444,
              "#bd3786"
             ],
             [
              0.5555555555555556,
              "#d8576b"
             ],
             [
              0.6666666666666666,
              "#ed7953"
             ],
             [
              0.7777777777777778,
              "#fb9f3a"
             ],
             [
              0.8888888888888888,
              "#fdca26"
             ],
             [
              1,
              "#f0f921"
             ]
            ],
            "type": "histogram2dcontour"
           }
          ],
          "mesh3d": [
           {
            "colorbar": {
             "outlinewidth": 0,
             "ticks": ""
            },
            "type": "mesh3d"
           }
          ],
          "parcoords": [
           {
            "line": {
             "colorbar": {
              "outlinewidth": 0,
              "ticks": ""
             }
            },
            "type": "parcoords"
           }
          ],
          "pie": [
           {
            "automargin": true,
            "type": "pie"
           }
          ],
          "scatter": [
           {
            "fillpattern": {
             "fillmode": "overlay",
             "size": 10,
             "solidity": 0.2
            },
            "type": "scatter"
           }
          ],
          "scatter3d": [
           {
            "line": {
             "colorbar": {
              "outlinewidth": 0,
              "ticks": ""
             }
            },
            "marker": {
             "colorbar": {
              "outlinewidth": 0,
              "ticks": ""
             }
            },
            "type": "scatter3d"
           }
          ],
          "scattercarpet": [
           {
            "marker": {
             "colorbar": {
              "outlinewidth": 0,
              "ticks": ""
             }
            },
            "type": "scattercarpet"
           }
          ],
          "scattergeo": [
           {
            "marker": {
             "colorbar": {
              "outlinewidth": 0,
              "ticks": ""
             }
            },
            "type": "scattergeo"
           }
          ],
          "scattergl": [
           {
            "marker": {
             "colorbar": {
              "outlinewidth": 0,
              "ticks": ""
             }
            },
            "type": "scattergl"
           }
          ],
          "scattermapbox": [
           {
            "marker": {
             "colorbar": {
              "outlinewidth": 0,
              "ticks": ""
             }
            },
            "type": "scattermapbox"
           }
          ],
          "scatterpolar": [
           {
            "marker": {
             "colorbar": {
              "outlinewidth": 0,
              "ticks": ""
             }
            },
            "type": "scatterpolar"
           }
          ],
          "scatterpolargl": [
           {
            "marker": {
             "colorbar": {
              "outlinewidth": 0,
              "ticks": ""
             }
            },
            "type": "scatterpolargl"
           }
          ],
          "scatterternary": [
           {
            "marker": {
             "colorbar": {
              "outlinewidth": 0,
              "ticks": ""
             }
            },
            "type": "scatterternary"
           }
          ],
          "surface": [
           {
            "colorbar": {
             "outlinewidth": 0,
             "ticks": ""
            },
            "colorscale": [
             [
              0,
              "#0d0887"
             ],
             [
              0.1111111111111111,
              "#46039f"
             ],
             [
              0.2222222222222222,
              "#7201a8"
             ],
             [
              0.3333333333333333,
              "#9c179e"
             ],
             [
              0.4444444444444444,
              "#bd3786"
             ],
             [
              0.5555555555555556,
              "#d8576b"
             ],
             [
              0.6666666666666666,
              "#ed7953"
             ],
             [
              0.7777777777777778,
              "#fb9f3a"
             ],
             [
              0.8888888888888888,
              "#fdca26"
             ],
             [
              1,
              "#f0f921"
             ]
            ],
            "type": "surface"
           }
          ],
          "table": [
           {
            "cells": {
             "fill": {
              "color": "#EBF0F8"
             },
             "line": {
              "color": "white"
             }
            },
            "header": {
             "fill": {
              "color": "#C8D4E3"
             },
             "line": {
              "color": "white"
             }
            },
            "type": "table"
           }
          ]
         },
         "layout": {
          "annotationdefaults": {
           "arrowcolor": "#2a3f5f",
           "arrowhead": 0,
           "arrowwidth": 1
          },
          "autotypenumbers": "strict",
          "coloraxis": {
           "colorbar": {
            "outlinewidth": 0,
            "ticks": ""
           }
          },
          "colorscale": {
           "diverging": [
            [
             0,
             "#8e0152"
            ],
            [
             0.1,
             "#c51b7d"
            ],
            [
             0.2,
             "#de77ae"
            ],
            [
             0.3,
             "#f1b6da"
            ],
            [
             0.4,
             "#fde0ef"
            ],
            [
             0.5,
             "#f7f7f7"
            ],
            [
             0.6,
             "#e6f5d0"
            ],
            [
             0.7,
             "#b8e186"
            ],
            [
             0.8,
             "#7fbc41"
            ],
            [
             0.9,
             "#4d9221"
            ],
            [
             1,
             "#276419"
            ]
           ],
           "sequential": [
            [
             0,
             "#0d0887"
            ],
            [
             0.1111111111111111,
             "#46039f"
            ],
            [
             0.2222222222222222,
             "#7201a8"
            ],
            [
             0.3333333333333333,
             "#9c179e"
            ],
            [
             0.4444444444444444,
             "#bd3786"
            ],
            [
             0.5555555555555556,
             "#d8576b"
            ],
            [
             0.6666666666666666,
             "#ed7953"
            ],
            [
             0.7777777777777778,
             "#fb9f3a"
            ],
            [
             0.8888888888888888,
             "#fdca26"
            ],
            [
             1,
             "#f0f921"
            ]
           ],
           "sequentialminus": [
            [
             0,
             "#0d0887"
            ],
            [
             0.1111111111111111,
             "#46039f"
            ],
            [
             0.2222222222222222,
             "#7201a8"
            ],
            [
             0.3333333333333333,
             "#9c179e"
            ],
            [
             0.4444444444444444,
             "#bd3786"
            ],
            [
             0.5555555555555556,
             "#d8576b"
            ],
            [
             0.6666666666666666,
             "#ed7953"
            ],
            [
             0.7777777777777778,
             "#fb9f3a"
            ],
            [
             0.8888888888888888,
             "#fdca26"
            ],
            [
             1,
             "#f0f921"
            ]
           ]
          },
          "colorway": [
           "#636efa",
           "#EF553B",
           "#00cc96",
           "#ab63fa",
           "#FFA15A",
           "#19d3f3",
           "#FF6692",
           "#B6E880",
           "#FF97FF",
           "#FECB52"
          ],
          "font": {
           "color": "#2a3f5f"
          },
          "geo": {
           "bgcolor": "white",
           "lakecolor": "white",
           "landcolor": "#E5ECF6",
           "showlakes": true,
           "showland": true,
           "subunitcolor": "white"
          },
          "hoverlabel": {
           "align": "left"
          },
          "hovermode": "closest",
          "mapbox": {
           "style": "light"
          },
          "paper_bgcolor": "white",
          "plot_bgcolor": "#E5ECF6",
          "polar": {
           "angularaxis": {
            "gridcolor": "white",
            "linecolor": "white",
            "ticks": ""
           },
           "bgcolor": "#E5ECF6",
           "radialaxis": {
            "gridcolor": "white",
            "linecolor": "white",
            "ticks": ""
           }
          },
          "scene": {
           "xaxis": {
            "backgroundcolor": "#E5ECF6",
            "gridcolor": "white",
            "gridwidth": 2,
            "linecolor": "white",
            "showbackground": true,
            "ticks": "",
            "zerolinecolor": "white"
           },
           "yaxis": {
            "backgroundcolor": "#E5ECF6",
            "gridcolor": "white",
            "gridwidth": 2,
            "linecolor": "white",
            "showbackground": true,
            "ticks": "",
            "zerolinecolor": "white"
           },
           "zaxis": {
            "backgroundcolor": "#E5ECF6",
            "gridcolor": "white",
            "gridwidth": 2,
            "linecolor": "white",
            "showbackground": true,
            "ticks": "",
            "zerolinecolor": "white"
           }
          },
          "shapedefaults": {
           "line": {
            "color": "#2a3f5f"
           }
          },
          "ternary": {
           "aaxis": {
            "gridcolor": "white",
            "linecolor": "white",
            "ticks": ""
           },
           "baxis": {
            "gridcolor": "white",
            "linecolor": "white",
            "ticks": ""
           },
           "bgcolor": "#E5ECF6",
           "caxis": {
            "gridcolor": "white",
            "linecolor": "white",
            "ticks": ""
           }
          },
          "title": {
           "x": 0.05
          },
          "xaxis": {
           "automargin": true,
           "gridcolor": "white",
           "linecolor": "white",
           "ticks": "",
           "title": {
            "standoff": 15
           },
           "zerolinecolor": "white",
           "zerolinewidth": 2
          },
          "yaxis": {
           "automargin": true,
           "gridcolor": "white",
           "linecolor": "white",
           "ticks": "",
           "title": {
            "standoff": 15
           },
           "zerolinecolor": "white",
           "zerolinewidth": 2
          }
         }
        },
        "title": {
         "text": "Распределение уровня лояльности по возрастным группам"
        },
        "xaxis": {
         "anchor": "y",
         "domain": [
          0,
          1
         ],
         "title": {
          "text": "Возрастная группа"
         }
        },
        "yaxis": {
         "anchor": "x",
         "domain": [
          0,
          1
         ],
         "title": {
          "text": "Уровень лояльности"
         }
        }
       }
      }
     },
     "metadata": {},
     "output_type": "display_data"
    }
   ],
   "source": [
    "def age_group(age):\n",
    "    if age < 20:\n",
    "        return 'До 20 лет'\n",
    "    elif 20 <= age < 40:\n",
    "        return '20-40 лет'\n",
    "    elif 40 <= age < 60:\n",
    "        return '40-60 лет'\n",
    "    else:\n",
    "        return 'Старше 60 лет'\n",
    "\n",
    "df['age_group'] = df['age'].apply(age_group)\n",
    "\n",
    "fig = px.box(df, \n",
    "             x='age_group', \n",
    "             y='loyalty_score',\n",
    "             title='Распределение уровня лояльности по возрастным группам',\n",
    "             labels={'age_group': 'Возрастная группа',\n",
    "                     'loyalty_score': 'Уровень лояльности'})\n",
    "\n",
    "fig.show()"
   ]
  },
  {
   "cell_type": "markdown",
   "id": "d4c97bef-bb64-43cc-a89f-7510174492ec",
   "metadata": {},
   "source": [
    "5. Визуализируйте зависимость частоты покупок от заработка"
   ]
  },
  {
   "cell_type": "code",
   "execution_count": 84,
   "id": "a1f444af-3544-432c-8dc6-bb74d4cff272",
   "metadata": {},
   "outputs": [
    {
     "data": {
      "application/vnd.plotly.v1+json": {
       "config": {
        "plotlyServerURL": "https://plot.ly"
       },
       "data": [
        {
         "hovertemplate": "Annual Income=%{x}<br>Purchase Frequency=%{y}<extra></extra>",
         "legendgroup": "",
         "marker": {
          "color": "#636efa",
          "symbol": "circle"
         },
         "mode": "markers",
         "name": "",
         "orientation": "v",
         "showlegend": false,
         "type": "scatter",
         "x": [
          45000,
          55000,
          65000,
          30000,
          47000,
          61000,
          54000,
          43000,
          70000,
          50000,
          46000,
          62000,
          53000,
          58000,
          69000,
          31000,
          57000,
          49000,
          66000,
          44000,
          72000,
          32000,
          63000,
          56000,
          59000,
          67000,
          52000,
          48000,
          71000,
          60000,
          55000,
          64000,
          50000,
          43000,
          75000,
          45000,
          68000,
          49000,
          73000,
          46000,
          57000,
          58000,
          66000,
          53000,
          72000,
          47000,
          61000,
          70000,
          54000,
          32000,
          69000,
          44000,
          65000,
          60000,
          59000,
          74000,
          52000,
          51000,
          62000,
          75000,
          46000,
          53000,
          71000,
          43000,
          63000,
          61000,
          70000,
          32000,
          68000,
          49000,
          57000,
          58000,
          66000,
          53000,
          72000,
          46000,
          61000,
          70000,
          54000,
          32000,
          69000,
          44000,
          65000,
          60000,
          59000,
          74000,
          52000,
          51000,
          62000,
          75000,
          46000,
          53000,
          71000,
          43000,
          63000,
          61000,
          70000,
          32000,
          68000,
          49000,
          57000,
          58000,
          66000,
          53000,
          72000,
          46000,
          61000,
          70000,
          54000,
          32000,
          69000,
          44000,
          65000,
          60000,
          59000,
          74000,
          52000,
          51000,
          62000,
          75000,
          46000,
          53000,
          71000,
          43000,
          63000,
          61000,
          70000,
          32000,
          68000,
          49000,
          57000,
          58000,
          66000,
          53000,
          72000,
          46000,
          61000,
          70000,
          54000,
          32000,
          69000,
          44000,
          65000,
          60000,
          59000,
          74000,
          52000,
          51000,
          62000,
          75000,
          46000,
          53000,
          71000,
          43000,
          63000,
          61000,
          70000,
          32000,
          68000,
          49000,
          57000,
          58000,
          66000,
          53000,
          72000,
          46000,
          61000,
          70000,
          54000,
          32000,
          69000,
          44000,
          65000,
          60000,
          59000,
          74000,
          52000,
          51000,
          62000,
          75000,
          46000,
          53000,
          71000,
          43000,
          63000,
          61000,
          70000,
          32000,
          68000,
          49000,
          57000,
          58000,
          66000,
          53000,
          72000,
          46000,
          61000,
          70000,
          54000,
          32000,
          69000,
          44000,
          65000,
          60000,
          59000,
          74000,
          52000,
          51000,
          62000,
          75000,
          46000,
          53000,
          71000,
          43000,
          63000,
          61000,
          70000,
          32000,
          68000,
          49000,
          57000,
          58000,
          66000,
          53000,
          72000,
          46000,
          61000,
          70000,
          54000,
          32000,
          69000,
          44000,
          65000,
          60000,
          59000,
          74000,
          52000,
          51000
         ],
         "xaxis": "x",
         "y": [
          12,
          18,
          22,
          10,
          13,
          21,
          19,
          14,
          25,
          17,
          15,
          23,
          18,
          20,
          24,
          11,
          21,
          16,
          22,
          14,
          26,
          12,
          21,
          19,
          20,
          23,
          18,
          15,
          25,
          22,
          19,
          21,
          16,
          14,
          28,
          12,
          24,
          17,
          27,
          14,
          21,
          20,
          22,
          18,
          26,
          13,
          21,
          25,
          19,
          11,
          24,
          14,
          22,
          20,
          20,
          27,
          18,
          17,
          23,
          28,
          15,
          18,
          25,
          14,
          21,
          22,
          25,
          11,
          24,
          16,
          21,
          20,
          22,
          18,
          26,
          14,
          21,
          25,
          19,
          11,
          24,
          14,
          22,
          20,
          20,
          27,
          18,
          17,
          23,
          28,
          15,
          18,
          25,
          14,
          21,
          22,
          25,
          11,
          24,
          16,
          21,
          20,
          22,
          18,
          26,
          14,
          21,
          25,
          19,
          11,
          24,
          14,
          22,
          20,
          20,
          27,
          18,
          17,
          23,
          28,
          15,
          18,
          25,
          14,
          21,
          22,
          25,
          11,
          24,
          16,
          21,
          20,
          22,
          18,
          26,
          14,
          21,
          25,
          19,
          11,
          24,
          14,
          22,
          20,
          20,
          27,
          18,
          17,
          23,
          28,
          15,
          18,
          25,
          14,
          21,
          22,
          25,
          11,
          24,
          16,
          21,
          20,
          22,
          18,
          26,
          14,
          21,
          25,
          19,
          11,
          24,
          14,
          22,
          20,
          20,
          27,
          18,
          17,
          23,
          28,
          15,
          18,
          25,
          14,
          21,
          22,
          25,
          11,
          24,
          16,
          21,
          20,
          22,
          18,
          26,
          14,
          21,
          25,
          19,
          11,
          24,
          14,
          22,
          20,
          20,
          27,
          18,
          17,
          23,
          28,
          15,
          18,
          25,
          14,
          21,
          22,
          25,
          11,
          24,
          16,
          21,
          20,
          22,
          18,
          26,
          14,
          21,
          25,
          19,
          11,
          24,
          14,
          22,
          20,
          20,
          27,
          18,
          17
         ],
         "yaxis": "y"
        },
        {
         "hovertemplate": "<b>OLS trendline</b><br>purchase_frequency = 0.000393283 * annual_income + -2.77911<br>R<sup>2</sup>=0.966133<br><br>Annual Income=%{x}<br>Purchase Frequency=%{y} <b>(trend)</b><extra></extra>",
         "legendgroup": "",
         "marker": {
          "color": "#636efa",
          "symbol": "circle"
         },
         "mode": "lines",
         "name": "",
         "showlegend": false,
         "type": "scatter",
         "x": [
          30000,
          31000,
          32000,
          32000,
          32000,
          32000,
          32000,
          32000,
          32000,
          32000,
          32000,
          32000,
          32000,
          32000,
          32000,
          32000,
          43000,
          43000,
          43000,
          43000,
          43000,
          43000,
          43000,
          43000,
          44000,
          44000,
          44000,
          44000,
          44000,
          44000,
          44000,
          44000,
          45000,
          45000,
          46000,
          46000,
          46000,
          46000,
          46000,
          46000,
          46000,
          46000,
          46000,
          46000,
          46000,
          46000,
          46000,
          46000,
          47000,
          47000,
          48000,
          49000,
          49000,
          49000,
          49000,
          49000,
          49000,
          49000,
          49000,
          50000,
          50000,
          51000,
          51000,
          51000,
          51000,
          51000,
          51000,
          51000,
          52000,
          52000,
          52000,
          52000,
          52000,
          52000,
          52000,
          52000,
          53000,
          53000,
          53000,
          53000,
          53000,
          53000,
          53000,
          53000,
          53000,
          53000,
          53000,
          53000,
          53000,
          53000,
          54000,
          54000,
          54000,
          54000,
          54000,
          54000,
          54000,
          54000,
          55000,
          55000,
          56000,
          57000,
          57000,
          57000,
          57000,
          57000,
          57000,
          57000,
          57000,
          58000,
          58000,
          58000,
          58000,
          58000,
          58000,
          58000,
          58000,
          59000,
          59000,
          59000,
          59000,
          59000,
          59000,
          59000,
          59000,
          60000,
          60000,
          60000,
          60000,
          60000,
          60000,
          60000,
          60000,
          61000,
          61000,
          61000,
          61000,
          61000,
          61000,
          61000,
          61000,
          61000,
          61000,
          61000,
          61000,
          61000,
          61000,
          62000,
          62000,
          62000,
          62000,
          62000,
          62000,
          62000,
          63000,
          63000,
          63000,
          63000,
          63000,
          63000,
          63000,
          64000,
          65000,
          65000,
          65000,
          65000,
          65000,
          65000,
          65000,
          65000,
          66000,
          66000,
          66000,
          66000,
          66000,
          66000,
          66000,
          66000,
          67000,
          68000,
          68000,
          68000,
          68000,
          68000,
          68000,
          68000,
          69000,
          69000,
          69000,
          69000,
          69000,
          69000,
          69000,
          69000,
          70000,
          70000,
          70000,
          70000,
          70000,
          70000,
          70000,
          70000,
          70000,
          70000,
          70000,
          70000,
          70000,
          70000,
          71000,
          71000,
          71000,
          71000,
          71000,
          71000,
          71000,
          72000,
          72000,
          72000,
          72000,
          72000,
          72000,
          72000,
          72000,
          73000,
          74000,
          74000,
          74000,
          74000,
          74000,
          74000,
          74000,
          75000,
          75000,
          75000,
          75000,
          75000,
          75000,
          75000
         ],
         "xaxis": "x",
         "y": [
          9.01938693006852,
          9.41267006829383,
          9.80595320651914,
          9.80595320651914,
          9.80595320651914,
          9.80595320651914,
          9.80595320651914,
          9.80595320651914,
          9.80595320651914,
          9.80595320651914,
          9.80595320651914,
          9.80595320651914,
          9.80595320651914,
          9.80595320651914,
          9.80595320651914,
          9.80595320651914,
          14.132067726997546,
          14.132067726997546,
          14.132067726997546,
          14.132067726997546,
          14.132067726997546,
          14.132067726997546,
          14.132067726997546,
          14.132067726997546,
          14.525350865222855,
          14.525350865222855,
          14.525350865222855,
          14.525350865222855,
          14.525350865222855,
          14.525350865222855,
          14.525350865222855,
          14.525350865222855,
          14.918634003448165,
          14.918634003448165,
          15.311917141673474,
          15.311917141673474,
          15.311917141673474,
          15.311917141673474,
          15.311917141673474,
          15.311917141673474,
          15.311917141673474,
          15.311917141673474,
          15.311917141673474,
          15.311917141673474,
          15.311917141673474,
          15.311917141673474,
          15.311917141673474,
          15.311917141673474,
          15.705200279898785,
          15.705200279898785,
          16.098483418124093,
          16.491766556349404,
          16.491766556349404,
          16.491766556349404,
          16.491766556349404,
          16.491766556349404,
          16.491766556349404,
          16.491766556349404,
          16.491766556349404,
          16.88504969457471,
          16.88504969457471,
          17.27833283280002,
          17.27833283280002,
          17.27833283280002,
          17.27833283280002,
          17.27833283280002,
          17.27833283280002,
          17.27833283280002,
          17.671615971025332,
          17.671615971025332,
          17.671615971025332,
          17.671615971025332,
          17.671615971025332,
          17.671615971025332,
          17.671615971025332,
          17.671615971025332,
          18.064899109250643,
          18.064899109250643,
          18.064899109250643,
          18.064899109250643,
          18.064899109250643,
          18.064899109250643,
          18.064899109250643,
          18.064899109250643,
          18.064899109250643,
          18.064899109250643,
          18.064899109250643,
          18.064899109250643,
          18.064899109250643,
          18.064899109250643,
          18.45818224747595,
          18.45818224747595,
          18.45818224747595,
          18.45818224747595,
          18.45818224747595,
          18.45818224747595,
          18.45818224747595,
          18.45818224747595,
          18.85146538570126,
          18.85146538570126,
          19.24474852392657,
          19.63803166215188,
          19.63803166215188,
          19.63803166215188,
          19.63803166215188,
          19.63803166215188,
          19.63803166215188,
          19.63803166215188,
          19.63803166215188,
          20.03131480037719,
          20.03131480037719,
          20.03131480037719,
          20.03131480037719,
          20.03131480037719,
          20.03131480037719,
          20.03131480037719,
          20.03131480037719,
          20.4245979386025,
          20.4245979386025,
          20.4245979386025,
          20.4245979386025,
          20.4245979386025,
          20.4245979386025,
          20.4245979386025,
          20.4245979386025,
          20.81788107682781,
          20.81788107682781,
          20.81788107682781,
          20.81788107682781,
          20.81788107682781,
          20.81788107682781,
          20.81788107682781,
          20.81788107682781,
          21.21116421505312,
          21.21116421505312,
          21.21116421505312,
          21.21116421505312,
          21.21116421505312,
          21.21116421505312,
          21.21116421505312,
          21.21116421505312,
          21.21116421505312,
          21.21116421505312,
          21.21116421505312,
          21.21116421505312,
          21.21116421505312,
          21.21116421505312,
          21.604447353278427,
          21.604447353278427,
          21.604447353278427,
          21.604447353278427,
          21.604447353278427,
          21.604447353278427,
          21.604447353278427,
          21.997730491503738,
          21.997730491503738,
          21.997730491503738,
          21.997730491503738,
          21.997730491503738,
          21.997730491503738,
          21.997730491503738,
          22.39101362972905,
          22.78429676795436,
          22.78429676795436,
          22.78429676795436,
          22.78429676795436,
          22.78429676795436,
          22.78429676795436,
          22.78429676795436,
          22.78429676795436,
          23.177579906179666,
          23.177579906179666,
          23.177579906179666,
          23.177579906179666,
          23.177579906179666,
          23.177579906179666,
          23.177579906179666,
          23.177579906179666,
          23.570863044404977,
          23.964146182630287,
          23.964146182630287,
          23.964146182630287,
          23.964146182630287,
          23.964146182630287,
          23.964146182630287,
          23.964146182630287,
          24.357429320855594,
          24.357429320855594,
          24.357429320855594,
          24.357429320855594,
          24.357429320855594,
          24.357429320855594,
          24.357429320855594,
          24.357429320855594,
          24.750712459080905,
          24.750712459080905,
          24.750712459080905,
          24.750712459080905,
          24.750712459080905,
          24.750712459080905,
          24.750712459080905,
          24.750712459080905,
          24.750712459080905,
          24.750712459080905,
          24.750712459080905,
          24.750712459080905,
          24.750712459080905,
          24.750712459080905,
          25.143995597306215,
          25.143995597306215,
          25.143995597306215,
          25.143995597306215,
          25.143995597306215,
          25.143995597306215,
          25.143995597306215,
          25.537278735531526,
          25.537278735531526,
          25.537278735531526,
          25.537278735531526,
          25.537278735531526,
          25.537278735531526,
          25.537278735531526,
          25.537278735531526,
          25.930561873756833,
          26.323845011982144,
          26.323845011982144,
          26.323845011982144,
          26.323845011982144,
          26.323845011982144,
          26.323845011982144,
          26.323845011982144,
          26.717128150207454,
          26.717128150207454,
          26.717128150207454,
          26.717128150207454,
          26.717128150207454,
          26.717128150207454,
          26.717128150207454
         ],
         "yaxis": "y"
        }
       ],
       "layout": {
        "legend": {
         "tracegroupgap": 0
        },
        "template": {
         "data": {
          "bar": [
           {
            "error_x": {
             "color": "#2a3f5f"
            },
            "error_y": {
             "color": "#2a3f5f"
            },
            "marker": {
             "line": {
              "color": "#E5ECF6",
              "width": 0.5
             },
             "pattern": {
              "fillmode": "overlay",
              "size": 10,
              "solidity": 0.2
             }
            },
            "type": "bar"
           }
          ],
          "barpolar": [
           {
            "marker": {
             "line": {
              "color": "#E5ECF6",
              "width": 0.5
             },
             "pattern": {
              "fillmode": "overlay",
              "size": 10,
              "solidity": 0.2
             }
            },
            "type": "barpolar"
           }
          ],
          "carpet": [
           {
            "aaxis": {
             "endlinecolor": "#2a3f5f",
             "gridcolor": "white",
             "linecolor": "white",
             "minorgridcolor": "white",
             "startlinecolor": "#2a3f5f"
            },
            "baxis": {
             "endlinecolor": "#2a3f5f",
             "gridcolor": "white",
             "linecolor": "white",
             "minorgridcolor": "white",
             "startlinecolor": "#2a3f5f"
            },
            "type": "carpet"
           }
          ],
          "choropleth": [
           {
            "colorbar": {
             "outlinewidth": 0,
             "ticks": ""
            },
            "type": "choropleth"
           }
          ],
          "contour": [
           {
            "colorbar": {
             "outlinewidth": 0,
             "ticks": ""
            },
            "colorscale": [
             [
              0,
              "#0d0887"
             ],
             [
              0.1111111111111111,
              "#46039f"
             ],
             [
              0.2222222222222222,
              "#7201a8"
             ],
             [
              0.3333333333333333,
              "#9c179e"
             ],
             [
              0.4444444444444444,
              "#bd3786"
             ],
             [
              0.5555555555555556,
              "#d8576b"
             ],
             [
              0.6666666666666666,
              "#ed7953"
             ],
             [
              0.7777777777777778,
              "#fb9f3a"
             ],
             [
              0.8888888888888888,
              "#fdca26"
             ],
             [
              1,
              "#f0f921"
             ]
            ],
            "type": "contour"
           }
          ],
          "contourcarpet": [
           {
            "colorbar": {
             "outlinewidth": 0,
             "ticks": ""
            },
            "type": "contourcarpet"
           }
          ],
          "heatmap": [
           {
            "colorbar": {
             "outlinewidth": 0,
             "ticks": ""
            },
            "colorscale": [
             [
              0,
              "#0d0887"
             ],
             [
              0.1111111111111111,
              "#46039f"
             ],
             [
              0.2222222222222222,
              "#7201a8"
             ],
             [
              0.3333333333333333,
              "#9c179e"
             ],
             [
              0.4444444444444444,
              "#bd3786"
             ],
             [
              0.5555555555555556,
              "#d8576b"
             ],
             [
              0.6666666666666666,
              "#ed7953"
             ],
             [
              0.7777777777777778,
              "#fb9f3a"
             ],
             [
              0.8888888888888888,
              "#fdca26"
             ],
             [
              1,
              "#f0f921"
             ]
            ],
            "type": "heatmap"
           }
          ],
          "heatmapgl": [
           {
            "colorbar": {
             "outlinewidth": 0,
             "ticks": ""
            },
            "colorscale": [
             [
              0,
              "#0d0887"
             ],
             [
              0.1111111111111111,
              "#46039f"
             ],
             [
              0.2222222222222222,
              "#7201a8"
             ],
             [
              0.3333333333333333,
              "#9c179e"
             ],
             [
              0.4444444444444444,
              "#bd3786"
             ],
             [
              0.5555555555555556,
              "#d8576b"
             ],
             [
              0.6666666666666666,
              "#ed7953"
             ],
             [
              0.7777777777777778,
              "#fb9f3a"
             ],
             [
              0.8888888888888888,
              "#fdca26"
             ],
             [
              1,
              "#f0f921"
             ]
            ],
            "type": "heatmapgl"
           }
          ],
          "histogram": [
           {
            "marker": {
             "pattern": {
              "fillmode": "overlay",
              "size": 10,
              "solidity": 0.2
             }
            },
            "type": "histogram"
           }
          ],
          "histogram2d": [
           {
            "colorbar": {
             "outlinewidth": 0,
             "ticks": ""
            },
            "colorscale": [
             [
              0,
              "#0d0887"
             ],
             [
              0.1111111111111111,
              "#46039f"
             ],
             [
              0.2222222222222222,
              "#7201a8"
             ],
             [
              0.3333333333333333,
              "#9c179e"
             ],
             [
              0.4444444444444444,
              "#bd3786"
             ],
             [
              0.5555555555555556,
              "#d8576b"
             ],
             [
              0.6666666666666666,
              "#ed7953"
             ],
             [
              0.7777777777777778,
              "#fb9f3a"
             ],
             [
              0.8888888888888888,
              "#fdca26"
             ],
             [
              1,
              "#f0f921"
             ]
            ],
            "type": "histogram2d"
           }
          ],
          "histogram2dcontour": [
           {
            "colorbar": {
             "outlinewidth": 0,
             "ticks": ""
            },
            "colorscale": [
             [
              0,
              "#0d0887"
             ],
             [
              0.1111111111111111,
              "#46039f"
             ],
             [
              0.2222222222222222,
              "#7201a8"
             ],
             [
              0.3333333333333333,
              "#9c179e"
             ],
             [
              0.4444444444444444,
              "#bd3786"
             ],
             [
              0.5555555555555556,
              "#d8576b"
             ],
             [
              0.6666666666666666,
              "#ed7953"
             ],
             [
              0.7777777777777778,
              "#fb9f3a"
             ],
             [
              0.8888888888888888,
              "#fdca26"
             ],
             [
              1,
              "#f0f921"
             ]
            ],
            "type": "histogram2dcontour"
           }
          ],
          "mesh3d": [
           {
            "colorbar": {
             "outlinewidth": 0,
             "ticks": ""
            },
            "type": "mesh3d"
           }
          ],
          "parcoords": [
           {
            "line": {
             "colorbar": {
              "outlinewidth": 0,
              "ticks": ""
             }
            },
            "type": "parcoords"
           }
          ],
          "pie": [
           {
            "automargin": true,
            "type": "pie"
           }
          ],
          "scatter": [
           {
            "fillpattern": {
             "fillmode": "overlay",
             "size": 10,
             "solidity": 0.2
            },
            "type": "scatter"
           }
          ],
          "scatter3d": [
           {
            "line": {
             "colorbar": {
              "outlinewidth": 0,
              "ticks": ""
             }
            },
            "marker": {
             "colorbar": {
              "outlinewidth": 0,
              "ticks": ""
             }
            },
            "type": "scatter3d"
           }
          ],
          "scattercarpet": [
           {
            "marker": {
             "colorbar": {
              "outlinewidth": 0,
              "ticks": ""
             }
            },
            "type": "scattercarpet"
           }
          ],
          "scattergeo": [
           {
            "marker": {
             "colorbar": {
              "outlinewidth": 0,
              "ticks": ""
             }
            },
            "type": "scattergeo"
           }
          ],
          "scattergl": [
           {
            "marker": {
             "colorbar": {
              "outlinewidth": 0,
              "ticks": ""
             }
            },
            "type": "scattergl"
           }
          ],
          "scattermapbox": [
           {
            "marker": {
             "colorbar": {
              "outlinewidth": 0,
              "ticks": ""
             }
            },
            "type": "scattermapbox"
           }
          ],
          "scatterpolar": [
           {
            "marker": {
             "colorbar": {
              "outlinewidth": 0,
              "ticks": ""
             }
            },
            "type": "scatterpolar"
           }
          ],
          "scatterpolargl": [
           {
            "marker": {
             "colorbar": {
              "outlinewidth": 0,
              "ticks": ""
             }
            },
            "type": "scatterpolargl"
           }
          ],
          "scatterternary": [
           {
            "marker": {
             "colorbar": {
              "outlinewidth": 0,
              "ticks": ""
             }
            },
            "type": "scatterternary"
           }
          ],
          "surface": [
           {
            "colorbar": {
             "outlinewidth": 0,
             "ticks": ""
            },
            "colorscale": [
             [
              0,
              "#0d0887"
             ],
             [
              0.1111111111111111,
              "#46039f"
             ],
             [
              0.2222222222222222,
              "#7201a8"
             ],
             [
              0.3333333333333333,
              "#9c179e"
             ],
             [
              0.4444444444444444,
              "#bd3786"
             ],
             [
              0.5555555555555556,
              "#d8576b"
             ],
             [
              0.6666666666666666,
              "#ed7953"
             ],
             [
              0.7777777777777778,
              "#fb9f3a"
             ],
             [
              0.8888888888888888,
              "#fdca26"
             ],
             [
              1,
              "#f0f921"
             ]
            ],
            "type": "surface"
           }
          ],
          "table": [
           {
            "cells": {
             "fill": {
              "color": "#EBF0F8"
             },
             "line": {
              "color": "white"
             }
            },
            "header": {
             "fill": {
              "color": "#C8D4E3"
             },
             "line": {
              "color": "white"
             }
            },
            "type": "table"
           }
          ]
         },
         "layout": {
          "annotationdefaults": {
           "arrowcolor": "#2a3f5f",
           "arrowhead": 0,
           "arrowwidth": 1
          },
          "autotypenumbers": "strict",
          "coloraxis": {
           "colorbar": {
            "outlinewidth": 0,
            "ticks": ""
           }
          },
          "colorscale": {
           "diverging": [
            [
             0,
             "#8e0152"
            ],
            [
             0.1,
             "#c51b7d"
            ],
            [
             0.2,
             "#de77ae"
            ],
            [
             0.3,
             "#f1b6da"
            ],
            [
             0.4,
             "#fde0ef"
            ],
            [
             0.5,
             "#f7f7f7"
            ],
            [
             0.6,
             "#e6f5d0"
            ],
            [
             0.7,
             "#b8e186"
            ],
            [
             0.8,
             "#7fbc41"
            ],
            [
             0.9,
             "#4d9221"
            ],
            [
             1,
             "#276419"
            ]
           ],
           "sequential": [
            [
             0,
             "#0d0887"
            ],
            [
             0.1111111111111111,
             "#46039f"
            ],
            [
             0.2222222222222222,
             "#7201a8"
            ],
            [
             0.3333333333333333,
             "#9c179e"
            ],
            [
             0.4444444444444444,
             "#bd3786"
            ],
            [
             0.5555555555555556,
             "#d8576b"
            ],
            [
             0.6666666666666666,
             "#ed7953"
            ],
            [
             0.7777777777777778,
             "#fb9f3a"
            ],
            [
             0.8888888888888888,
             "#fdca26"
            ],
            [
             1,
             "#f0f921"
            ]
           ],
           "sequentialminus": [
            [
             0,
             "#0d0887"
            ],
            [
             0.1111111111111111,
             "#46039f"
            ],
            [
             0.2222222222222222,
             "#7201a8"
            ],
            [
             0.3333333333333333,
             "#9c179e"
            ],
            [
             0.4444444444444444,
             "#bd3786"
            ],
            [
             0.5555555555555556,
             "#d8576b"
            ],
            [
             0.6666666666666666,
             "#ed7953"
            ],
            [
             0.7777777777777778,
             "#fb9f3a"
            ],
            [
             0.8888888888888888,
             "#fdca26"
            ],
            [
             1,
             "#f0f921"
            ]
           ]
          },
          "colorway": [
           "#636efa",
           "#EF553B",
           "#00cc96",
           "#ab63fa",
           "#FFA15A",
           "#19d3f3",
           "#FF6692",
           "#B6E880",
           "#FF97FF",
           "#FECB52"
          ],
          "font": {
           "color": "#2a3f5f"
          },
          "geo": {
           "bgcolor": "white",
           "lakecolor": "white",
           "landcolor": "#E5ECF6",
           "showlakes": true,
           "showland": true,
           "subunitcolor": "white"
          },
          "hoverlabel": {
           "align": "left"
          },
          "hovermode": "closest",
          "mapbox": {
           "style": "light"
          },
          "paper_bgcolor": "white",
          "plot_bgcolor": "#E5ECF6",
          "polar": {
           "angularaxis": {
            "gridcolor": "white",
            "linecolor": "white",
            "ticks": ""
           },
           "bgcolor": "#E5ECF6",
           "radialaxis": {
            "gridcolor": "white",
            "linecolor": "white",
            "ticks": ""
           }
          },
          "scene": {
           "xaxis": {
            "backgroundcolor": "#E5ECF6",
            "gridcolor": "white",
            "gridwidth": 2,
            "linecolor": "white",
            "showbackground": true,
            "ticks": "",
            "zerolinecolor": "white"
           },
           "yaxis": {
            "backgroundcolor": "#E5ECF6",
            "gridcolor": "white",
            "gridwidth": 2,
            "linecolor": "white",
            "showbackground": true,
            "ticks": "",
            "zerolinecolor": "white"
           },
           "zaxis": {
            "backgroundcolor": "#E5ECF6",
            "gridcolor": "white",
            "gridwidth": 2,
            "linecolor": "white",
            "showbackground": true,
            "ticks": "",
            "zerolinecolor": "white"
           }
          },
          "shapedefaults": {
           "line": {
            "color": "#2a3f5f"
           }
          },
          "ternary": {
           "aaxis": {
            "gridcolor": "white",
            "linecolor": "white",
            "ticks": ""
           },
           "baxis": {
            "gridcolor": "white",
            "linecolor": "white",
            "ticks": ""
           },
           "bgcolor": "#E5ECF6",
           "caxis": {
            "gridcolor": "white",
            "linecolor": "white",
            "ticks": ""
           }
          },
          "title": {
           "x": 0.05
          },
          "xaxis": {
           "automargin": true,
           "gridcolor": "white",
           "linecolor": "white",
           "ticks": "",
           "title": {
            "standoff": 15
           },
           "zerolinecolor": "white",
           "zerolinewidth": 2
          },
          "yaxis": {
           "automargin": true,
           "gridcolor": "white",
           "linecolor": "white",
           "ticks": "",
           "title": {
            "standoff": 15
           },
           "zerolinecolor": "white",
           "zerolinewidth": 2
          }
         }
        },
        "title": {
         "text": "Purchase Frequency vs Annual Income"
        },
        "xaxis": {
         "anchor": "y",
         "domain": [
          0,
          1
         ],
         "title": {
          "text": "Annual Income"
         }
        },
        "yaxis": {
         "anchor": "x",
         "domain": [
          0,
          1
         ],
         "title": {
          "text": "Purchase Frequency"
         }
        }
       }
      }
     },
     "metadata": {},
     "output_type": "display_data"
    }
   ],
   "source": [
    "fig = px.scatter(df, x='annual_income', y='purchase_frequency', \n",
    "                 title='Purchase Frequency vs Annual Income', \n",
    "                 labels={'annual_income': 'Annual Income', 'purchase_frequency': 'Purchase Frequency'},\n",
    "                 trendline=\"ols\")\n",
    "\n",
    "fig.show()\n"
   ]
  },
  {
   "cell_type": "markdown",
   "id": "a2ab764c-8ac1-4c5a-93ad-8168b0eb4934",
   "metadata": {},
   "source": [
    "6. Визуализируйте как зависит сумма покупок от зарплаты клиента"
   ]
  },
  {
   "cell_type": "code",
   "execution_count": 85,
   "id": "6449e306-fb6c-46d4-bcd8-b6b76fbf69d2",
   "metadata": {},
   "outputs": [
    {
     "data": {
      "application/vnd.plotly.v1+json": {
       "config": {
        "plotlyServerURL": "https://plot.ly"
       },
       "data": [
        {
         "hovertemplate": "Annual Income=%{x}<br>Purchase Amount=%{y}<extra></extra>",
         "legendgroup": "",
         "marker": {
          "color": "#636efa",
          "symbol": "circle"
         },
         "mode": "markers",
         "name": "",
         "orientation": "v",
         "showlegend": false,
         "type": "scatter",
         "x": [
          45000,
          55000,
          65000,
          30000,
          47000,
          61000,
          54000,
          43000,
          70000,
          50000,
          46000,
          62000,
          53000,
          58000,
          69000,
          31000,
          57000,
          49000,
          66000,
          44000,
          72000,
          32000,
          63000,
          56000,
          59000,
          67000,
          52000,
          48000,
          71000,
          60000,
          55000,
          64000,
          50000,
          43000,
          75000,
          45000,
          68000,
          49000,
          73000,
          46000,
          57000,
          58000,
          66000,
          53000,
          72000,
          47000,
          61000,
          70000,
          54000,
          32000,
          69000,
          44000,
          65000,
          60000,
          59000,
          74000,
          52000,
          51000,
          62000,
          75000,
          46000,
          53000,
          71000,
          43000,
          63000,
          61000,
          70000,
          32000,
          68000,
          49000,
          57000,
          58000,
          66000,
          53000,
          72000,
          46000,
          61000,
          70000,
          54000,
          32000,
          69000,
          44000,
          65000,
          60000,
          59000,
          74000,
          52000,
          51000,
          62000,
          75000,
          46000,
          53000,
          71000,
          43000,
          63000,
          61000,
          70000,
          32000,
          68000,
          49000,
          57000,
          58000,
          66000,
          53000,
          72000,
          46000,
          61000,
          70000,
          54000,
          32000,
          69000,
          44000,
          65000,
          60000,
          59000,
          74000,
          52000,
          51000,
          62000,
          75000,
          46000,
          53000,
          71000,
          43000,
          63000,
          61000,
          70000,
          32000,
          68000,
          49000,
          57000,
          58000,
          66000,
          53000,
          72000,
          46000,
          61000,
          70000,
          54000,
          32000,
          69000,
          44000,
          65000,
          60000,
          59000,
          74000,
          52000,
          51000,
          62000,
          75000,
          46000,
          53000,
          71000,
          43000,
          63000,
          61000,
          70000,
          32000,
          68000,
          49000,
          57000,
          58000,
          66000,
          53000,
          72000,
          46000,
          61000,
          70000,
          54000,
          32000,
          69000,
          44000,
          65000,
          60000,
          59000,
          74000,
          52000,
          51000,
          62000,
          75000,
          46000,
          53000,
          71000,
          43000,
          63000,
          61000,
          70000,
          32000,
          68000,
          49000,
          57000,
          58000,
          66000,
          53000,
          72000,
          46000,
          61000,
          70000,
          54000,
          32000,
          69000,
          44000,
          65000,
          60000,
          59000,
          74000,
          52000,
          51000,
          62000,
          75000,
          46000,
          53000,
          71000,
          43000,
          63000,
          61000,
          70000,
          32000,
          68000,
          49000,
          57000,
          58000,
          66000,
          53000,
          72000,
          46000,
          61000,
          70000,
          54000,
          32000,
          69000,
          44000,
          65000,
          60000,
          59000,
          74000,
          52000,
          51000
         ],
         "xaxis": "x",
         "y": [
          200,
          350,
          500,
          150,
          220,
          480,
          400,
          230,
          600,
          320,
          250,
          520,
          380,
          420,
          590,
          160,
          440,
          300,
          510,
          240,
          610,
          170,
          460,
          390,
          430,
          530,
          360,
          280,
          600,
          450,
          350,
          470,
          320,
          230,
          640,
          200,
          550,
          300,
          620,
          250,
          440,
          420,
          510,
          380,
          610,
          220,
          480,
          600,
          400,
          170,
          590,
          240,
          500,
          450,
          430,
          630,
          360,
          340,
          520,
          640,
          270,
          380,
          600,
          230,
          470,
          480,
          600,
          170,
          550,
          300,
          440,
          420,
          510,
          380,
          610,
          250,
          480,
          600,
          400,
          170,
          590,
          240,
          500,
          450,
          430,
          630,
          360,
          340,
          520,
          640,
          270,
          380,
          600,
          230,
          470,
          480,
          600,
          170,
          550,
          300,
          440,
          420,
          510,
          380,
          610,
          250,
          480,
          600,
          400,
          170,
          590,
          240,
          500,
          450,
          430,
          630,
          360,
          340,
          520,
          640,
          270,
          380,
          600,
          230,
          470,
          480,
          600,
          170,
          550,
          300,
          440,
          420,
          510,
          380,
          610,
          250,
          480,
          600,
          400,
          170,
          590,
          240,
          500,
          450,
          430,
          630,
          360,
          340,
          520,
          640,
          270,
          380,
          600,
          230,
          470,
          480,
          600,
          170,
          550,
          300,
          440,
          420,
          510,
          380,
          610,
          250,
          480,
          600,
          400,
          170,
          590,
          240,
          500,
          450,
          430,
          630,
          360,
          340,
          520,
          640,
          270,
          380,
          600,
          230,
          470,
          480,
          600,
          170,
          550,
          300,
          440,
          420,
          510,
          380,
          610,
          250,
          480,
          600,
          400,
          170,
          590,
          240,
          500,
          450,
          430,
          630,
          360,
          340,
          520,
          640,
          270,
          380,
          600,
          230,
          470,
          480,
          600,
          170,
          550,
          300,
          440,
          420,
          510,
          380,
          610,
          250,
          480,
          600,
          400,
          170,
          590,
          240,
          500,
          450,
          430,
          630,
          360,
          340
         ],
         "yaxis": "y"
        },
        {
         "hovertemplate": "<b>OLS trendline</b><br>purchase_amount = 0.0120872 * annual_income + -268.264<br>R<sup>2</sup>=0.968666<br><br>Annual Income=%{x}<br>Purchase Amount=%{y} <b>(trend)</b><extra></extra>",
         "legendgroup": "",
         "marker": {
          "color": "#636efa",
          "symbol": "circle"
         },
         "mode": "lines",
         "name": "",
         "showlegend": false,
         "type": "scatter",
         "x": [
          30000,
          31000,
          32000,
          32000,
          32000,
          32000,
          32000,
          32000,
          32000,
          32000,
          32000,
          32000,
          32000,
          32000,
          32000,
          32000,
          43000,
          43000,
          43000,
          43000,
          43000,
          43000,
          43000,
          43000,
          44000,
          44000,
          44000,
          44000,
          44000,
          44000,
          44000,
          44000,
          45000,
          45000,
          46000,
          46000,
          46000,
          46000,
          46000,
          46000,
          46000,
          46000,
          46000,
          46000,
          46000,
          46000,
          46000,
          46000,
          47000,
          47000,
          48000,
          49000,
          49000,
          49000,
          49000,
          49000,
          49000,
          49000,
          49000,
          50000,
          50000,
          51000,
          51000,
          51000,
          51000,
          51000,
          51000,
          51000,
          52000,
          52000,
          52000,
          52000,
          52000,
          52000,
          52000,
          52000,
          53000,
          53000,
          53000,
          53000,
          53000,
          53000,
          53000,
          53000,
          53000,
          53000,
          53000,
          53000,
          53000,
          53000,
          54000,
          54000,
          54000,
          54000,
          54000,
          54000,
          54000,
          54000,
          55000,
          55000,
          56000,
          57000,
          57000,
          57000,
          57000,
          57000,
          57000,
          57000,
          57000,
          58000,
          58000,
          58000,
          58000,
          58000,
          58000,
          58000,
          58000,
          59000,
          59000,
          59000,
          59000,
          59000,
          59000,
          59000,
          59000,
          60000,
          60000,
          60000,
          60000,
          60000,
          60000,
          60000,
          60000,
          61000,
          61000,
          61000,
          61000,
          61000,
          61000,
          61000,
          61000,
          61000,
          61000,
          61000,
          61000,
          61000,
          61000,
          62000,
          62000,
          62000,
          62000,
          62000,
          62000,
          62000,
          63000,
          63000,
          63000,
          63000,
          63000,
          63000,
          63000,
          64000,
          65000,
          65000,
          65000,
          65000,
          65000,
          65000,
          65000,
          65000,
          66000,
          66000,
          66000,
          66000,
          66000,
          66000,
          66000,
          66000,
          67000,
          68000,
          68000,
          68000,
          68000,
          68000,
          68000,
          68000,
          69000,
          69000,
          69000,
          69000,
          69000,
          69000,
          69000,
          69000,
          70000,
          70000,
          70000,
          70000,
          70000,
          70000,
          70000,
          70000,
          70000,
          70000,
          70000,
          70000,
          70000,
          70000,
          71000,
          71000,
          71000,
          71000,
          71000,
          71000,
          71000,
          72000,
          72000,
          72000,
          72000,
          72000,
          72000,
          72000,
          72000,
          73000,
          74000,
          74000,
          74000,
          74000,
          74000,
          74000,
          74000,
          75000,
          75000,
          75000,
          75000,
          75000,
          75000,
          75000
         ],
         "xaxis": "x",
         "y": [
          94.35076829705979,
          106.43792407588852,
          118.52507985471723,
          118.52507985471723,
          118.52507985471723,
          118.52507985471723,
          118.52507985471723,
          118.52507985471723,
          118.52507985471723,
          118.52507985471723,
          118.52507985471723,
          118.52507985471723,
          118.52507985471723,
          118.52507985471723,
          118.52507985471723,
          118.52507985471723,
          251.48379342183318,
          251.48379342183318,
          251.48379342183318,
          251.48379342183318,
          251.48379342183318,
          251.48379342183318,
          251.48379342183318,
          251.48379342183318,
          263.5709492006619,
          263.5709492006619,
          263.5709492006619,
          263.5709492006619,
          263.5709492006619,
          263.5709492006619,
          263.5709492006619,
          263.5709492006619,
          275.65810497949064,
          275.65810497949064,
          287.7452607583194,
          287.7452607583194,
          287.7452607583194,
          287.7452607583194,
          287.7452607583194,
          287.7452607583194,
          287.7452607583194,
          287.7452607583194,
          287.7452607583194,
          287.7452607583194,
          287.7452607583194,
          287.7452607583194,
          287.7452607583194,
          287.7452607583194,
          299.83241653714805,
          299.83241653714805,
          311.9195723159768,
          324.0067280948055,
          324.0067280948055,
          324.0067280948055,
          324.0067280948055,
          324.0067280948055,
          324.0067280948055,
          324.0067280948055,
          324.0067280948055,
          336.09388387363424,
          336.09388387363424,
          348.18103965246297,
          348.18103965246297,
          348.18103965246297,
          348.18103965246297,
          348.18103965246297,
          348.18103965246297,
          348.18103965246297,
          360.2681954312917,
          360.2681954312917,
          360.2681954312917,
          360.2681954312917,
          360.2681954312917,
          360.2681954312917,
          360.2681954312917,
          360.2681954312917,
          372.35535121012043,
          372.35535121012043,
          372.35535121012043,
          372.35535121012043,
          372.35535121012043,
          372.35535121012043,
          372.35535121012043,
          372.35535121012043,
          372.35535121012043,
          372.35535121012043,
          372.35535121012043,
          372.35535121012043,
          372.35535121012043,
          372.35535121012043,
          384.4425069889491,
          384.4425069889491,
          384.4425069889491,
          384.4425069889491,
          384.4425069889491,
          384.4425069889491,
          384.4425069889491,
          384.4425069889491,
          396.52966276777784,
          396.52966276777784,
          408.61681854660657,
          420.7039743254353,
          420.7039743254353,
          420.7039743254353,
          420.7039743254353,
          420.7039743254353,
          420.7039743254353,
          420.7039743254353,
          420.7039743254353,
          432.791130104264,
          432.791130104264,
          432.791130104264,
          432.791130104264,
          432.791130104264,
          432.791130104264,
          432.791130104264,
          432.791130104264,
          444.87828588309276,
          444.87828588309276,
          444.87828588309276,
          444.87828588309276,
          444.87828588309276,
          444.87828588309276,
          444.87828588309276,
          444.87828588309276,
          456.9654416619215,
          456.9654416619215,
          456.9654416619215,
          456.9654416619215,
          456.9654416619215,
          456.9654416619215,
          456.9654416619215,
          456.9654416619215,
          469.05259744075016,
          469.05259744075016,
          469.05259744075016,
          469.05259744075016,
          469.05259744075016,
          469.05259744075016,
          469.05259744075016,
          469.05259744075016,
          469.05259744075016,
          469.05259744075016,
          469.05259744075016,
          469.05259744075016,
          469.05259744075016,
          469.05259744075016,
          481.1397532195789,
          481.1397532195789,
          481.1397532195789,
          481.1397532195789,
          481.1397532195789,
          481.1397532195789,
          481.1397532195789,
          493.2269089984076,
          493.2269089984076,
          493.2269089984076,
          493.2269089984076,
          493.2269089984076,
          493.2269089984076,
          493.2269089984076,
          505.31406477723635,
          517.401220556065,
          517.401220556065,
          517.401220556065,
          517.401220556065,
          517.401220556065,
          517.401220556065,
          517.401220556065,
          517.401220556065,
          529.4883763348938,
          529.4883763348938,
          529.4883763348938,
          529.4883763348938,
          529.4883763348938,
          529.4883763348938,
          529.4883763348938,
          529.4883763348938,
          541.5755321137225,
          553.6626878925513,
          553.6626878925513,
          553.6626878925513,
          553.6626878925513,
          553.6626878925513,
          553.6626878925513,
          553.6626878925513,
          565.74984367138,
          565.74984367138,
          565.74984367138,
          565.74984367138,
          565.74984367138,
          565.74984367138,
          565.74984367138,
          565.74984367138,
          577.8369994502087,
          577.8369994502087,
          577.8369994502087,
          577.8369994502087,
          577.8369994502087,
          577.8369994502087,
          577.8369994502087,
          577.8369994502087,
          577.8369994502087,
          577.8369994502087,
          577.8369994502087,
          577.8369994502087,
          577.8369994502087,
          577.8369994502087,
          589.9241552290374,
          589.9241552290374,
          589.9241552290374,
          589.9241552290374,
          589.9241552290374,
          589.9241552290374,
          589.9241552290374,
          602.0113110078661,
          602.0113110078661,
          602.0113110078661,
          602.0113110078661,
          602.0113110078661,
          602.0113110078661,
          602.0113110078661,
          602.0113110078661,
          614.0984667866949,
          626.1856225655235,
          626.1856225655235,
          626.1856225655235,
          626.1856225655235,
          626.1856225655235,
          626.1856225655235,
          626.1856225655235,
          638.2727783443523,
          638.2727783443523,
          638.2727783443523,
          638.2727783443523,
          638.2727783443523,
          638.2727783443523,
          638.2727783443523
         ],
         "yaxis": "y"
        }
       ],
       "layout": {
        "legend": {
         "tracegroupgap": 0
        },
        "template": {
         "data": {
          "bar": [
           {
            "error_x": {
             "color": "#2a3f5f"
            },
            "error_y": {
             "color": "#2a3f5f"
            },
            "marker": {
             "line": {
              "color": "#E5ECF6",
              "width": 0.5
             },
             "pattern": {
              "fillmode": "overlay",
              "size": 10,
              "solidity": 0.2
             }
            },
            "type": "bar"
           }
          ],
          "barpolar": [
           {
            "marker": {
             "line": {
              "color": "#E5ECF6",
              "width": 0.5
             },
             "pattern": {
              "fillmode": "overlay",
              "size": 10,
              "solidity": 0.2
             }
            },
            "type": "barpolar"
           }
          ],
          "carpet": [
           {
            "aaxis": {
             "endlinecolor": "#2a3f5f",
             "gridcolor": "white",
             "linecolor": "white",
             "minorgridcolor": "white",
             "startlinecolor": "#2a3f5f"
            },
            "baxis": {
             "endlinecolor": "#2a3f5f",
             "gridcolor": "white",
             "linecolor": "white",
             "minorgridcolor": "white",
             "startlinecolor": "#2a3f5f"
            },
            "type": "carpet"
           }
          ],
          "choropleth": [
           {
            "colorbar": {
             "outlinewidth": 0,
             "ticks": ""
            },
            "type": "choropleth"
           }
          ],
          "contour": [
           {
            "colorbar": {
             "outlinewidth": 0,
             "ticks": ""
            },
            "colorscale": [
             [
              0,
              "#0d0887"
             ],
             [
              0.1111111111111111,
              "#46039f"
             ],
             [
              0.2222222222222222,
              "#7201a8"
             ],
             [
              0.3333333333333333,
              "#9c179e"
             ],
             [
              0.4444444444444444,
              "#bd3786"
             ],
             [
              0.5555555555555556,
              "#d8576b"
             ],
             [
              0.6666666666666666,
              "#ed7953"
             ],
             [
              0.7777777777777778,
              "#fb9f3a"
             ],
             [
              0.8888888888888888,
              "#fdca26"
             ],
             [
              1,
              "#f0f921"
             ]
            ],
            "type": "contour"
           }
          ],
          "contourcarpet": [
           {
            "colorbar": {
             "outlinewidth": 0,
             "ticks": ""
            },
            "type": "contourcarpet"
           }
          ],
          "heatmap": [
           {
            "colorbar": {
             "outlinewidth": 0,
             "ticks": ""
            },
            "colorscale": [
             [
              0,
              "#0d0887"
             ],
             [
              0.1111111111111111,
              "#46039f"
             ],
             [
              0.2222222222222222,
              "#7201a8"
             ],
             [
              0.3333333333333333,
              "#9c179e"
             ],
             [
              0.4444444444444444,
              "#bd3786"
             ],
             [
              0.5555555555555556,
              "#d8576b"
             ],
             [
              0.6666666666666666,
              "#ed7953"
             ],
             [
              0.7777777777777778,
              "#fb9f3a"
             ],
             [
              0.8888888888888888,
              "#fdca26"
             ],
             [
              1,
              "#f0f921"
             ]
            ],
            "type": "heatmap"
           }
          ],
          "heatmapgl": [
           {
            "colorbar": {
             "outlinewidth": 0,
             "ticks": ""
            },
            "colorscale": [
             [
              0,
              "#0d0887"
             ],
             [
              0.1111111111111111,
              "#46039f"
             ],
             [
              0.2222222222222222,
              "#7201a8"
             ],
             [
              0.3333333333333333,
              "#9c179e"
             ],
             [
              0.4444444444444444,
              "#bd3786"
             ],
             [
              0.5555555555555556,
              "#d8576b"
             ],
             [
              0.6666666666666666,
              "#ed7953"
             ],
             [
              0.7777777777777778,
              "#fb9f3a"
             ],
             [
              0.8888888888888888,
              "#fdca26"
             ],
             [
              1,
              "#f0f921"
             ]
            ],
            "type": "heatmapgl"
           }
          ],
          "histogram": [
           {
            "marker": {
             "pattern": {
              "fillmode": "overlay",
              "size": 10,
              "solidity": 0.2
             }
            },
            "type": "histogram"
           }
          ],
          "histogram2d": [
           {
            "colorbar": {
             "outlinewidth": 0,
             "ticks": ""
            },
            "colorscale": [
             [
              0,
              "#0d0887"
             ],
             [
              0.1111111111111111,
              "#46039f"
             ],
             [
              0.2222222222222222,
              "#7201a8"
             ],
             [
              0.3333333333333333,
              "#9c179e"
             ],
             [
              0.4444444444444444,
              "#bd3786"
             ],
             [
              0.5555555555555556,
              "#d8576b"
             ],
             [
              0.6666666666666666,
              "#ed7953"
             ],
             [
              0.7777777777777778,
              "#fb9f3a"
             ],
             [
              0.8888888888888888,
              "#fdca26"
             ],
             [
              1,
              "#f0f921"
             ]
            ],
            "type": "histogram2d"
           }
          ],
          "histogram2dcontour": [
           {
            "colorbar": {
             "outlinewidth": 0,
             "ticks": ""
            },
            "colorscale": [
             [
              0,
              "#0d0887"
             ],
             [
              0.1111111111111111,
              "#46039f"
             ],
             [
              0.2222222222222222,
              "#7201a8"
             ],
             [
              0.3333333333333333,
              "#9c179e"
             ],
             [
              0.4444444444444444,
              "#bd3786"
             ],
             [
              0.5555555555555556,
              "#d8576b"
             ],
             [
              0.6666666666666666,
              "#ed7953"
             ],
             [
              0.7777777777777778,
              "#fb9f3a"
             ],
             [
              0.8888888888888888,
              "#fdca26"
             ],
             [
              1,
              "#f0f921"
             ]
            ],
            "type": "histogram2dcontour"
           }
          ],
          "mesh3d": [
           {
            "colorbar": {
             "outlinewidth": 0,
             "ticks": ""
            },
            "type": "mesh3d"
           }
          ],
          "parcoords": [
           {
            "line": {
             "colorbar": {
              "outlinewidth": 0,
              "ticks": ""
             }
            },
            "type": "parcoords"
           }
          ],
          "pie": [
           {
            "automargin": true,
            "type": "pie"
           }
          ],
          "scatter": [
           {
            "fillpattern": {
             "fillmode": "overlay",
             "size": 10,
             "solidity": 0.2
            },
            "type": "scatter"
           }
          ],
          "scatter3d": [
           {
            "line": {
             "colorbar": {
              "outlinewidth": 0,
              "ticks": ""
             }
            },
            "marker": {
             "colorbar": {
              "outlinewidth": 0,
              "ticks": ""
             }
            },
            "type": "scatter3d"
           }
          ],
          "scattercarpet": [
           {
            "marker": {
             "colorbar": {
              "outlinewidth": 0,
              "ticks": ""
             }
            },
            "type": "scattercarpet"
           }
          ],
          "scattergeo": [
           {
            "marker": {
             "colorbar": {
              "outlinewidth": 0,
              "ticks": ""
             }
            },
            "type": "scattergeo"
           }
          ],
          "scattergl": [
           {
            "marker": {
             "colorbar": {
              "outlinewidth": 0,
              "ticks": ""
             }
            },
            "type": "scattergl"
           }
          ],
          "scattermapbox": [
           {
            "marker": {
             "colorbar": {
              "outlinewidth": 0,
              "ticks": ""
             }
            },
            "type": "scattermapbox"
           }
          ],
          "scatterpolar": [
           {
            "marker": {
             "colorbar": {
              "outlinewidth": 0,
              "ticks": ""
             }
            },
            "type": "scatterpolar"
           }
          ],
          "scatterpolargl": [
           {
            "marker": {
             "colorbar": {
              "outlinewidth": 0,
              "ticks": ""
             }
            },
            "type": "scatterpolargl"
           }
          ],
          "scatterternary": [
           {
            "marker": {
             "colorbar": {
              "outlinewidth": 0,
              "ticks": ""
             }
            },
            "type": "scatterternary"
           }
          ],
          "surface": [
           {
            "colorbar": {
             "outlinewidth": 0,
             "ticks": ""
            },
            "colorscale": [
             [
              0,
              "#0d0887"
             ],
             [
              0.1111111111111111,
              "#46039f"
             ],
             [
              0.2222222222222222,
              "#7201a8"
             ],
             [
              0.3333333333333333,
              "#9c179e"
             ],
             [
              0.4444444444444444,
              "#bd3786"
             ],
             [
              0.5555555555555556,
              "#d8576b"
             ],
             [
              0.6666666666666666,
              "#ed7953"
             ],
             [
              0.7777777777777778,
              "#fb9f3a"
             ],
             [
              0.8888888888888888,
              "#fdca26"
             ],
             [
              1,
              "#f0f921"
             ]
            ],
            "type": "surface"
           }
          ],
          "table": [
           {
            "cells": {
             "fill": {
              "color": "#EBF0F8"
             },
             "line": {
              "color": "white"
             }
            },
            "header": {
             "fill": {
              "color": "#C8D4E3"
             },
             "line": {
              "color": "white"
             }
            },
            "type": "table"
           }
          ]
         },
         "layout": {
          "annotationdefaults": {
           "arrowcolor": "#2a3f5f",
           "arrowhead": 0,
           "arrowwidth": 1
          },
          "autotypenumbers": "strict",
          "coloraxis": {
           "colorbar": {
            "outlinewidth": 0,
            "ticks": ""
           }
          },
          "colorscale": {
           "diverging": [
            [
             0,
             "#8e0152"
            ],
            [
             0.1,
             "#c51b7d"
            ],
            [
             0.2,
             "#de77ae"
            ],
            [
             0.3,
             "#f1b6da"
            ],
            [
             0.4,
             "#fde0ef"
            ],
            [
             0.5,
             "#f7f7f7"
            ],
            [
             0.6,
             "#e6f5d0"
            ],
            [
             0.7,
             "#b8e186"
            ],
            [
             0.8,
             "#7fbc41"
            ],
            [
             0.9,
             "#4d9221"
            ],
            [
             1,
             "#276419"
            ]
           ],
           "sequential": [
            [
             0,
             "#0d0887"
            ],
            [
             0.1111111111111111,
             "#46039f"
            ],
            [
             0.2222222222222222,
             "#7201a8"
            ],
            [
             0.3333333333333333,
             "#9c179e"
            ],
            [
             0.4444444444444444,
             "#bd3786"
            ],
            [
             0.5555555555555556,
             "#d8576b"
            ],
            [
             0.6666666666666666,
             "#ed7953"
            ],
            [
             0.7777777777777778,
             "#fb9f3a"
            ],
            [
             0.8888888888888888,
             "#fdca26"
            ],
            [
             1,
             "#f0f921"
            ]
           ],
           "sequentialminus": [
            [
             0,
             "#0d0887"
            ],
            [
             0.1111111111111111,
             "#46039f"
            ],
            [
             0.2222222222222222,
             "#7201a8"
            ],
            [
             0.3333333333333333,
             "#9c179e"
            ],
            [
             0.4444444444444444,
             "#bd3786"
            ],
            [
             0.5555555555555556,
             "#d8576b"
            ],
            [
             0.6666666666666666,
             "#ed7953"
            ],
            [
             0.7777777777777778,
             "#fb9f3a"
            ],
            [
             0.8888888888888888,
             "#fdca26"
            ],
            [
             1,
             "#f0f921"
            ]
           ]
          },
          "colorway": [
           "#636efa",
           "#EF553B",
           "#00cc96",
           "#ab63fa",
           "#FFA15A",
           "#19d3f3",
           "#FF6692",
           "#B6E880",
           "#FF97FF",
           "#FECB52"
          ],
          "font": {
           "color": "#2a3f5f"
          },
          "geo": {
           "bgcolor": "white",
           "lakecolor": "white",
           "landcolor": "#E5ECF6",
           "showlakes": true,
           "showland": true,
           "subunitcolor": "white"
          },
          "hoverlabel": {
           "align": "left"
          },
          "hovermode": "closest",
          "mapbox": {
           "style": "light"
          },
          "paper_bgcolor": "white",
          "plot_bgcolor": "#E5ECF6",
          "polar": {
           "angularaxis": {
            "gridcolor": "white",
            "linecolor": "white",
            "ticks": ""
           },
           "bgcolor": "#E5ECF6",
           "radialaxis": {
            "gridcolor": "white",
            "linecolor": "white",
            "ticks": ""
           }
          },
          "scene": {
           "xaxis": {
            "backgroundcolor": "#E5ECF6",
            "gridcolor": "white",
            "gridwidth": 2,
            "linecolor": "white",
            "showbackground": true,
            "ticks": "",
            "zerolinecolor": "white"
           },
           "yaxis": {
            "backgroundcolor": "#E5ECF6",
            "gridcolor": "white",
            "gridwidth": 2,
            "linecolor": "white",
            "showbackground": true,
            "ticks": "",
            "zerolinecolor": "white"
           },
           "zaxis": {
            "backgroundcolor": "#E5ECF6",
            "gridcolor": "white",
            "gridwidth": 2,
            "linecolor": "white",
            "showbackground": true,
            "ticks": "",
            "zerolinecolor": "white"
           }
          },
          "shapedefaults": {
           "line": {
            "color": "#2a3f5f"
           }
          },
          "ternary": {
           "aaxis": {
            "gridcolor": "white",
            "linecolor": "white",
            "ticks": ""
           },
           "baxis": {
            "gridcolor": "white",
            "linecolor": "white",
            "ticks": ""
           },
           "bgcolor": "#E5ECF6",
           "caxis": {
            "gridcolor": "white",
            "linecolor": "white",
            "ticks": ""
           }
          },
          "title": {
           "x": 0.05
          },
          "xaxis": {
           "automargin": true,
           "gridcolor": "white",
           "linecolor": "white",
           "ticks": "",
           "title": {
            "standoff": 15
           },
           "zerolinecolor": "white",
           "zerolinewidth": 2
          },
          "yaxis": {
           "automargin": true,
           "gridcolor": "white",
           "linecolor": "white",
           "ticks": "",
           "title": {
            "standoff": 15
           },
           "zerolinecolor": "white",
           "zerolinewidth": 2
          }
         }
        },
        "title": {
         "text": "Purchase Amount vs Annual Income"
        },
        "xaxis": {
         "anchor": "y",
         "domain": [
          0,
          1
         ],
         "title": {
          "text": "Annual Income"
         }
        },
        "yaxis": {
         "anchor": "x",
         "domain": [
          0,
          1
         ],
         "title": {
          "text": "Purchase Amount"
         }
        }
       }
      }
     },
     "metadata": {},
     "output_type": "display_data"
    }
   ],
   "source": [
    "fig = px.scatter(df, x='annual_income', y='purchase_amount', \n",
    "                 title='Purchase Amount vs Annual Income', \n",
    "                 labels={'annual_income': 'Annual Income', 'purchase_amount': 'Purchase Amount'},\n",
    "                 trendline=\"ols\")\n",
    "\n",
    "fig.show()\n"
   ]
  },
  {
   "cell_type": "markdown",
   "id": "16afdeec-8c90-4ed1-a599-e0b1343bbf5c",
   "metadata": {},
   "source": [
    "7. Придумайте как визуализировать зависимость между частотой покупок, суммой покупок и скором лояльности *\n",
    "\n",
    "\\* Задание на доп. балл"
   ]
  },
  {
   "cell_type": "code",
   "execution_count": 86,
   "id": "e10d0cc7-a1ca-4204-a875-b1660e44618d",
   "metadata": {},
   "outputs": [
    {
     "data": {
      "application/vnd.plotly.v1+json": {
       "config": {
        "plotlyServerURL": "https://plot.ly"
       },
       "data": [
        {
         "hovertemplate": "<b>%{hovertext}</b><br><br>Частота покупок=%{x}<br>Сумма покупок=%{y}<br>annual_income=%{marker.size}<br>Срока лояльности=%{marker.color}<extra></extra>",
         "hovertext": [
          1,
          2,
          3,
          4,
          5,
          6,
          7,
          8,
          9,
          10,
          11,
          12,
          13,
          14,
          15,
          16,
          17,
          18,
          19,
          20,
          21,
          22,
          23,
          24,
          25,
          26,
          27,
          28,
          29,
          30,
          31,
          32,
          33,
          34,
          35,
          36,
          37,
          38,
          39,
          40,
          41,
          42,
          43,
          44,
          45,
          46,
          47,
          48,
          49,
          50,
          51,
          52,
          53,
          54,
          55,
          56,
          57,
          58,
          59,
          60,
          61,
          62,
          63,
          64,
          65,
          66,
          67,
          68,
          69,
          70,
          71,
          72,
          73,
          74,
          75,
          76,
          77,
          78,
          79,
          80,
          81,
          82,
          83,
          84,
          85,
          86,
          87,
          88,
          89,
          90,
          91,
          92,
          93,
          94,
          95,
          96,
          97,
          98,
          99,
          100,
          101,
          102,
          103,
          104,
          105,
          106,
          107,
          108,
          109,
          110,
          111,
          112,
          113,
          114,
          115,
          116,
          117,
          118,
          119,
          120,
          121,
          122,
          123,
          124,
          125,
          126,
          127,
          128,
          129,
          130,
          131,
          132,
          133,
          134,
          135,
          136,
          137,
          138,
          139,
          140,
          141,
          142,
          143,
          144,
          145,
          146,
          147,
          148,
          149,
          150,
          151,
          152,
          153,
          154,
          155,
          156,
          157,
          158,
          159,
          160,
          161,
          162,
          163,
          164,
          165,
          166,
          167,
          168,
          169,
          170,
          171,
          172,
          173,
          174,
          175,
          176,
          177,
          178,
          179,
          180,
          181,
          182,
          183,
          184,
          185,
          186,
          187,
          188,
          189,
          190,
          191,
          192,
          193,
          194,
          195,
          196,
          197,
          198,
          199,
          200,
          201,
          202,
          203,
          204,
          205,
          206,
          207,
          208,
          209,
          210,
          211,
          212,
          213,
          214,
          215,
          216,
          217,
          218,
          219,
          220,
          221,
          222,
          223,
          224,
          225,
          226,
          227,
          228,
          229,
          230,
          231,
          232,
          233,
          234,
          235,
          236,
          237,
          238
         ],
         "legendgroup": "",
         "marker": {
          "color": [
           4.5,
           7,
           8,
           3,
           4.8,
           7.8,
           6.5,
           4.2,
           9,
           5.5,
           4.4,
           8.2,
           6,
           6.8,
           8.9,
           3.2,
           7,
           5,
           8.1,
           4.3,
           9.2,
           3.3,
           7.5,
           6.2,
           6.9,
           8.3,
           5.8,
           4.6,
           9,
           7.2,
           6.5,
           7.8,
           5.5,
           4,
           9.5,
           4.5,
           8.5,
           5,
           9.3,
           4.2,
           7,
           6.8,
           8.1,
           6,
           9.2,
           4.4,
           7.8,
           9,
           6.5,
           3.3,
           8.9,
           4.3,
           8,
           7.2,
           6.9,
           9.4,
           5.8,
           5.6,
           8.2,
           9.5,
           4.3,
           6,
           9,
           4,
           7.8,
           7.7,
           9,
           3.3,
           8.5,
           5,
           7,
           6.8,
           8.1,
           6,
           9.2,
           4.2,
           7.8,
           9,
           6.5,
           3.3,
           8.9,
           4.3,
           8,
           7.2,
           6.9,
           9.4,
           5.8,
           5.6,
           8.2,
           9.5,
           4.3,
           6,
           9,
           4,
           7.8,
           7.7,
           9,
           3.3,
           8.5,
           5,
           7,
           6.8,
           8.1,
           6,
           9.2,
           4.2,
           7.8,
           9,
           6.5,
           3.3,
           8.9,
           4.3,
           8,
           7.2,
           6.9,
           9.4,
           5.8,
           5.6,
           8.2,
           9.5,
           4.3,
           6,
           9,
           4,
           7.8,
           7.7,
           9,
           3.3,
           8.5,
           5,
           7,
           6.8,
           8.1,
           6,
           9.2,
           4.2,
           7.8,
           9,
           6.5,
           3.3,
           8.9,
           4.3,
           8,
           7.2,
           6.9,
           9.4,
           5.8,
           5.6,
           8.2,
           9.5,
           4.3,
           6,
           9,
           4,
           7.8,
           7.7,
           9,
           3.3,
           8.5,
           5,
           7,
           6.8,
           8.1,
           6,
           9.2,
           4.2,
           7.8,
           9,
           6.5,
           3.3,
           8.9,
           4.3,
           8,
           7.2,
           6.9,
           9.4,
           5.8,
           5.6,
           8.2,
           9.5,
           4.3,
           6,
           9,
           4,
           7.8,
           7.7,
           9,
           3.3,
           8.5,
           5,
           7,
           6.8,
           8.1,
           6,
           9.2,
           4.2,
           7.8,
           9,
           6.5,
           3.3,
           8.9,
           4.3,
           8,
           7.2,
           6.9,
           9.4,
           5.8,
           5.6,
           8.2,
           9.5,
           4.3,
           6,
           9,
           4,
           7.8,
           7.7,
           9,
           3.3,
           8.5,
           5,
           7,
           6.8,
           8.1,
           6,
           9.2,
           4.2,
           7.8,
           9,
           6.5,
           3.3,
           8.9,
           4.3,
           8,
           7.2,
           6.9,
           9.4,
           5.8,
           5.6
          ],
          "coloraxis": "coloraxis",
          "size": [
           45000,
           55000,
           65000,
           30000,
           47000,
           61000,
           54000,
           43000,
           70000,
           50000,
           46000,
           62000,
           53000,
           58000,
           69000,
           31000,
           57000,
           49000,
           66000,
           44000,
           72000,
           32000,
           63000,
           56000,
           59000,
           67000,
           52000,
           48000,
           71000,
           60000,
           55000,
           64000,
           50000,
           43000,
           75000,
           45000,
           68000,
           49000,
           73000,
           46000,
           57000,
           58000,
           66000,
           53000,
           72000,
           47000,
           61000,
           70000,
           54000,
           32000,
           69000,
           44000,
           65000,
           60000,
           59000,
           74000,
           52000,
           51000,
           62000,
           75000,
           46000,
           53000,
           71000,
           43000,
           63000,
           61000,
           70000,
           32000,
           68000,
           49000,
           57000,
           58000,
           66000,
           53000,
           72000,
           46000,
           61000,
           70000,
           54000,
           32000,
           69000,
           44000,
           65000,
           60000,
           59000,
           74000,
           52000,
           51000,
           62000,
           75000,
           46000,
           53000,
           71000,
           43000,
           63000,
           61000,
           70000,
           32000,
           68000,
           49000,
           57000,
           58000,
           66000,
           53000,
           72000,
           46000,
           61000,
           70000,
           54000,
           32000,
           69000,
           44000,
           65000,
           60000,
           59000,
           74000,
           52000,
           51000,
           62000,
           75000,
           46000,
           53000,
           71000,
           43000,
           63000,
           61000,
           70000,
           32000,
           68000,
           49000,
           57000,
           58000,
           66000,
           53000,
           72000,
           46000,
           61000,
           70000,
           54000,
           32000,
           69000,
           44000,
           65000,
           60000,
           59000,
           74000,
           52000,
           51000,
           62000,
           75000,
           46000,
           53000,
           71000,
           43000,
           63000,
           61000,
           70000,
           32000,
           68000,
           49000,
           57000,
           58000,
           66000,
           53000,
           72000,
           46000,
           61000,
           70000,
           54000,
           32000,
           69000,
           44000,
           65000,
           60000,
           59000,
           74000,
           52000,
           51000,
           62000,
           75000,
           46000,
           53000,
           71000,
           43000,
           63000,
           61000,
           70000,
           32000,
           68000,
           49000,
           57000,
           58000,
           66000,
           53000,
           72000,
           46000,
           61000,
           70000,
           54000,
           32000,
           69000,
           44000,
           65000,
           60000,
           59000,
           74000,
           52000,
           51000,
           62000,
           75000,
           46000,
           53000,
           71000,
           43000,
           63000,
           61000,
           70000,
           32000,
           68000,
           49000,
           57000,
           58000,
           66000,
           53000,
           72000,
           46000,
           61000,
           70000,
           54000,
           32000,
           69000,
           44000,
           65000,
           60000,
           59000,
           74000,
           52000,
           51000
          ],
          "sizemode": "area",
          "sizeref": 187.5,
          "symbol": "circle"
         },
         "mode": "markers",
         "name": "",
         "orientation": "v",
         "showlegend": false,
         "type": "scatter",
         "x": [
          12,
          18,
          22,
          10,
          13,
          21,
          19,
          14,
          25,
          17,
          15,
          23,
          18,
          20,
          24,
          11,
          21,
          16,
          22,
          14,
          26,
          12,
          21,
          19,
          20,
          23,
          18,
          15,
          25,
          22,
          19,
          21,
          16,
          14,
          28,
          12,
          24,
          17,
          27,
          14,
          21,
          20,
          22,
          18,
          26,
          13,
          21,
          25,
          19,
          11,
          24,
          14,
          22,
          20,
          20,
          27,
          18,
          17,
          23,
          28,
          15,
          18,
          25,
          14,
          21,
          22,
          25,
          11,
          24,
          16,
          21,
          20,
          22,
          18,
          26,
          14,
          21,
          25,
          19,
          11,
          24,
          14,
          22,
          20,
          20,
          27,
          18,
          17,
          23,
          28,
          15,
          18,
          25,
          14,
          21,
          22,
          25,
          11,
          24,
          16,
          21,
          20,
          22,
          18,
          26,
          14,
          21,
          25,
          19,
          11,
          24,
          14,
          22,
          20,
          20,
          27,
          18,
          17,
          23,
          28,
          15,
          18,
          25,
          14,
          21,
          22,
          25,
          11,
          24,
          16,
          21,
          20,
          22,
          18,
          26,
          14,
          21,
          25,
          19,
          11,
          24,
          14,
          22,
          20,
          20,
          27,
          18,
          17,
          23,
          28,
          15,
          18,
          25,
          14,
          21,
          22,
          25,
          11,
          24,
          16,
          21,
          20,
          22,
          18,
          26,
          14,
          21,
          25,
          19,
          11,
          24,
          14,
          22,
          20,
          20,
          27,
          18,
          17,
          23,
          28,
          15,
          18,
          25,
          14,
          21,
          22,
          25,
          11,
          24,
          16,
          21,
          20,
          22,
          18,
          26,
          14,
          21,
          25,
          19,
          11,
          24,
          14,
          22,
          20,
          20,
          27,
          18,
          17,
          23,
          28,
          15,
          18,
          25,
          14,
          21,
          22,
          25,
          11,
          24,
          16,
          21,
          20,
          22,
          18,
          26,
          14,
          21,
          25,
          19,
          11,
          24,
          14,
          22,
          20,
          20,
          27,
          18,
          17
         ],
         "xaxis": "x",
         "y": [
          200,
          350,
          500,
          150,
          220,
          480,
          400,
          230,
          600,
          320,
          250,
          520,
          380,
          420,
          590,
          160,
          440,
          300,
          510,
          240,
          610,
          170,
          460,
          390,
          430,
          530,
          360,
          280,
          600,
          450,
          350,
          470,
          320,
          230,
          640,
          200,
          550,
          300,
          620,
          250,
          440,
          420,
          510,
          380,
          610,
          220,
          480,
          600,
          400,
          170,
          590,
          240,
          500,
          450,
          430,
          630,
          360,
          340,
          520,
          640,
          270,
          380,
          600,
          230,
          470,
          480,
          600,
          170,
          550,
          300,
          440,
          420,
          510,
          380,
          610,
          250,
          480,
          600,
          400,
          170,
          590,
          240,
          500,
          450,
          430,
          630,
          360,
          340,
          520,
          640,
          270,
          380,
          600,
          230,
          470,
          480,
          600,
          170,
          550,
          300,
          440,
          420,
          510,
          380,
          610,
          250,
          480,
          600,
          400,
          170,
          590,
          240,
          500,
          450,
          430,
          630,
          360,
          340,
          520,
          640,
          270,
          380,
          600,
          230,
          470,
          480,
          600,
          170,
          550,
          300,
          440,
          420,
          510,
          380,
          610,
          250,
          480,
          600,
          400,
          170,
          590,
          240,
          500,
          450,
          430,
          630,
          360,
          340,
          520,
          640,
          270,
          380,
          600,
          230,
          470,
          480,
          600,
          170,
          550,
          300,
          440,
          420,
          510,
          380,
          610,
          250,
          480,
          600,
          400,
          170,
          590,
          240,
          500,
          450,
          430,
          630,
          360,
          340,
          520,
          640,
          270,
          380,
          600,
          230,
          470,
          480,
          600,
          170,
          550,
          300,
          440,
          420,
          510,
          380,
          610,
          250,
          480,
          600,
          400,
          170,
          590,
          240,
          500,
          450,
          430,
          630,
          360,
          340,
          520,
          640,
          270,
          380,
          600,
          230,
          470,
          480,
          600,
          170,
          550,
          300,
          440,
          420,
          510,
          380,
          610,
          250,
          480,
          600,
          400,
          170,
          590,
          240,
          500,
          450,
          430,
          630,
          360,
          340
         ],
         "yaxis": "y"
        }
       ],
       "layout": {
        "coloraxis": {
         "colorbar": {
          "title": {
           "text": "Срока лояльности"
          }
         },
         "colorscale": [
          [
           0,
           "#0d0887"
          ],
          [
           0.1111111111111111,
           "#46039f"
          ],
          [
           0.2222222222222222,
           "#7201a8"
          ],
          [
           0.3333333333333333,
           "#9c179e"
          ],
          [
           0.4444444444444444,
           "#bd3786"
          ],
          [
           0.5555555555555556,
           "#d8576b"
          ],
          [
           0.6666666666666666,
           "#ed7953"
          ],
          [
           0.7777777777777778,
           "#fb9f3a"
          ],
          [
           0.8888888888888888,
           "#fdca26"
          ],
          [
           1,
           "#f0f921"
          ]
         ]
        },
        "legend": {
         "itemsizing": "constant",
         "tracegroupgap": 0
        },
        "template": {
         "data": {
          "bar": [
           {
            "error_x": {
             "color": "#2a3f5f"
            },
            "error_y": {
             "color": "#2a3f5f"
            },
            "marker": {
             "line": {
              "color": "#E5ECF6",
              "width": 0.5
             },
             "pattern": {
              "fillmode": "overlay",
              "size": 10,
              "solidity": 0.2
             }
            },
            "type": "bar"
           }
          ],
          "barpolar": [
           {
            "marker": {
             "line": {
              "color": "#E5ECF6",
              "width": 0.5
             },
             "pattern": {
              "fillmode": "overlay",
              "size": 10,
              "solidity": 0.2
             }
            },
            "type": "barpolar"
           }
          ],
          "carpet": [
           {
            "aaxis": {
             "endlinecolor": "#2a3f5f",
             "gridcolor": "white",
             "linecolor": "white",
             "minorgridcolor": "white",
             "startlinecolor": "#2a3f5f"
            },
            "baxis": {
             "endlinecolor": "#2a3f5f",
             "gridcolor": "white",
             "linecolor": "white",
             "minorgridcolor": "white",
             "startlinecolor": "#2a3f5f"
            },
            "type": "carpet"
           }
          ],
          "choropleth": [
           {
            "colorbar": {
             "outlinewidth": 0,
             "ticks": ""
            },
            "type": "choropleth"
           }
          ],
          "contour": [
           {
            "colorbar": {
             "outlinewidth": 0,
             "ticks": ""
            },
            "colorscale": [
             [
              0,
              "#0d0887"
             ],
             [
              0.1111111111111111,
              "#46039f"
             ],
             [
              0.2222222222222222,
              "#7201a8"
             ],
             [
              0.3333333333333333,
              "#9c179e"
             ],
             [
              0.4444444444444444,
              "#bd3786"
             ],
             [
              0.5555555555555556,
              "#d8576b"
             ],
             [
              0.6666666666666666,
              "#ed7953"
             ],
             [
              0.7777777777777778,
              "#fb9f3a"
             ],
             [
              0.8888888888888888,
              "#fdca26"
             ],
             [
              1,
              "#f0f921"
             ]
            ],
            "type": "contour"
           }
          ],
          "contourcarpet": [
           {
            "colorbar": {
             "outlinewidth": 0,
             "ticks": ""
            },
            "type": "contourcarpet"
           }
          ],
          "heatmap": [
           {
            "colorbar": {
             "outlinewidth": 0,
             "ticks": ""
            },
            "colorscale": [
             [
              0,
              "#0d0887"
             ],
             [
              0.1111111111111111,
              "#46039f"
             ],
             [
              0.2222222222222222,
              "#7201a8"
             ],
             [
              0.3333333333333333,
              "#9c179e"
             ],
             [
              0.4444444444444444,
              "#bd3786"
             ],
             [
              0.5555555555555556,
              "#d8576b"
             ],
             [
              0.6666666666666666,
              "#ed7953"
             ],
             [
              0.7777777777777778,
              "#fb9f3a"
             ],
             [
              0.8888888888888888,
              "#fdca26"
             ],
             [
              1,
              "#f0f921"
             ]
            ],
            "type": "heatmap"
           }
          ],
          "heatmapgl": [
           {
            "colorbar": {
             "outlinewidth": 0,
             "ticks": ""
            },
            "colorscale": [
             [
              0,
              "#0d0887"
             ],
             [
              0.1111111111111111,
              "#46039f"
             ],
             [
              0.2222222222222222,
              "#7201a8"
             ],
             [
              0.3333333333333333,
              "#9c179e"
             ],
             [
              0.4444444444444444,
              "#bd3786"
             ],
             [
              0.5555555555555556,
              "#d8576b"
             ],
             [
              0.6666666666666666,
              "#ed7953"
             ],
             [
              0.7777777777777778,
              "#fb9f3a"
             ],
             [
              0.8888888888888888,
              "#fdca26"
             ],
             [
              1,
              "#f0f921"
             ]
            ],
            "type": "heatmapgl"
           }
          ],
          "histogram": [
           {
            "marker": {
             "pattern": {
              "fillmode": "overlay",
              "size": 10,
              "solidity": 0.2
             }
            },
            "type": "histogram"
           }
          ],
          "histogram2d": [
           {
            "colorbar": {
             "outlinewidth": 0,
             "ticks": ""
            },
            "colorscale": [
             [
              0,
              "#0d0887"
             ],
             [
              0.1111111111111111,
              "#46039f"
             ],
             [
              0.2222222222222222,
              "#7201a8"
             ],
             [
              0.3333333333333333,
              "#9c179e"
             ],
             [
              0.4444444444444444,
              "#bd3786"
             ],
             [
              0.5555555555555556,
              "#d8576b"
             ],
             [
              0.6666666666666666,
              "#ed7953"
             ],
             [
              0.7777777777777778,
              "#fb9f3a"
             ],
             [
              0.8888888888888888,
              "#fdca26"
             ],
             [
              1,
              "#f0f921"
             ]
            ],
            "type": "histogram2d"
           }
          ],
          "histogram2dcontour": [
           {
            "colorbar": {
             "outlinewidth": 0,
             "ticks": ""
            },
            "colorscale": [
             [
              0,
              "#0d0887"
             ],
             [
              0.1111111111111111,
              "#46039f"
             ],
             [
              0.2222222222222222,
              "#7201a8"
             ],
             [
              0.3333333333333333,
              "#9c179e"
             ],
             [
              0.4444444444444444,
              "#bd3786"
             ],
             [
              0.5555555555555556,
              "#d8576b"
             ],
             [
              0.6666666666666666,
              "#ed7953"
             ],
             [
              0.7777777777777778,
              "#fb9f3a"
             ],
             [
              0.8888888888888888,
              "#fdca26"
             ],
             [
              1,
              "#f0f921"
             ]
            ],
            "type": "histogram2dcontour"
           }
          ],
          "mesh3d": [
           {
            "colorbar": {
             "outlinewidth": 0,
             "ticks": ""
            },
            "type": "mesh3d"
           }
          ],
          "parcoords": [
           {
            "line": {
             "colorbar": {
              "outlinewidth": 0,
              "ticks": ""
             }
            },
            "type": "parcoords"
           }
          ],
          "pie": [
           {
            "automargin": true,
            "type": "pie"
           }
          ],
          "scatter": [
           {
            "fillpattern": {
             "fillmode": "overlay",
             "size": 10,
             "solidity": 0.2
            },
            "type": "scatter"
           }
          ],
          "scatter3d": [
           {
            "line": {
             "colorbar": {
              "outlinewidth": 0,
              "ticks": ""
             }
            },
            "marker": {
             "colorbar": {
              "outlinewidth": 0,
              "ticks": ""
             }
            },
            "type": "scatter3d"
           }
          ],
          "scattercarpet": [
           {
            "marker": {
             "colorbar": {
              "outlinewidth": 0,
              "ticks": ""
             }
            },
            "type": "scattercarpet"
           }
          ],
          "scattergeo": [
           {
            "marker": {
             "colorbar": {
              "outlinewidth": 0,
              "ticks": ""
             }
            },
            "type": "scattergeo"
           }
          ],
          "scattergl": [
           {
            "marker": {
             "colorbar": {
              "outlinewidth": 0,
              "ticks": ""
             }
            },
            "type": "scattergl"
           }
          ],
          "scattermapbox": [
           {
            "marker": {
             "colorbar": {
              "outlinewidth": 0,
              "ticks": ""
             }
            },
            "type": "scattermapbox"
           }
          ],
          "scatterpolar": [
           {
            "marker": {
             "colorbar": {
              "outlinewidth": 0,
              "ticks": ""
             }
            },
            "type": "scatterpolar"
           }
          ],
          "scatterpolargl": [
           {
            "marker": {
             "colorbar": {
              "outlinewidth": 0,
              "ticks": ""
             }
            },
            "type": "scatterpolargl"
           }
          ],
          "scatterternary": [
           {
            "marker": {
             "colorbar": {
              "outlinewidth": 0,
              "ticks": ""
             }
            },
            "type": "scatterternary"
           }
          ],
          "surface": [
           {
            "colorbar": {
             "outlinewidth": 0,
             "ticks": ""
            },
            "colorscale": [
             [
              0,
              "#0d0887"
             ],
             [
              0.1111111111111111,
              "#46039f"
             ],
             [
              0.2222222222222222,
              "#7201a8"
             ],
             [
              0.3333333333333333,
              "#9c179e"
             ],
             [
              0.4444444444444444,
              "#bd3786"
             ],
             [
              0.5555555555555556,
              "#d8576b"
             ],
             [
              0.6666666666666666,
              "#ed7953"
             ],
             [
              0.7777777777777778,
              "#fb9f3a"
             ],
             [
              0.8888888888888888,
              "#fdca26"
             ],
             [
              1,
              "#f0f921"
             ]
            ],
            "type": "surface"
           }
          ],
          "table": [
           {
            "cells": {
             "fill": {
              "color": "#EBF0F8"
             },
             "line": {
              "color": "white"
             }
            },
            "header": {
             "fill": {
              "color": "#C8D4E3"
             },
             "line": {
              "color": "white"
             }
            },
            "type": "table"
           }
          ]
         },
         "layout": {
          "annotationdefaults": {
           "arrowcolor": "#2a3f5f",
           "arrowhead": 0,
           "arrowwidth": 1
          },
          "autotypenumbers": "strict",
          "coloraxis": {
           "colorbar": {
            "outlinewidth": 0,
            "ticks": ""
           }
          },
          "colorscale": {
           "diverging": [
            [
             0,
             "#8e0152"
            ],
            [
             0.1,
             "#c51b7d"
            ],
            [
             0.2,
             "#de77ae"
            ],
            [
             0.3,
             "#f1b6da"
            ],
            [
             0.4,
             "#fde0ef"
            ],
            [
             0.5,
             "#f7f7f7"
            ],
            [
             0.6,
             "#e6f5d0"
            ],
            [
             0.7,
             "#b8e186"
            ],
            [
             0.8,
             "#7fbc41"
            ],
            [
             0.9,
             "#4d9221"
            ],
            [
             1,
             "#276419"
            ]
           ],
           "sequential": [
            [
             0,
             "#0d0887"
            ],
            [
             0.1111111111111111,
             "#46039f"
            ],
            [
             0.2222222222222222,
             "#7201a8"
            ],
            [
             0.3333333333333333,
             "#9c179e"
            ],
            [
             0.4444444444444444,
             "#bd3786"
            ],
            [
             0.5555555555555556,
             "#d8576b"
            ],
            [
             0.6666666666666666,
             "#ed7953"
            ],
            [
             0.7777777777777778,
             "#fb9f3a"
            ],
            [
             0.8888888888888888,
             "#fdca26"
            ],
            [
             1,
             "#f0f921"
            ]
           ],
           "sequentialminus": [
            [
             0,
             "#0d0887"
            ],
            [
             0.1111111111111111,
             "#46039f"
            ],
            [
             0.2222222222222222,
             "#7201a8"
            ],
            [
             0.3333333333333333,
             "#9c179e"
            ],
            [
             0.4444444444444444,
             "#bd3786"
            ],
            [
             0.5555555555555556,
             "#d8576b"
            ],
            [
             0.6666666666666666,
             "#ed7953"
            ],
            [
             0.7777777777777778,
             "#fb9f3a"
            ],
            [
             0.8888888888888888,
             "#fdca26"
            ],
            [
             1,
             "#f0f921"
            ]
           ]
          },
          "colorway": [
           "#636efa",
           "#EF553B",
           "#00cc96",
           "#ab63fa",
           "#FFA15A",
           "#19d3f3",
           "#FF6692",
           "#B6E880",
           "#FF97FF",
           "#FECB52"
          ],
          "font": {
           "color": "#2a3f5f"
          },
          "geo": {
           "bgcolor": "white",
           "lakecolor": "white",
           "landcolor": "#E5ECF6",
           "showlakes": true,
           "showland": true,
           "subunitcolor": "white"
          },
          "hoverlabel": {
           "align": "left"
          },
          "hovermode": "closest",
          "mapbox": {
           "style": "light"
          },
          "paper_bgcolor": "white",
          "plot_bgcolor": "#E5ECF6",
          "polar": {
           "angularaxis": {
            "gridcolor": "white",
            "linecolor": "white",
            "ticks": ""
           },
           "bgcolor": "#E5ECF6",
           "radialaxis": {
            "gridcolor": "white",
            "linecolor": "white",
            "ticks": ""
           }
          },
          "scene": {
           "xaxis": {
            "backgroundcolor": "#E5ECF6",
            "gridcolor": "white",
            "gridwidth": 2,
            "linecolor": "white",
            "showbackground": true,
            "ticks": "",
            "zerolinecolor": "white"
           },
           "yaxis": {
            "backgroundcolor": "#E5ECF6",
            "gridcolor": "white",
            "gridwidth": 2,
            "linecolor": "white",
            "showbackground": true,
            "ticks": "",
            "zerolinecolor": "white"
           },
           "zaxis": {
            "backgroundcolor": "#E5ECF6",
            "gridcolor": "white",
            "gridwidth": 2,
            "linecolor": "white",
            "showbackground": true,
            "ticks": "",
            "zerolinecolor": "white"
           }
          },
          "shapedefaults": {
           "line": {
            "color": "#2a3f5f"
           }
          },
          "ternary": {
           "aaxis": {
            "gridcolor": "white",
            "linecolor": "white",
            "ticks": ""
           },
           "baxis": {
            "gridcolor": "white",
            "linecolor": "white",
            "ticks": ""
           },
           "bgcolor": "#E5ECF6",
           "caxis": {
            "gridcolor": "white",
            "linecolor": "white",
            "ticks": ""
           }
          },
          "title": {
           "x": 0.05
          },
          "xaxis": {
           "automargin": true,
           "gridcolor": "white",
           "linecolor": "white",
           "ticks": "",
           "title": {
            "standoff": 15
           },
           "zerolinecolor": "white",
           "zerolinewidth": 2
          },
          "yaxis": {
           "automargin": true,
           "gridcolor": "white",
           "linecolor": "white",
           "ticks": "",
           "title": {
            "standoff": 15
           },
           "zerolinecolor": "white",
           "zerolinewidth": 2
          }
         }
        },
        "title": {
         "text": "Зависимость частоты покупок от суммы покупок с учетом срока лояльности"
        },
        "xaxis": {
         "anchor": "y",
         "domain": [
          0,
          1
         ],
         "title": {
          "text": "Частота покупок"
         }
        },
        "yaxis": {
         "anchor": "x",
         "domain": [
          0,
          1
         ],
         "title": {
          "text": "Сумма покупок"
         }
        }
       }
      }
     },
     "metadata": {},
     "output_type": "display_data"
    }
   ],
   "source": [
    "fig = px.scatter(df, \n",
    "                 x='purchase_frequency', \n",
    "                 y='purchase_amount',\n",
    "                 color='loyalty_score',\n",
    "                 size='annual_income',\n",
    "                 hover_name='user_id',\n",
    "                 title='Зависимость частоты покупок от суммы покупок с учетом срока лояльности',\n",
    "                 labels={'purchase_frequency': 'Частота покупок',\n",
    "                         'purchase_amount': 'Сумма покупок',\n",
    "                         'loyalty_score': 'Срока лояльности'})\n",
    "\n",
    "fig.show()"
   ]
  }
 ],
 "metadata": {
  "kernelspec": {
   "display_name": "Python 3 (ipykernel)",
   "language": "python",
   "name": "python3"
  },
  "language_info": {
   "codemirror_mode": {
    "name": "ipython",
    "version": 3
   },
   "file_extension": ".py",
   "mimetype": "text/x-python",
   "name": "python",
   "nbconvert_exporter": "python",
   "pygments_lexer": "ipython3",
   "version": "3.12.4"
  }
 },
 "nbformat": 4,
 "nbformat_minor": 5
}
